{
 "cells": [
  {
   "cell_type": "code",
   "execution_count": 1,
   "metadata": {},
   "outputs": [
    {
     "name": "stderr",
     "output_type": "stream",
     "text": [
      "/home/faisal/anaconda3/lib/python3.10/site-packages/tqdm/auto.py:21: TqdmWarning: IProgress not found. Please update jupyter and ipywidgets. See https://ipywidgets.readthedocs.io/en/stable/user_install.html\n",
      "  from .autonotebook import tqdm as notebook_tqdm\n"
     ]
    }
   ],
   "source": [
    "import torch.nn as nn\n",
    "import torch\n",
    "import torch.nn.functional as F\n",
    "from tqdm import tqdm\n",
    "\n",
    "class MaqamCNN1(nn.Module):\n",
    "    def __init__(self):\n",
    "        super(MaqamCNN1, self).__init__()\n",
    "        \n",
    "        self.conv1 = nn.Conv2d(in_channels=30, out_channels=64, kernel_size=(3,3), padding=\"same\")\n",
    "        self.bn1 = nn.BatchNorm2d(64)\n",
    "        self.pool1 = nn.MaxPool2d(kernel_size=(1,1))\n",
    "        self.dropout1 = nn.Dropout(p=0.1)\n",
    "        \n",
    "        self.conv2 = nn.Conv2d(in_channels=64, out_channels=64, kernel_size=(1,1), padding=\"valid\")\n",
    "        self.bn2 = nn.BatchNorm2d(64)\n",
    "        self.pool2 = nn.MaxPool2d(kernel_size=(1,1))\n",
    "        self.dropout2 = nn.Dropout(p=0.2)\n",
    "\n",
    "        self.fc1 = nn.Linear(60032, 512)\n",
    "        self.dropout3 = nn.Dropout(p=0.2)\n",
    "\n",
    "        self.fc2 = nn.Linear(512, 265)\n",
    "        self.dropout4 = nn.Dropout(p=0.2)\n",
    "\n",
    "        self.fc3 = nn.Linear(265, 100)\n",
    "        self.dropout5 = nn.Dropout(p=0.2)\n",
    "\n",
    "    def forward(self, x):\n",
    "        x = x.unsqueeze(-1)\n",
    "        x = F.relu(self.conv1(x))\n",
    "        x = self.bn1(x)\n",
    "        x = self.pool1(x)\n",
    "        x = self.dropout1(x)\n",
    "        \n",
    "        x = F.relu(self.conv2(x))\n",
    "        x = self.bn2(x)\n",
    "        x = self.pool2(x)\n",
    "        x = self.dropout2(x)\n",
    "        \n",
    "        x = x.view(x.size(0), -1)\n",
    "        \n",
    "        x = F.relu(self.fc1(x))\n",
    "        x = self.dropout3(x)\n",
    "        \n",
    "        x = F.relu(self.fc2(x))\n",
    "        x = self.dropout4(x)\n",
    "\n",
    "        x = self.fc3(x)\n",
    "        x = self.dropout5(x)\n",
    "        x = F.softmax(x, dim=1)\n",
    "        return x\n"
   ]
  },
  {
   "cell_type": "code",
   "execution_count": 2,
   "metadata": {},
   "outputs": [],
   "source": [
    "class CNN_LSTM(nn.Module):\n",
    "    def __init__(self):\n",
    "        super(CNN_LSTM, self).__init__()\n",
    "        \n",
    "        self.conv1 = nn.Conv2d(in_channels=20, out_channels=64, kernel_size=(3,3), padding=\"same\")\n",
    "        self.bn1 = nn.BatchNorm2d(64)\n",
    "        self.pool1 = nn.MaxPool2d(kernel_size=(1,1))\n",
    "        self.dropout1 = nn.Dropout(p=0.1)\n",
    "        \n",
    "        self.conv2 = nn.Conv2d(in_channels=64, out_channels=64, kernel_size=(1,1), padding=\"valid\")\n",
    "        self.bn2 = nn.BatchNorm2d(64)\n",
    "        self.pool2 = nn.MaxPool2d(kernel_size=(1,1))\n",
    "        self.dropout2 = nn.Dropout(p=0.2)\n",
    "\n",
    "        self.lstm = nn.LSTM(input_size=64, hidden_size=512, num_layers=1, batch_first=True)\n",
    "        self.dropout6 = nn.Dropout(p=0.25)\n",
    "\n",
    "        self.fc1 = nn.Linear(512, 512)\n",
    "        self.dropout3 = nn.Dropout(p=0.2)\n",
    "\n",
    "        self.fc2 = nn.Linear(512, 265)\n",
    "        self.dropout4 = nn.Dropout(p=0.2)\n",
    "\n",
    "        self.fc3 = nn.Linear(265, 128)\n",
    "        self.dropout5 = nn.Dropout(p=0.2)\n",
    "\n",
    "    def forward(self, x):\n",
    "        x = x.unsqueeze(-1)\n",
    "        x = F.relu(self.conv1(x))\n",
    "        x = self.bn1(x)\n",
    "        x = self.pool1(x)\n",
    "        x = self.dropout1(x)\n",
    "        \n",
    "        x = F.relu(self.conv2(x))\n",
    "        x = self.bn2(x)\n",
    "        x = self.pool2(x)\n",
    "        x = self.dropout2(x)\n",
    "\n",
    "        x = x.permute(0, 2, 1)\n",
    "        x, _ = self.lstm(x)\n",
    "\n",
    "        x = self.fc1(x[:, -1, :])\n",
    "        \n",
    "        x = F.relu(self.fc1(x))\n",
    "        x = self.dropout3(x)\n",
    "        \n",
    "        x = F.relu(self.fc2(x))\n",
    "        x = self.dropout4(x)\n",
    "\n",
    "        x = self.fc3(x)\n",
    "        x = self.dropout5(x)\n",
    "        x = F.softmax(x, dim=1)\n",
    "        return x\n"
   ]
  },
  {
   "cell_type": "code",
   "execution_count": 3,
   "metadata": {},
   "outputs": [],
   "source": [
    "import os\n",
    "import torchaudio\n",
    "import torch\n",
    "from torch.utils.data import Dataset\n",
    "import torch.nn as nn\n",
    "import torch.nn.functional as F\n",
    "import librosa\n",
    "import numpy as np\n",
    "import pickle\n",
    "from sklearn.model_selection import train_test_split\n",
    "\n",
    "class MaqamDataset(Dataset):\n",
    "    def __init__(self, mode='train', transform=None, cache_file='dataset1.pkl', test_size=0.2):\n",
    "        self.mode = mode\n",
    "        self.transform = transform\n",
    "        if mode == 'train' or mode == 'val':\n",
    "            self.data_dir = \"/home/faisal/Desktop/MAQAMAT/Fullynewdataset\"\n",
    "        else:\n",
    "            self.data_dir = \"/home/faisal/Desktop/MAQAMAT/Test1\"\n",
    "        self.maqams = ['Ajam', 'Bayat', 'Hijaz', 'Kurd', 'Nahawand', 'Rast', 'Saba', 'Seka']\n",
    "        self.audio_list = self._load_audio_list()\n",
    "        \n",
    "        # Split the dataset into training and validation sets using train_test_split method\n",
    "        train_list, val_list = train_test_split(self.audio_list, test_size=test_size, random_state=42, stratify=[label for (_, label) in self.audio_list])\n",
    "        self.audio_list = train_list if self.mode == 'train' else val_list\n",
    "        \n",
    "        self.cache_file = cache_file\n",
    "        self.data = self._load_data_from_cache_or_compute()\n",
    "        # self.pad_to_max_length(1440000)\n",
    "\n",
    "    def _load_audio_list(self):\n",
    "        audio_list = []\n",
    "        for i, maqam in enumerate(self.maqams):\n",
    "            label_dir = os.path.join(self.data_dir, maqam)\n",
    "            audio_list += [(os.path.join(label_dir, audio_name), i) for audio_name in os.listdir(label_dir) if audio_name.endswith('.wav')]\n",
    "        return audio_list\n",
    "\n",
    "    def __len__(self):\n",
    "        return len(self.audio_list)\n",
    "\n",
    "    def __getitem__(self, idx):\n",
    "        audio_path, label_idx = self.audio_list[idx]\n",
    "        waveform, sample_rate = torchaudio.load(audio_path)\n",
    "        waveform = waveform[0] # only keep the first channel\n",
    "        if self.transform:\n",
    "            waveform = self.transform(waveform)\n",
    "        mfcc = self.compute_mfcc(waveform).T\n",
    "        mfcc = torch.from_numpy(mfcc).float()\n",
    "        return mfcc, label_idx\n",
    "    \n",
    "    def pad_to_max_length(self, max_length):\n",
    "        for i in range(len(self)):\n",
    "            padded_data = F.pad(self.data[i][0], (0, max_length - len(self.data[i][0])), 'constant', 0)\n",
    "            self.data[i] = (padded_data, self.data[i][1])\n",
    "\n",
    "    def compute_mfcc(self, waveform):\n",
    "        # Compute the MFCC of the waveform\n",
    "        n_fft = 4096\n",
    "        hop_length = 512\n",
    "        n_mels = 128\n",
    "        sr = 16000\n",
    "        n_mfcc = 30\n",
    "        waveform = waveform.numpy()  # Convert PyTorch tensor to NumPy array\n",
    "        mfcc = librosa.feature.mfcc(y=waveform, sr=sr, n_fft=n_fft, hop_length=hop_length, n_mels=n_mels, n_mfcc=n_mfcc)\n",
    "        mfcc = np.transpose(mfcc)\n",
    "        mfcc = mfcc.astype(np.float32)  # Ensure data type is compatible with np.issubdtype()\n",
    "        return mfcc\n",
    "    \n",
    "    def _load_data_from_cache_or_compute(self):\n",
    "        if os.path.isfile(self.cache_file):\n",
    "            print(f'Loading data from cache file: {self.cache_file}')\n",
    "            with open(self.cache_file, 'rb') as f:\n",
    "                return pickle.load(f)\n",
    "        else:\n",
    "            print(f'Cache file not found. Computing data from scratch and saving to cache file: {self.cache_file}')\n",
    "            data = [self.__getitem__(i) for i in range(len(self))]\n",
    "            with open(self.cache_file, 'wb') as f:\n",
    "                pickle.dump(data, f)\n",
    "            return data\n"
   ]
  },
  {
   "cell_type": "code",
   "execution_count": 4,
   "metadata": {},
   "outputs": [],
   "source": [
    "import torch\n",
    "from torch.utils.data import DataLoader\n",
    "import librosa\n",
    "import matplotlib.pyplot as plt\n",
    "import torch.nn.functional as F\n",
    "from torch.nn.utils.rnn import pad_sequence\n",
    "\n",
    "max_length = 1440000\n",
    "\n",
    "def MFCC_plot(mfcc):\n",
    "        plt.figure(figsize=(10, 4))\n",
    "        mfcc = mfcc.detach().numpy()\n",
    "        mfcc = mfcc.mean(axis=2).T\n",
    "        librosa.display.specshow(mfcc, x_axis='time')\n",
    "        plt.colorbar()\n",
    "        plt.title('MFCC')\n",
    "        plt.tight_layout()\n",
    "        plt.show()\n",
    "\n",
    "def custom_collate(batch):\n",
    "    inputs, labels = zip(*batch)\n",
    "    max_frames = max([m.shape[1] for m in inputs])\n",
    "    padded_mfcc = []\n",
    "    for m in inputs:\n",
    "        pad_width = ((0, 0), (0, max_frames - m.shape[1]))\n",
    "        padded_m = np.pad(m, pad_width=pad_width, mode='constant')\n",
    "        padded_mfcc.append(padded_m)\n",
    "\n",
    "    padded_mfcc = torch.from_numpy(np.array(padded_mfcc)).float()\n",
    "    labels = torch.tensor(labels)\n",
    "    return padded_mfcc, labels\n",
    "\n"
   ]
  },
  {
   "cell_type": "code",
   "execution_count": 5,
   "metadata": {},
   "outputs": [
    {
     "name": "stdout",
     "output_type": "stream",
     "text": [
      "Loading data from cache file: dataset1.pkl\n",
      "Loading data from cache file: dataset1.pkl\n"
     ]
    }
   ],
   "source": [
    "# Define training and validation datasets with specified test size\n",
    "train_dataset = MaqamDataset(mode='train', test_size=0.2)\n",
    "val_dataset = MaqamDataset(mode='val', test_size=0.2)\n",
    "\n",
    "# Define training and validation data loaders\n",
    "batch_size = 32\n",
    "train_loader = DataLoader(train_dataset, batch_size=batch_size, shuffle=True, collate_fn=custom_collate)\n",
    "val_loader = DataLoader(val_dataset, batch_size=batch_size, shuffle=False, collate_fn=custom_collate)"
   ]
  },
  {
   "cell_type": "code",
   "execution_count": 6,
   "metadata": {},
   "outputs": [],
   "source": [
    "torch.cuda.init()\n",
    "torch.cuda.empty_cache()"
   ]
  },
  {
   "cell_type": "code",
   "execution_count": 7,
   "metadata": {},
   "outputs": [
    {
     "name": "stdout",
     "output_type": "stream",
     "text": [
      "Starting training\n"
     ]
    },
    {
     "name": "stderr",
     "output_type": "stream",
     "text": [
      "                                                                                     \r"
     ]
    },
    {
     "name": "stdout",
     "output_type": "stream",
     "text": [
      "Epoch 1/40: Train Loss=4.49632, Train Accuracy=12.86550%\n"
     ]
    },
    {
     "name": "stderr",
     "output_type": "stream",
     "text": [
      "                                                                                                         \r"
     ]
    },
    {
     "name": "stdout",
     "output_type": "stream",
     "text": [
      "Epoch 01: val_loss=4.48991, val_acc=13.22957%\n"
     ]
    },
    {
     "name": "stderr",
     "output_type": "stream",
     "text": [
      "                                                                                     \r"
     ]
    },
    {
     "name": "stdout",
     "output_type": "stream",
     "text": [
      "Epoch 2/40: Train Loss=4.49341, Train Accuracy=13.25536%\n"
     ]
    },
    {
     "name": "stderr",
     "output_type": "stream",
     "text": [
      "                                                                                                         \r"
     ]
    },
    {
     "name": "stdout",
     "output_type": "stream",
     "text": [
      "Epoch 02: val_loss=4.48991, val_acc=13.22957%\n"
     ]
    },
    {
     "name": "stderr",
     "output_type": "stream",
     "text": [
      "Epoch 3/40:  64%|██████▎   | 21/33 [00:36<00:22,  1.85s/it, Loss=4.48, Accuracy=14.6]"
     ]
    }
   ],
   "source": [
    "torch.cuda.init()\n",
    "torch.cuda.empty_cache()\n",
    "# Initialize model and define loss function and optimizer\n",
    "device = torch.device(\"cuda:0\" if torch.cuda.is_available() else \"cpu\")\n",
    "\n",
    "model = MaqamCNN1().to(device)\n",
    "criterion = torch.nn.CrossEntropyLoss()\n",
    "optimizer = torch.optim.Adam(model.parameters(), lr=0.01)\n",
    "# Train the model for a specified number of epochs\n",
    "num_epochs = 40\n",
    "print(\"Starting training\")\n",
    "for epoch in range(num_epochs):\n",
    "    # Set the model to training mode for the current epoch\n",
    "    model.train()\n",
    "\n",
    "    # Create a progress bar for the train_loader loop\n",
    "    train_loader_tqdm = tqdm(train_loader, desc=f'Epoch {epoch + 1}/{num_epochs}', leave=False)\n",
    "\n",
    "    # Initialize variables to track the loss and number of correct predictions\n",
    "    running_loss = 0.0\n",
    "    correct_predictions = 0\n",
    "    total_samples = 0\n",
    "\n",
    "    for i, data in enumerate(train_loader_tqdm):\n",
    "        inputs, targets = data  # MFCCs and labels\n",
    "        targets = targets.to(device)\n",
    "        inputs = inputs.cuda()\n",
    "        optimizer.zero_grad()\n",
    "        outputs = model(inputs)\n",
    "        loss = criterion(outputs, targets)\n",
    "        loss.backward()\n",
    "        optimizer.step()\n",
    "\n",
    "        # Update the loss and accuracy metrics\n",
    "        running_loss += loss.item()\n",
    "        _, predicted_labels = torch.max(outputs, 1)\n",
    "        correct_predictions += (predicted_labels == targets).sum().item()\n",
    "        total_samples += len(targets)\n",
    "\n",
    "        # Update the progress bar description\n",
    "        train_loader_tqdm.set_postfix({'Loss': running_loss / (i + 1), 'Accuracy': 100 * correct_predictions / total_samples})\n",
    "\n",
    "    # Calculate and print average loss and accuracy for the current epoch\n",
    "    avg_loss = running_loss / len(train_loader)\n",
    "    avg_accuracy = 100 * correct_predictions / total_samples\n",
    "    print(f'Epoch {epoch + 1}/{num_epochs}: Train Loss={avg_loss:.5f}, Train Accuracy={avg_accuracy:.5f}%')\n",
    "\n",
    "    # Validation loop\n",
    "    model.eval()\n",
    "    with torch.no_grad():\n",
    "        val_loss = 0.0\n",
    "        total_correct = 0\n",
    "        total_samples = 0\n",
    "\n",
    "        # Create a progress bar for the val_loader loop\n",
    "        val_loader_tqdm = tqdm(val_loader, desc='Validation', leave=False)\n",
    "\n",
    "        for data in val_loader_tqdm:\n",
    "            inputs, targets = data  # MFCCs and labels\n",
    "            targets = targets.to(device)\n",
    "            inputs = inputs.cuda()\n",
    "            outputs = model(inputs)\n",
    "            val_loss += criterion(outputs, targets).item() * len(targets)\n",
    "\n",
    "            _, predicted_labels = torch.max(outputs, 1)\n",
    "            total_correct += (predicted_labels == targets).sum().item()\n",
    "            total_samples += len(targets)\n",
    "\n",
    "            # Update the progress bar description\n",
    "            val_loader_tqdm.set_postfix({'Validation Loss': val_loss / total_samples, 'Validation Accuracy': 100 * total_correct / total_samples})\n",
    "\n",
    "        val_loss /= len(val_dataset)\n",
    "        val_acc = float(total_correct) / total_samples\n",
    "\n",
    "    print(f'Epoch {epoch + 1}/{num_epochs} validation: val_loss={val_loss:.5f}, val_acc={100*val_acc:.5f}%')\n",
    "\n",
    "# Save the trained model\n",
    "torch.save(model.state_dict(), 'readerstest.pth')"
   ]
  },
  {
   "cell_type": "markdown",
   "metadata": {},
   "source": []
  },
  {
   "cell_type": "code",
   "execution_count": null,
   "metadata": {},
   "outputs": [],
   "source": [
    "# Test the model on new data\n",
    "test_dataset = MaqamDataset(mode='test')\n",
    "test_loader = DataLoader(test_dataset, batch_size=batch_size, shuffle=False, collate_fn=custom_collate)\n",
    "\n",
    "model.eval()\n",
    "with torch.no_grad():\n",
    "    total_correct = 0\n",
    "    total_samples = 0\n",
    "    for data in test_loader:\n",
    "        inputs, targets = data\n",
    "        targets = targets.to(device)\n",
    "        inputs = inputs.cuda()\n",
    "        outputs = model(inputs)\n",
    "        _, predicted_labels = torch.max(outputs, 1)\n",
    "        total_correct += (predicted_labels == targets).sum().item()\n",
    "        total_samples += len(targets)\n",
    "\n",
    "    test_acc = float(total_correct) / total_samples\n",
    "\n",
    "print(f'Test accuracy: {test_acc:.5f}')"
   ]
  }
 ],
 "metadata": {
  "kernelspec": {
   "display_name": "base",
   "language": "python",
   "name": "python3"
  },
  "language_info": {
   "codemirror_mode": {
    "name": "ipython",
    "version": 3
   },
   "file_extension": ".py",
   "mimetype": "text/x-python",
   "name": "python",
   "nbconvert_exporter": "python",
   "pygments_lexer": "ipython3",
   "version": "3.10.9"
  },
  "orig_nbformat": 4
 },
 "nbformat": 4,
 "nbformat_minor": 2
}
