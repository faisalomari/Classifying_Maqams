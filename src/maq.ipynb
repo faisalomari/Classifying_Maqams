{
 "cells": [
  {
   "cell_type": "code",
   "execution_count": 1,
   "metadata": {},
   "outputs": [
    {
     "name": "stderr",
     "output_type": "stream",
     "text": [
      "/home/faisal/anaconda3/lib/python3.10/site-packages/tqdm/auto.py:21: TqdmWarning: IProgress not found. Please update jupyter and ipywidgets. See https://ipywidgets.readthedocs.io/en/stable/user_install.html\n",
      "  from .autonotebook import tqdm as notebook_tqdm\n"
     ]
    }
   ],
   "source": [
    "import torch.nn as nn\n",
    "import torch\n",
    "import torch.nn.functional as F\n",
    "from tqdm import tqdm\n",
    "\n",
    "class MaqamCNN1(nn.Module):\n",
    "    def __init__(self):\n",
    "        super(MaqamCNN1, self).__init__()\n",
    "        \n",
    "        self.conv1 = nn.Conv2d(in_channels=30, out_channels=36, kernel_size=3, stride=1, padding=1)\n",
    "        self.bn1 = nn.BatchNorm2d(36)\n",
    "        self.pool1 = nn.MaxPool2d(kernel_size=1, stride=2)\n",
    "        self.dropout1 = nn.Dropout(p=0.2)\n",
    "        \n",
    "        self.conv2 = nn.Conv2d(in_channels=36, out_channels=20, kernel_size=3, stride=1, padding=1)\n",
    "        self.bn2 = nn.BatchNorm2d(20)\n",
    "        self.pool2 = nn.MaxPool2d(kernel_size=1, stride=2)\n",
    "        self.dropout2 = nn.Dropout(p=0.1)\n",
    "\n",
    "        self.fc1 = nn.Linear(8460, 256)\n",
    "        self.dropout3 = nn.Dropout(p=0.1)\n",
    "\n",
    "        self.fc2 = nn.Linear(512, 265)\n",
    "        self.dropout4 = nn.Dropout(p=0.1)\n",
    "\n",
    "        self.fc3 = nn.Linear(256, 128)\n",
    "        self.dropout5 = nn.Dropout(p=0.1)\n",
    "\n",
    "        self.fc4 = nn.Linear(128, 8)\n",
    "        self.relu = nn.ReLU()\n",
    "\n",
    "    def forward(self, x):\n",
    "        x = x.unsqueeze(-1)\n",
    "        x = F.relu(self.conv1(x))\n",
    "        x = self.bn1(x)\n",
    "        x = self.pool1(x)\n",
    "        x = self.dropout1(x)\n",
    "        \n",
    "        # x = F.relu(self.conv2(x))\n",
    "        # x = self.bn2(x)\n",
    "        # x = self.pool2(x)\n",
    "        # x = self.dropout2(x)\n",
    "        \n",
    "        x = x.view(x.size(0), -1)\n",
    "        \n",
    "        x = F.relu(self.fc1(x))\n",
    "        x = self.dropout3(x)\n",
    "        \n",
    "        # x = F.relu(self.fc2(x))\n",
    "        # x = self.dropout4(x)\n",
    "\n",
    "        x = self.fc3(x)\n",
    "        x = self.dropout5(x)\n",
    "\n",
    "        x = self.fc4(x)\n",
    "        x = F.softmax(x, dim=1)\n",
    "        return x\n"
   ]
  },
  {
   "cell_type": "code",
   "execution_count": 2,
   "metadata": {},
   "outputs": [],
   "source": [
    "class CNN_LSTM(nn.Module):\n",
    "    def __init__(self):\n",
    "        super(CNN_LSTM, self).__init__()\n",
    "        \n",
    "        self.conv1 = nn.Conv2d(in_channels=30, out_channels=64, kernel_size=(3,3), padding=\"same\")\n",
    "        self.bn1 = nn.BatchNorm2d(64)\n",
    "        self.pool1 = nn.MaxPool2d(kernel_size=(1,1))\n",
    "        self.dropout1 = nn.Dropout(p=0.1)\n",
    "        \n",
    "        self.conv2 = nn.Conv2d(in_channels=64, out_channels=64, kernel_size=(1,1), padding=\"valid\")\n",
    "        self.bn2 = nn.BatchNorm2d(64)\n",
    "        self.pool2 = nn.MaxPool2d(kernel_size=(1,1))\n",
    "        self.dropout2 = nn.Dropout(p=0.2)\n",
    "\n",
    "        self.lstm = nn.LSTM(input_size=64, hidden_size=128, num_layers=2, batch_first=True)\n",
    "        self.dropout6 = nn.Dropout(p=0.25)\n",
    "\n",
    "        self.fc1 = nn.Linear(128, 64)\n",
    "        self.dropout3 = nn.Dropout(p=0.2)\n",
    "\n",
    "        self.fc2 = nn.Linear(64, 32)\n",
    "        self.dropout4 = nn.Dropout(p=0.2)\n",
    "\n",
    "        self.fc3 = nn.Linear(32, 8)\n",
    "        self.dropout5 = nn.Dropout(p=0.2)\n",
    "\n",
    "    def forward(self, x):\n",
    "        x = x.unsqueeze(-1)\n",
    "        x = F.relu(self.conv1(x))\n",
    "        x = self.bn1(x)\n",
    "        x = self.pool1(x)\n",
    "        x = self.dropout1(x)\n",
    "        \n",
    "        x = F.relu(self.conv2(x))\n",
    "        x = self.bn2(x)\n",
    "        x = self.pool2(x)\n",
    "        x = self.dropout2(x)\n",
    "\n",
    "        # Reshape the CNN output to match LSTM input\n",
    "        batch_size, channels, height, width = x.size()\n",
    "        x = x.view(batch_size, channels, height * width)\n",
    "        x = x.permute(0, 2, 1)  # Permute to (batch_size, sequence_length, input_size)\n",
    "\n",
    "        x, _ = self.lstm(x)\n",
    "\n",
    "        x = self.fc1(x[:, -1, :])\n",
    "        \n",
    "        x = F.relu(self.fc2(x))\n",
    "        x = self.dropout3(x)\n",
    "        \n",
    "        x = F.relu(self.fc3(x))\n",
    "        # x = self.dropout4(x)\n",
    "\n",
    "        # x = self.fc3(x)\n",
    "        # x = self.dropout5(x)\n",
    "        x = F.softmax(x, dim=1)\n",
    "        return x\n"
   ]
  },
  {
   "cell_type": "code",
   "execution_count": 3,
   "metadata": {},
   "outputs": [],
   "source": [
    "import torch.nn as nn\n",
    "import torch.nn.functional as F\n",
    "\n",
    "class MFCC_LSTM(nn.Module):\n",
    "    def __init__(self):\n",
    "        super(MFCC_LSTM, self).__init__()\n",
    "        \n",
    "        self.lstm = nn.LSTM(input_size=30, hidden_size=256, num_layers=1, batch_first=True)\n",
    "        \n",
    "        self.fc1 = nn.Linear(256, 64)\n",
    "        self.dropout1 = nn.Dropout(p=0.2)\n",
    "\n",
    "        self.fc2 = nn.Linear(256, 8)\n",
    "\n",
    "    def forward(self, x):\n",
    "        x = torch.transpose(x, 1, 2)\n",
    "        # print(x.shape)\n",
    "        _, (hn, cn) = self.lstm(x)\n",
    "\n",
    "        x = hn[-1]  # Take the last hidden state of the LSTM\n",
    "        \n",
    "        # x = F.relu(self.fc1(x))\n",
    "        # x = self.dropout1(x)\n",
    "        \n",
    "        x = self.fc2(x)\n",
    "        x = F.softmax(x, dim=1)\n",
    "        return x\n"
   ]
  },
  {
   "cell_type": "code",
   "execution_count": 4,
   "metadata": {},
   "outputs": [],
   "source": [
    "import torch.nn as nn\n",
    "import torch.nn.functional as F\n",
    "\n",
    "class MFCC_LSTM2(nn.Module):\n",
    "    def __init__(self):\n",
    "        super(MFCC_LSTM2, self).__init__()\n",
    "        \n",
    "        self.lstm1 = nn.LSTM(input_size=30, hidden_size=256, num_layers=1, batch_first=True)\n",
    "        self.dropout1 = nn.Dropout(p=0.2)\n",
    "\n",
    "        \n",
    "        self.fc4 = nn.Linear(256, 8)\n",
    "\n",
    "    def forward(self, x):\n",
    "        x = torch.transpose(x, 1, 2)\n",
    "        # Apply the first LSTM layer\n",
    "        x, _ = self.lstm1(x)\n",
    "        x = self.dropout1(x)\n",
    "        \n",
    "        # Take the last hidden state of the last LSTM layer\n",
    "        x = x[:, -1, :]\n",
    "        \n",
    "        x = self.fc4(x)\n",
    "        x = F.softmax(x, dim=1)\n",
    "        \n",
    "        return x\n"
   ]
  },
  {
   "cell_type": "code",
   "execution_count": 5,
   "metadata": {},
   "outputs": [],
   "source": [
    "class ANNModel(nn.Module):\n",
    "    def __init__(self):\n",
    "        super(ANNModel, self).__init__()\n",
    "\n",
    "        self.fc1 = nn.Linear(14070, 1024)\n",
    "        self.bn1 = nn.BatchNorm1d(1024)\n",
    "        self.dropout1 = nn.Dropout(p=0.2)\n",
    "        \n",
    "        self.fc2 = nn.Linear(1024, 512)\n",
    "        self.bn2 = nn.BatchNorm1d(512)\n",
    "        self.dropout2 = nn.Dropout(p=0.1)\n",
    "        \n",
    "        self.fc3 = nn.Linear(512, 256)\n",
    "        self.bn3 = nn.BatchNorm1d(256)\n",
    "        self.dropout3 = nn.Dropout(p=0.1)\n",
    "        \n",
    "        self.fc4 = nn.Linear(256, 128)\n",
    "        self.bn4 = nn.BatchNorm1d(128)\n",
    "        self.dropout4 = nn.Dropout(p=0.0)\n",
    "        \n",
    "        self.fc5 = nn.Linear(128, 64)\n",
    "        self.bn5 = nn.BatchNorm1d(64)\n",
    "        self.dropout5 = nn.Dropout(p=0.0)\n",
    "\n",
    "        self.output_layer = nn.Linear(64, 8)\n",
    "\n",
    "    def forward(self, x):\n",
    "        # Flatten the input data to [batch_size, 30 * 469]\n",
    "        x = x.view(x.size(0), -1)\n",
    "        \n",
    "        x = F.relu((self.fc1(x)))\n",
    "        x = self.bn1(x)\n",
    "        x = self.dropout1(x)\n",
    "\n",
    "        x = F.relu((self.fc2(x)))\n",
    "        x = self.bn2(x)\n",
    "        x = self.dropout2(x)\n",
    "\n",
    "        x = F.relu((self.fc3(x)))\n",
    "        x = self.bn3(x)\n",
    "        x = self.dropout3(x)\n",
    "\n",
    "        x = F.relu((self.fc4(x)))\n",
    "        x = self.bn4(x)\n",
    "        x = self.dropout4(x)\n",
    "\n",
    "        x = F.relu((self.fc5(x)))\n",
    "        x = self.bn5(x)\n",
    "        x = self.dropout5(x)\n",
    "\n",
    "        x = self.output_layer(x)\n",
    "        x = F.softmax(x, dim=1)\n",
    "        return x\n"
   ]
  },
  {
   "cell_type": "code",
   "execution_count": 6,
   "metadata": {},
   "outputs": [],
   "source": [
    "import os\n",
    "import torchaudio\n",
    "import torch\n",
    "from torch.utils.data import Dataset\n",
    "import torch.nn as nn\n",
    "import torch.nn.functional as F\n",
    "import librosa\n",
    "import numpy as np\n",
    "import pickle\n",
    "from sklearn.model_selection import train_test_split\n",
    "\n",
    "class MaqamDataset(Dataset):\n",
    "    def __init__(self, mode='train', transform=None, cache_file='1.pkl', test_size=0.2, dir = \"/home/faisal/Desktop/MAQAMAT/Fullynewdataset\"):\n",
    "        self.mode = mode\n",
    "        self.transform = transform\n",
    "        if mode == 'train' or mode == 'val':\n",
    "            self.data_dir = dir\n",
    "        else:\n",
    "            self.data_dir = \"/home/faisal/Desktop/MAQAMAT/Test1\"\n",
    "        #['Ajam', 'Bayat', 'Hijaz', 'Kurd', 'Nahawand', 'Rast', 'Saba', 'Seka']\n",
    "        self.maqams = ['Ajam', 'Bayat', 'Hijaz', 'Kurd', 'Nahawand', 'Rast', 'Saba', 'Seka']\n",
    "        self.audio_list = self._load_audio_list()\n",
    "        \n",
    "        # Split the dataset into training and validation sets using train_test_split method\n",
    "        if(self.mode == 'train'):\n",
    "            train_list, val_list = train_test_split(self.audio_list, test_size=test_size, random_state=42, stratify=[label for (_, label) in self.audio_list])\n",
    "            self.audio_list = train_list\n",
    "        elif(self.mode == 'val'):\n",
    "            train_list, val_list = train_test_split(self.audio_list, test_size=test_size, random_state=42, stratify=[label for (_, label) in self.audio_list])\n",
    "            self.audio_list = val_list\n",
    "        \n",
    "        self.cache_file = cache_file\n",
    "        self.data = self._load_data_from_cache_or_compute()\n",
    "        # self.pad_to_max_length(1440000)\n",
    "\n",
    "    def _load_audio_list(self):\n",
    "        audio_list = []\n",
    "        for i, maqam in enumerate(self.maqams):\n",
    "            label_dir = os.path.join(self.data_dir, maqam)\n",
    "            audio_list += [(os.path.join(label_dir, audio_name), i) for audio_name in os.listdir(label_dir) if audio_name.endswith('.wav')]\n",
    "        return audio_list\n",
    "\n",
    "    def __len__(self):\n",
    "        return len(self.audio_list)\n",
    "\n",
    "    def __getitem__(self, idx):\n",
    "        audio_path, label_idx = self.audio_list[idx]\n",
    "        waveform, sample_rate = torchaudio.load(audio_path)\n",
    "        waveform = waveform[0] # only keep the first channel\n",
    "        if self.transform:\n",
    "            waveform = self.transform(waveform)\n",
    "        mfcc = self.compute_mfcc(waveform).T\n",
    "        mfcc = torch.from_numpy(mfcc).float()\n",
    "        return mfcc, label_idx\n",
    "    \n",
    "    def pad_to_max_length(self, max_length):\n",
    "        for i in range(len(self)):\n",
    "            padded_data = F.pad(self.data[i][0], (0, max_length - len(self.data[i][0])), 'constant', 0)\n",
    "            self.data[i] = (padded_data, self.data[i][1])\n",
    "\n",
    "    def compute_mfcc(self, waveform):\n",
    "        # Compute the MFCC of the waveform\n",
    "        n_fft = 1024*8\n",
    "        hop_length = 512*2\n",
    "        n_mels = 100\n",
    "        sr = 16000\n",
    "        n_mfcc = 30\n",
    "        waveform = waveform.numpy()  # Convert PyTorch tensor to NumPy array\n",
    "        mfcc = librosa.feature.mfcc(y=waveform, sr=sr, n_fft=n_fft, hop_length=hop_length, n_mels=n_mels, n_mfcc=n_mfcc)\n",
    "        mfcc = np.transpose(mfcc)\n",
    "        mfcc = mfcc.astype(np.float32)  # Ensure data type is compatible with np.issubdtype()\n",
    "        return mfcc\n",
    "    \n",
    "    def _load_data_from_cache_or_compute(self):\n",
    "        if os.path.isfile(self.cache_file):\n",
    "            print(f'Loading data from cache file: {self.cache_file}')\n",
    "            with open(self.cache_file, 'rb') as f:\n",
    "                return pickle.load(f)\n",
    "        else:\n",
    "            print(f'Cache file not found. Computing data from scratch and saving to cache file: {self.cache_file}')\n",
    "            data = [self.__getitem__(i) for i in range(len(self))]\n",
    "            with open(self.cache_file, 'wb') as f:\n",
    "                pickle.dump(data, f)\n",
    "            return data\n"
   ]
  },
  {
   "cell_type": "code",
   "execution_count": 7,
   "metadata": {},
   "outputs": [],
   "source": [
    "import torch\n",
    "from torch.utils.data import DataLoader\n",
    "import librosa\n",
    "import matplotlib.pyplot as plt\n",
    "import torch.nn.functional as F\n",
    "from torch.nn.utils.rnn import pad_sequence\n",
    "\n",
    "max_length = 1440000\n",
    "\n",
    "def MFCC_plot(mfcc):\n",
    "        plt.figure(figsize=(10, 4))\n",
    "        mfcc = mfcc.detach().numpy()\n",
    "        mfcc = mfcc.mean(axis=2).T\n",
    "        librosa.display.specshow(mfcc, x_axis='time')\n",
    "        plt.colorbar()\n",
    "        plt.title('MFCC')\n",
    "        plt.tight_layout()\n",
    "        plt.show()\n",
    "\n",
    "def custom_collate(batch):\n",
    "    inputs, labels = zip(*batch)\n",
    "    max_frames = max([m.shape[1] for m in inputs])\n",
    "    padded_mfcc = []\n",
    "    for m in inputs:\n",
    "        pad_width = ((0, 0), (0, max_frames - m.shape[1]))\n",
    "        padded_m = np.pad(m, pad_width=pad_width, mode='constant')\n",
    "        padded_mfcc.append(padded_m)\n",
    "\n",
    "    padded_mfcc = torch.from_numpy(np.array(padded_mfcc)).float()\n",
    "    labels = torch.tensor(labels)\n",
    "    return padded_mfcc, labels\n",
    "\n"
   ]
  },
  {
   "cell_type": "code",
   "execution_count": 8,
   "metadata": {},
   "outputs": [],
   "source": [
    "# Define training and validation datasets with specified test size\n",
    "\n",
    "\n",
    "# Define training and validation data loaders\n",
    "batch_size = 32"
   ]
  },
  {
   "cell_type": "code",
   "execution_count": 9,
   "metadata": {},
   "outputs": [],
   "source": [
    "# torch.cuda.init()\n",
    "# torch.cuda.empty_cache()\n",
    "option = 1"
   ]
  },
  {
   "cell_type": "code",
   "execution_count": 10,
   "metadata": {},
   "outputs": [
    {
     "name": "stdout",
     "output_type": "stream",
     "text": [
      "Loading data from cache file: baggina1.pkl\n",
      "Loading data from cache file: 1.pkl\n",
      "_________________________________________________________\n",
      "Learning rate =  0.001\n",
      "Starting training\n"
     ]
    },
    {
     "name": "stderr",
     "output_type": "stream",
     "text": [
      "                                                           \r"
     ]
    },
    {
     "name": "stdout",
     "output_type": "stream",
     "text": [
      "Epoch 1/40: Train Loss=1.89316, Train Accuracy=40.52478%\n"
     ]
    },
    {
     "name": "stderr",
     "output_type": "stream",
     "text": [
      "                                                         \r"
     ]
    },
    {
     "name": "stdout",
     "output_type": "stream",
     "text": [
      "Epoch 1/40 validation: val_loss=1.98327, val_acc=27.62646%\n"
     ]
    },
    {
     "name": "stderr",
     "output_type": "stream",
     "text": [
      "                                                           \r"
     ]
    },
    {
     "name": "stdout",
     "output_type": "stream",
     "text": [
      "Epoch 2/40: Train Loss=1.55666, Train Accuracy=72.30321%\n"
     ]
    },
    {
     "name": "stderr",
     "output_type": "stream",
     "text": [
      "                                                         \r"
     ]
    },
    {
     "name": "stdout",
     "output_type": "stream",
     "text": [
      "Epoch 2/40 validation: val_loss=1.97706, val_acc=29.18288%\n"
     ]
    },
    {
     "name": "stderr",
     "output_type": "stream",
     "text": [
      "                                                           \r"
     ]
    },
    {
     "name": "stdout",
     "output_type": "stream",
     "text": [
      "Epoch 3/40: Train Loss=1.43343, Train Accuracy=85.42274%\n"
     ]
    },
    {
     "name": "stderr",
     "output_type": "stream",
     "text": [
      "                                                         \r"
     ]
    },
    {
     "name": "stdout",
     "output_type": "stream",
     "text": [
      "Epoch 3/40 validation: val_loss=1.91883, val_acc=35.40856%\n"
     ]
    },
    {
     "name": "stderr",
     "output_type": "stream",
     "text": [
      "                                                           \r"
     ]
    },
    {
     "name": "stdout",
     "output_type": "stream",
     "text": [
      "Epoch 4/40: Train Loss=1.40626, Train Accuracy=86.88047%\n"
     ]
    },
    {
     "name": "stderr",
     "output_type": "stream",
     "text": [
      "                                                         \r"
     ]
    },
    {
     "name": "stdout",
     "output_type": "stream",
     "text": [
      "Epoch 4/40 validation: val_loss=1.91987, val_acc=34.24125%\n"
     ]
    },
    {
     "name": "stderr",
     "output_type": "stream",
     "text": [
      "                                                           \r"
     ]
    },
    {
     "name": "stdout",
     "output_type": "stream",
     "text": [
      "Epoch 5/40: Train Loss=1.37481, Train Accuracy=90.37901%\n"
     ]
    },
    {
     "name": "stderr",
     "output_type": "stream",
     "text": [
      "                                                         \r"
     ]
    },
    {
     "name": "stdout",
     "output_type": "stream",
     "text": [
      "Epoch 5/40 validation: val_loss=1.91411, val_acc=35.01946%\n"
     ]
    },
    {
     "name": "stderr",
     "output_type": "stream",
     "text": [
      "                                                           \r"
     ]
    },
    {
     "name": "stdout",
     "output_type": "stream",
     "text": [
      "Epoch 6/40: Train Loss=1.36744, Train Accuracy=90.67055%\n"
     ]
    },
    {
     "name": "stderr",
     "output_type": "stream",
     "text": [
      "                                                         \r"
     ]
    },
    {
     "name": "stdout",
     "output_type": "stream",
     "text": [
      "Epoch 6/40 validation: val_loss=1.89916, val_acc=36.96498%\n"
     ]
    },
    {
     "name": "stderr",
     "output_type": "stream",
     "text": [
      "                                                           \r"
     ]
    },
    {
     "name": "stdout",
     "output_type": "stream",
     "text": [
      "Epoch 7/40: Train Loss=1.35859, Train Accuracy=90.96210%\n"
     ]
    },
    {
     "name": "stderr",
     "output_type": "stream",
     "text": [
      "                                                         \r"
     ]
    },
    {
     "name": "stdout",
     "output_type": "stream",
     "text": [
      "Epoch 7/40 validation: val_loss=1.86133, val_acc=41.24514%\n"
     ]
    },
    {
     "name": "stderr",
     "output_type": "stream",
     "text": [
      "                                                           \r"
     ]
    },
    {
     "name": "stdout",
     "output_type": "stream",
     "text": [
      "Epoch 8/40: Train Loss=1.35551, Train Accuracy=92.12828%\n"
     ]
    },
    {
     "name": "stderr",
     "output_type": "stream",
     "text": [
      "                                                         \r"
     ]
    },
    {
     "name": "stdout",
     "output_type": "stream",
     "text": [
      "Epoch 8/40 validation: val_loss=1.86946, val_acc=40.85603%\n"
     ]
    },
    {
     "name": "stderr",
     "output_type": "stream",
     "text": [
      "                                                           \r"
     ]
    },
    {
     "name": "stdout",
     "output_type": "stream",
     "text": [
      "Epoch 9/40: Train Loss=1.34890, Train Accuracy=92.71137%\n"
     ]
    },
    {
     "name": "stderr",
     "output_type": "stream",
     "text": [
      "                                                         \r"
     ]
    },
    {
     "name": "stdout",
     "output_type": "stream",
     "text": [
      "Epoch 9/40 validation: val_loss=1.87321, val_acc=39.68872%\n"
     ]
    },
    {
     "name": "stderr",
     "output_type": "stream",
     "text": [
      "                                                            \r"
     ]
    },
    {
     "name": "stdout",
     "output_type": "stream",
     "text": [
      "Epoch 10/40: Train Loss=1.34714, Train Accuracy=92.71137%\n"
     ]
    },
    {
     "name": "stderr",
     "output_type": "stream",
     "text": [
      "                                                         \r"
     ]
    },
    {
     "name": "stdout",
     "output_type": "stream",
     "text": [
      "Epoch 10/40 validation: val_loss=1.87316, val_acc=40.07782%\n"
     ]
    },
    {
     "name": "stderr",
     "output_type": "stream",
     "text": [
      "                                                            \r"
     ]
    },
    {
     "name": "stdout",
     "output_type": "stream",
     "text": [
      "Epoch 11/40: Train Loss=1.34208, Train Accuracy=93.29446%\n"
     ]
    },
    {
     "name": "stderr",
     "output_type": "stream",
     "text": [
      "                                                         \r"
     ]
    },
    {
     "name": "stdout",
     "output_type": "stream",
     "text": [
      "Epoch 11/40 validation: val_loss=1.85415, val_acc=41.63424%\n"
     ]
    },
    {
     "name": "stderr",
     "output_type": "stream",
     "text": [
      "                                                            \r"
     ]
    },
    {
     "name": "stdout",
     "output_type": "stream",
     "text": [
      "Epoch 12/40: Train Loss=1.32654, Train Accuracy=94.75219%\n"
     ]
    },
    {
     "name": "stderr",
     "output_type": "stream",
     "text": [
      "                                                         \r"
     ]
    },
    {
     "name": "stdout",
     "output_type": "stream",
     "text": [
      "Epoch 12/40 validation: val_loss=1.85065, val_acc=42.41245%\n"
     ]
    },
    {
     "name": "stderr",
     "output_type": "stream",
     "text": [
      "                                                            \r"
     ]
    },
    {
     "name": "stdout",
     "output_type": "stream",
     "text": [
      "Epoch 13/40: Train Loss=1.32322, Train Accuracy=95.04373%\n"
     ]
    },
    {
     "name": "stderr",
     "output_type": "stream",
     "text": [
      "                                                         \r"
     ]
    },
    {
     "name": "stdout",
     "output_type": "stream",
     "text": [
      "Epoch 13/40 validation: val_loss=1.86408, val_acc=40.46693%\n"
     ]
    },
    {
     "name": "stderr",
     "output_type": "stream",
     "text": [
      "                                                            \r"
     ]
    },
    {
     "name": "stdout",
     "output_type": "stream",
     "text": [
      "Epoch 14/40: Train Loss=1.32545, Train Accuracy=94.75219%\n"
     ]
    },
    {
     "name": "stderr",
     "output_type": "stream",
     "text": [
      "                                                         \r"
     ]
    },
    {
     "name": "stdout",
     "output_type": "stream",
     "text": [
      "Epoch 14/40 validation: val_loss=1.86166, val_acc=41.24514%\n"
     ]
    },
    {
     "name": "stderr",
     "output_type": "stream",
     "text": [
      "                                                            \r"
     ]
    },
    {
     "name": "stdout",
     "output_type": "stream",
     "text": [
      "Epoch 15/40: Train Loss=1.32179, Train Accuracy=95.33528%\n"
     ]
    },
    {
     "name": "stderr",
     "output_type": "stream",
     "text": [
      "                                                         \r"
     ]
    },
    {
     "name": "stdout",
     "output_type": "stream",
     "text": [
      "Epoch 15/40 validation: val_loss=1.87359, val_acc=40.07782%\n"
     ]
    },
    {
     "name": "stderr",
     "output_type": "stream",
     "text": [
      "                                                            \r"
     ]
    },
    {
     "name": "stdout",
     "output_type": "stream",
     "text": [
      "Epoch 16/40: Train Loss=1.31829, Train Accuracy=95.62682%\n"
     ]
    },
    {
     "name": "stderr",
     "output_type": "stream",
     "text": [
      "                                                         \r"
     ]
    },
    {
     "name": "stdout",
     "output_type": "stream",
     "text": [
      "Epoch 16/40 validation: val_loss=1.87198, val_acc=39.29961%\n"
     ]
    },
    {
     "name": "stderr",
     "output_type": "stream",
     "text": [
      "                                                            \r"
     ]
    },
    {
     "name": "stdout",
     "output_type": "stream",
     "text": [
      "Epoch 17/40: Train Loss=1.32171, Train Accuracy=95.62682%\n"
     ]
    },
    {
     "name": "stderr",
     "output_type": "stream",
     "text": [
      "                                                         \r"
     ]
    },
    {
     "name": "stdout",
     "output_type": "stream",
     "text": [
      "Epoch 17/40 validation: val_loss=1.85761, val_acc=41.63424%\n"
     ]
    },
    {
     "name": "stderr",
     "output_type": "stream",
     "text": [
      "                                                            \r"
     ]
    },
    {
     "name": "stdout",
     "output_type": "stream",
     "text": [
      "Epoch 18/40: Train Loss=1.31719, Train Accuracy=95.62682%\n"
     ]
    },
    {
     "name": "stderr",
     "output_type": "stream",
     "text": [
      "                                                         \r"
     ]
    },
    {
     "name": "stdout",
     "output_type": "stream",
     "text": [
      "Epoch 18/40 validation: val_loss=1.87312, val_acc=38.91051%\n"
     ]
    },
    {
     "name": "stderr",
     "output_type": "stream",
     "text": [
      "                                                            \r"
     ]
    },
    {
     "name": "stdout",
     "output_type": "stream",
     "text": [
      "Epoch 19/40: Train Loss=1.32749, Train Accuracy=94.75219%\n"
     ]
    },
    {
     "name": "stderr",
     "output_type": "stream",
     "text": [
      "                                                         \r"
     ]
    },
    {
     "name": "stdout",
     "output_type": "stream",
     "text": [
      "Epoch 19/40 validation: val_loss=1.87081, val_acc=40.07782%\n"
     ]
    },
    {
     "name": "stderr",
     "output_type": "stream",
     "text": [
      "                                                            \r"
     ]
    },
    {
     "name": "stdout",
     "output_type": "stream",
     "text": [
      "Epoch 20/40: Train Loss=1.31263, Train Accuracy=96.20991%\n"
     ]
    },
    {
     "name": "stderr",
     "output_type": "stream",
     "text": [
      "                                                         \r"
     ]
    },
    {
     "name": "stdout",
     "output_type": "stream",
     "text": [
      "Epoch 20/40 validation: val_loss=1.89606, val_acc=37.35409%\n"
     ]
    },
    {
     "name": "stderr",
     "output_type": "stream",
     "text": [
      "                                                            \r"
     ]
    },
    {
     "name": "stdout",
     "output_type": "stream",
     "text": [
      "Epoch 21/40: Train Loss=1.31155, Train Accuracy=96.50146%\n"
     ]
    },
    {
     "name": "stderr",
     "output_type": "stream",
     "text": [
      "                                                         \r"
     ]
    },
    {
     "name": "stdout",
     "output_type": "stream",
     "text": [
      "Epoch 21/40 validation: val_loss=1.89466, val_acc=37.35409%\n"
     ]
    },
    {
     "name": "stderr",
     "output_type": "stream",
     "text": [
      "                                                            \r"
     ]
    },
    {
     "name": "stdout",
     "output_type": "stream",
     "text": [
      "Epoch 22/40: Train Loss=1.31144, Train Accuracy=96.50146%\n"
     ]
    },
    {
     "name": "stderr",
     "output_type": "stream",
     "text": [
      "                                                         \r"
     ]
    },
    {
     "name": "stdout",
     "output_type": "stream",
     "text": [
      "Epoch 22/40 validation: val_loss=1.88327, val_acc=38.52140%\n"
     ]
    },
    {
     "name": "stderr",
     "output_type": "stream",
     "text": [
      "                                                            \r"
     ]
    },
    {
     "name": "stdout",
     "output_type": "stream",
     "text": [
      "Epoch 23/40: Train Loss=1.30973, Train Accuracy=96.50146%\n"
     ]
    },
    {
     "name": "stderr",
     "output_type": "stream",
     "text": [
      "                                                         \r"
     ]
    },
    {
     "name": "stdout",
     "output_type": "stream",
     "text": [
      "Epoch 23/40 validation: val_loss=1.88582, val_acc=38.91051%\n"
     ]
    },
    {
     "name": "stderr",
     "output_type": "stream",
     "text": [
      "                                                            \r"
     ]
    },
    {
     "name": "stdout",
     "output_type": "stream",
     "text": [
      "Epoch 24/40: Train Loss=1.32533, Train Accuracy=94.75219%\n"
     ]
    },
    {
     "name": "stderr",
     "output_type": "stream",
     "text": [
      "                                                         \r"
     ]
    },
    {
     "name": "stdout",
     "output_type": "stream",
     "text": [
      "Epoch 24/40 validation: val_loss=1.91083, val_acc=35.79767%\n"
     ]
    },
    {
     "name": "stderr",
     "output_type": "stream",
     "text": [
      "                                                            \r"
     ]
    },
    {
     "name": "stdout",
     "output_type": "stream",
     "text": [
      "Epoch 25/40: Train Loss=1.32872, Train Accuracy=94.46064%\n"
     ]
    },
    {
     "name": "stderr",
     "output_type": "stream",
     "text": [
      "                                                         \r"
     ]
    },
    {
     "name": "stdout",
     "output_type": "stream",
     "text": [
      "Epoch 25/40 validation: val_loss=1.90278, val_acc=36.96498%\n"
     ]
    },
    {
     "name": "stderr",
     "output_type": "stream",
     "text": [
      "                                                            \r"
     ]
    },
    {
     "name": "stdout",
     "output_type": "stream",
     "text": [
      "Epoch 26/40: Train Loss=1.31259, Train Accuracy=95.91837%\n"
     ]
    },
    {
     "name": "stderr",
     "output_type": "stream",
     "text": [
      "                                                         \r"
     ]
    },
    {
     "name": "stdout",
     "output_type": "stream",
     "text": [
      "Epoch 26/40 validation: val_loss=1.92081, val_acc=35.01946%\n"
     ]
    },
    {
     "name": "stderr",
     "output_type": "stream",
     "text": [
      "                                                            \r"
     ]
    },
    {
     "name": "stdout",
     "output_type": "stream",
     "text": [
      "Epoch 27/40: Train Loss=1.32376, Train Accuracy=95.33528%\n"
     ]
    },
    {
     "name": "stderr",
     "output_type": "stream",
     "text": [
      "                                                         \r"
     ]
    },
    {
     "name": "stdout",
     "output_type": "stream",
     "text": [
      "Epoch 27/40 validation: val_loss=1.89599, val_acc=36.96498%\n"
     ]
    },
    {
     "name": "stderr",
     "output_type": "stream",
     "text": [
      "                                                            \r"
     ]
    },
    {
     "name": "stdout",
     "output_type": "stream",
     "text": [
      "Epoch 28/40: Train Loss=1.30432, Train Accuracy=97.37609%\n"
     ]
    },
    {
     "name": "stderr",
     "output_type": "stream",
     "text": [
      "                                                         \r"
     ]
    },
    {
     "name": "stdout",
     "output_type": "stream",
     "text": [
      "Epoch 28/40 validation: val_loss=1.90196, val_acc=36.57588%\n"
     ]
    },
    {
     "name": "stderr",
     "output_type": "stream",
     "text": [
      "                                                            \r"
     ]
    },
    {
     "name": "stdout",
     "output_type": "stream",
     "text": [
      "Epoch 29/40: Train Loss=1.30954, Train Accuracy=96.50146%\n"
     ]
    },
    {
     "name": "stderr",
     "output_type": "stream",
     "text": [
      "                                                         \r"
     ]
    },
    {
     "name": "stdout",
     "output_type": "stream",
     "text": [
      "Epoch 29/40 validation: val_loss=1.88947, val_acc=38.52140%\n"
     ]
    },
    {
     "name": "stderr",
     "output_type": "stream",
     "text": [
      "                                                            \r"
     ]
    },
    {
     "name": "stdout",
     "output_type": "stream",
     "text": [
      "Epoch 30/40: Train Loss=1.29583, Train Accuracy=97.95918%\n"
     ]
    },
    {
     "name": "stderr",
     "output_type": "stream",
     "text": [
      "                                                         \r"
     ]
    },
    {
     "name": "stdout",
     "output_type": "stream",
     "text": [
      "Epoch 30/40 validation: val_loss=1.89784, val_acc=37.35409%\n"
     ]
    },
    {
     "name": "stderr",
     "output_type": "stream",
     "text": [
      "                                                            \r"
     ]
    },
    {
     "name": "stdout",
     "output_type": "stream",
     "text": [
      "Epoch 31/40: Train Loss=1.29409, Train Accuracy=98.25073%\n"
     ]
    },
    {
     "name": "stderr",
     "output_type": "stream",
     "text": [
      "                                                         \r"
     ]
    },
    {
     "name": "stdout",
     "output_type": "stream",
     "text": [
      "Epoch 31/40 validation: val_loss=1.89954, val_acc=36.96498%\n"
     ]
    },
    {
     "name": "stderr",
     "output_type": "stream",
     "text": [
      "                                                            \r"
     ]
    },
    {
     "name": "stdout",
     "output_type": "stream",
     "text": [
      "Epoch 32/40: Train Loss=1.29200, Train Accuracy=98.25073%\n"
     ]
    },
    {
     "name": "stderr",
     "output_type": "stream",
     "text": [
      "                                                         \r"
     ]
    },
    {
     "name": "stdout",
     "output_type": "stream",
     "text": [
      "Epoch 32/40 validation: val_loss=1.90329, val_acc=36.18677%\n"
     ]
    },
    {
     "name": "stderr",
     "output_type": "stream",
     "text": [
      "                                                            \r"
     ]
    },
    {
     "name": "stdout",
     "output_type": "stream",
     "text": [
      "Epoch 33/40: Train Loss=1.29719, Train Accuracy=97.37609%\n"
     ]
    },
    {
     "name": "stderr",
     "output_type": "stream",
     "text": [
      "                                                         \r"
     ]
    },
    {
     "name": "stdout",
     "output_type": "stream",
     "text": [
      "Epoch 33/40 validation: val_loss=1.88592, val_acc=38.52140%\n"
     ]
    },
    {
     "name": "stderr",
     "output_type": "stream",
     "text": [
      "                                                            \r"
     ]
    },
    {
     "name": "stdout",
     "output_type": "stream",
     "text": [
      "Epoch 34/40: Train Loss=1.29883, Train Accuracy=97.66764%\n"
     ]
    },
    {
     "name": "stderr",
     "output_type": "stream",
     "text": [
      "                                                         \r"
     ]
    },
    {
     "name": "stdout",
     "output_type": "stream",
     "text": [
      "Epoch 34/40 validation: val_loss=1.89316, val_acc=37.35409%\n"
     ]
    },
    {
     "name": "stderr",
     "output_type": "stream",
     "text": [
      "                                                            \r"
     ]
    },
    {
     "name": "stdout",
     "output_type": "stream",
     "text": [
      "Epoch 35/40: Train Loss=1.29914, Train Accuracy=97.37609%\n"
     ]
    },
    {
     "name": "stderr",
     "output_type": "stream",
     "text": [
      "                                                         \r"
     ]
    },
    {
     "name": "stdout",
     "output_type": "stream",
     "text": [
      "Epoch 35/40 validation: val_loss=1.88524, val_acc=39.29961%\n"
     ]
    },
    {
     "name": "stderr",
     "output_type": "stream",
     "text": [
      "                                                            \r"
     ]
    },
    {
     "name": "stdout",
     "output_type": "stream",
     "text": [
      "Epoch 36/40: Train Loss=1.30392, Train Accuracy=97.08455%\n"
     ]
    },
    {
     "name": "stderr",
     "output_type": "stream",
     "text": [
      "                                                         \r"
     ]
    },
    {
     "name": "stdout",
     "output_type": "stream",
     "text": [
      "Epoch 36/40 validation: val_loss=1.88734, val_acc=38.13230%\n"
     ]
    },
    {
     "name": "stderr",
     "output_type": "stream",
     "text": [
      "                                                            \r"
     ]
    },
    {
     "name": "stdout",
     "output_type": "stream",
     "text": [
      "Epoch 37/40: Train Loss=1.30123, Train Accuracy=97.08455%\n"
     ]
    },
    {
     "name": "stderr",
     "output_type": "stream",
     "text": [
      "                                                         \r"
     ]
    },
    {
     "name": "stdout",
     "output_type": "stream",
     "text": [
      "Epoch 37/40 validation: val_loss=1.88886, val_acc=38.13230%\n"
     ]
    },
    {
     "name": "stderr",
     "output_type": "stream",
     "text": [
      "                                                            \r"
     ]
    },
    {
     "name": "stdout",
     "output_type": "stream",
     "text": [
      "Epoch 38/40: Train Loss=1.30362, Train Accuracy=97.08455%\n"
     ]
    },
    {
     "name": "stderr",
     "output_type": "stream",
     "text": [
      "                                                         \r"
     ]
    },
    {
     "name": "stdout",
     "output_type": "stream",
     "text": [
      "Epoch 38/40 validation: val_loss=1.88351, val_acc=38.91051%\n"
     ]
    },
    {
     "name": "stderr",
     "output_type": "stream",
     "text": [
      "                                                            \r"
     ]
    },
    {
     "name": "stdout",
     "output_type": "stream",
     "text": [
      "Epoch 39/40: Train Loss=1.29476, Train Accuracy=98.25073%\n"
     ]
    },
    {
     "name": "stderr",
     "output_type": "stream",
     "text": [
      "                                                         \r"
     ]
    },
    {
     "name": "stdout",
     "output_type": "stream",
     "text": [
      "Epoch 39/40 validation: val_loss=1.88783, val_acc=38.52140%\n"
     ]
    },
    {
     "name": "stderr",
     "output_type": "stream",
     "text": [
      "                                                            \r"
     ]
    },
    {
     "name": "stdout",
     "output_type": "stream",
     "text": [
      "Epoch 40/40: Train Loss=1.29313, Train Accuracy=98.25073%\n"
     ]
    },
    {
     "name": "stderr",
     "output_type": "stream",
     "text": [
      "                                                         \r"
     ]
    },
    {
     "name": "stdout",
     "output_type": "stream",
     "text": [
      "Epoch 40/40 validation: val_loss=1.88949, val_acc=38.13230%\n",
      "Loading data from cache file: test.pkl\n"
     ]
    },
    {
     "name": "stderr",
     "output_type": "stream",
     "text": [
      "                                                      "
     ]
    },
    {
     "name": "stdout",
     "output_type": "stream",
     "text": [
      "Test Accuracy: 66.40625%\n"
     ]
    },
    {
     "name": "stderr",
     "output_type": "stream",
     "text": [
      "\r"
     ]
    }
   ],
   "source": [
    "import torch\n",
    "import torch.nn as nn\n",
    "import torch.optim as optim\n",
    "import torch.nn.functional as F\n",
    "from tqdm import tqdm\n",
    "if(option == 1):\n",
    "    train_dataset = MaqamDataset(mode='train', cache_file = 'baggina1.pkl',test_size=0.2, dir = \"/home/faisal/Desktop/MAQAMAT/bagging1\")\n",
    "    val_dataset = MaqamDataset(mode='val', test_size=0.2)\n",
    "    train_loader = DataLoader(train_dataset, batch_size=batch_size, shuffle=True, collate_fn=custom_collate)\n",
    "    val_loader = DataLoader(val_dataset, batch_size=batch_size, shuffle=False, collate_fn=custom_collate)\n",
    "    learning_rates = [0.001]\n",
    "    for l in learning_rates:\n",
    "        # Lists to store accuracy and loss values\n",
    "        train_losses = []\n",
    "        train_accuracies = []\n",
    "        val_losses = []\n",
    "        val_accuracies = []\n",
    "        print(\"_________________________________________________________\")\n",
    "        print(\"Learning rate = \", l)\n",
    "        # Rest of the model definition and data loaders\n",
    "\n",
    "        # Initialize model and define loss function and optimizer\n",
    "        device = torch.device(\"cuda:0\" if torch.cuda.is_available() else \"cpu\")\n",
    "\n",
    "        model = MaqamCNN1().to(device)\n",
    "        criterion = torch.nn.CrossEntropyLoss()\n",
    "        optimizer = torch.optim.Adam(model.parameters(), lr=l)\n",
    "\n",
    "        # Train the model for a specified number of epochs\n",
    "        num_epochs = 40\n",
    "        patience = 40  # Number of epochs to wait for improvement before early stopping\n",
    "        best_val_loss = float('inf')\n",
    "        best_model_state_dict = None\n",
    "        no_improvement_epochs = 0\n",
    "\n",
    "        print(\"Starting training\")\n",
    "        for epoch in range(num_epochs):\n",
    "            # Set the model to training mode for the current epoch\n",
    "            model.train()\n",
    "\n",
    "            # Training loop\n",
    "            running_loss = 0.0\n",
    "            correct_predictions = 0\n",
    "            total_samples = 0\n",
    "\n",
    "            for i, data in enumerate(tqdm(train_loader, desc=f'Epoch {epoch + 1}/{num_epochs}', leave=False)):\n",
    "                inputs, targets = data  # MFCCs and labels\n",
    "                targets = targets.to(device)\n",
    "                inputs = inputs.to(device)\n",
    "                optimizer.zero_grad()\n",
    "                outputs = model(inputs)\n",
    "                loss = criterion(outputs, targets)\n",
    "                loss.backward()\n",
    "                optimizer.step()\n",
    "\n",
    "                # Update the loss and accuracy metrics\n",
    "                running_loss += loss.item()\n",
    "                _, predicted_labels = torch.max(outputs, 1)\n",
    "                correct_predictions += (predicted_labels == targets).sum().item()\n",
    "                total_samples += len(targets)\n",
    "\n",
    "            # Calculate and print average loss and accuracy for the current epoch\n",
    "            avg_loss = running_loss / len(train_loader)\n",
    "            avg_accuracy = 100 * correct_predictions / total_samples\n",
    "            print(f'Epoch {epoch + 1}/{num_epochs}: Train Loss={avg_loss:.5f}, Train Accuracy={avg_accuracy:.5f}%')\n",
    "\n",
    "            # Validation loop\n",
    "            model.eval()\n",
    "            val_loss = 0.0\n",
    "            total_correct = 0\n",
    "            total_samples = 0\n",
    "\n",
    "            with torch.no_grad():\n",
    "                for data in tqdm(val_loader, desc='Validation', leave=False):\n",
    "                    inputs, targets = data  # MFCCs and labels\n",
    "                    targets = targets.to(device)\n",
    "                    inputs = inputs.to(device)\n",
    "                    outputs = model(inputs)\n",
    "                    val_loss += criterion(outputs, targets).item() * len(targets)\n",
    "\n",
    "                    _, predicted_labels = torch.max(outputs, 1)\n",
    "                    total_correct += (predicted_labels == targets).sum().item()\n",
    "                    total_samples += len(targets)\n",
    "\n",
    "            val_loss /= len(val_dataset)\n",
    "            val_acc = 100 * total_correct / total_samples\n",
    "\n",
    "            train_losses.append(avg_loss)\n",
    "            train_accuracies.append(avg_accuracy)\n",
    "            val_losses.append(val_loss)\n",
    "            val_accuracies.append(val_acc)\n",
    "\n",
    "            print(f'Epoch {epoch + 1}/{num_epochs} validation: val_loss={val_loss:.5f}, val_acc={val_acc:.5f}%')\n",
    "\n",
    "            # Check for early stopping\n",
    "            if val_loss < best_val_loss:\n",
    "                best_val_loss = val_loss\n",
    "                best_model_state_dict = model.state_dict()\n",
    "                no_improvement_epochs = 0\n",
    "            else:\n",
    "                no_improvement_epochs += 1\n",
    "\n",
    "            if no_improvement_epochs >= patience:\n",
    "                print(\"Early stopping. No improvement in validation loss for {} epochs.\".format(patience))\n",
    "                break\n",
    "\n",
    "        # Load the best model state dict\n",
    "        if best_model_state_dict is not None:\n",
    "            model.load_state_dict(best_model_state_dict)\n",
    "\n",
    "        # Test the model on the test dataset\n",
    "        test_dataset = MaqamDataset(mode='test', cache_file='test.pkl')\n",
    "        test_loader = DataLoader(test_dataset, batch_size=batch_size, shuffle=False, collate_fn=custom_collate)\n",
    "\n",
    "        model.eval()\n",
    "        total_correct = 0\n",
    "        total_samples = 0\n",
    "\n",
    "        with torch.no_grad():\n",
    "            for data in tqdm(test_loader, desc='Testing', leave=False):\n",
    "                inputs, targets = data\n",
    "                targets = targets.to(device)\n",
    "                inputs = inputs.to(device)\n",
    "                outputs = model(inputs)\n",
    "\n",
    "                _, predicted_labels = torch.max(outputs, 1)\n",
    "                total_correct += (predicted_labels == targets).sum().item()\n",
    "                total_samples += len(targets)\n",
    "\n",
    "        test_acc = 100 * total_correct / total_samples\n",
    "        print(f'Test Accuracy: {test_acc:.5f}%')\n",
    "\n",
    "        # Save the trained model\n",
    "        torch.save(model.state_dict(), 'bagging1.pth')\n",
    "\n",
    "option = 2"
   ]
  },
  {
   "cell_type": "code",
   "execution_count": 11,
   "metadata": {},
   "outputs": [],
   "source": [
    "# Save the trained model\n",
    "torch.save(model.state_dict(), 'bagging3.pth')\n",
    "plt.figure()\n",
    "plt.plot(range(1, len(train_losses) + 1), train_losses, label='Train Loss')\n",
    "plt.plot(range(1, len(val_losses) + 1), val_losses, label='Validation Loss')\n",
    "plt.xlabel('Epoch')\n",
    "plt.ylabel('Loss')\n",
    "plt.legend()\n",
    "plt.title(f'Learning Rate: {l}')\n",
    "plt.savefig(f'CNN loss_plot_lr_{l}.png')\n",
    "plt.close()\n",
    "\n",
    "plt.figure()\n",
    "plt.plot(range(1, len(train_accuracies) + 1), train_accuracies, label='Train Accuracy')\n",
    "plt.plot(range(1, len(val_accuracies) + 1), val_accuracies, label='Validation Accuracy')\n",
    "plt.xlabel('Epoch')\n",
    "plt.ylabel('Accuracy')\n",
    "plt.legend()\n",
    "plt.title(f'Learning Rate: {l}')\n",
    "plt.savefig(f'CNN accuracy_plot_lr_{l}.png')\n",
    "plt.close()"
   ]
  },
  {
   "cell_type": "markdown",
   "metadata": {},
   "source": []
  },
  {
   "cell_type": "code",
   "execution_count": 12,
   "metadata": {},
   "outputs": [
    {
     "name": "stdout",
     "output_type": "stream",
     "text": [
      "Loading data from cache file: baggina2.pkl\n",
      "Loading data from cache file: 1.pkl\n",
      "_________________________________________________________\n",
      "Learning rate =  0.001\n",
      "Starting training\n"
     ]
    },
    {
     "name": "stderr",
     "output_type": "stream",
     "text": [
      "                                                           \r"
     ]
    },
    {
     "name": "stdout",
     "output_type": "stream",
     "text": [
      "Epoch 1/40: Train Loss=2.05869, Train Accuracy=24.04692%\n"
     ]
    },
    {
     "name": "stderr",
     "output_type": "stream",
     "text": [
      "                                                         \r"
     ]
    },
    {
     "name": "stdout",
     "output_type": "stream",
     "text": [
      "Epoch 1/40 validation: val_loss=2.05292, val_acc=24.12451%\n"
     ]
    },
    {
     "name": "stderr",
     "output_type": "stream",
     "text": [
      "                                                           \r"
     ]
    },
    {
     "name": "stdout",
     "output_type": "stream",
     "text": [
      "Epoch 2/40: Train Loss=1.95395, Train Accuracy=53.95894%\n"
     ]
    },
    {
     "name": "stderr",
     "output_type": "stream",
     "text": [
      "                                                         \r"
     ]
    },
    {
     "name": "stdout",
     "output_type": "stream",
     "text": [
      "Epoch 2/40 validation: val_loss=2.01904, val_acc=28.79377%\n"
     ]
    },
    {
     "name": "stderr",
     "output_type": "stream",
     "text": [
      "                                                           \r"
     ]
    },
    {
     "name": "stdout",
     "output_type": "stream",
     "text": [
      "Epoch 3/40: Train Loss=1.84491, Train Accuracy=56.59824%\n"
     ]
    },
    {
     "name": "stderr",
     "output_type": "stream",
     "text": [
      "                                                         \r"
     ]
    },
    {
     "name": "stdout",
     "output_type": "stream",
     "text": [
      "Epoch 3/40 validation: val_loss=1.99458, val_acc=30.35019%\n"
     ]
    },
    {
     "name": "stderr",
     "output_type": "stream",
     "text": [
      "                                                           \r"
     ]
    },
    {
     "name": "stdout",
     "output_type": "stream",
     "text": [
      "Epoch 4/40: Train Loss=1.76597, Train Accuracy=59.53079%\n"
     ]
    },
    {
     "name": "stderr",
     "output_type": "stream",
     "text": [
      "                                                         \r"
     ]
    },
    {
     "name": "stdout",
     "output_type": "stream",
     "text": [
      "Epoch 4/40 validation: val_loss=1.97534, val_acc=29.57198%\n"
     ]
    },
    {
     "name": "stderr",
     "output_type": "stream",
     "text": [
      "                                                           \r"
     ]
    },
    {
     "name": "stdout",
     "output_type": "stream",
     "text": [
      "Epoch 5/40: Train Loss=1.68780, Train Accuracy=70.38123%\n"
     ]
    },
    {
     "name": "stderr",
     "output_type": "stream",
     "text": [
      "                                                         \r"
     ]
    },
    {
     "name": "stdout",
     "output_type": "stream",
     "text": [
      "Epoch 5/40 validation: val_loss=1.96143, val_acc=32.68482%\n"
     ]
    },
    {
     "name": "stderr",
     "output_type": "stream",
     "text": [
      "                                                           \r"
     ]
    },
    {
     "name": "stdout",
     "output_type": "stream",
     "text": [
      "Epoch 6/40: Train Loss=1.62664, Train Accuracy=78.00587%\n"
     ]
    },
    {
     "name": "stderr",
     "output_type": "stream",
     "text": [
      "                                                         \r"
     ]
    },
    {
     "name": "stdout",
     "output_type": "stream",
     "text": [
      "Epoch 6/40 validation: val_loss=1.94839, val_acc=33.85214%\n"
     ]
    },
    {
     "name": "stderr",
     "output_type": "stream",
     "text": [
      "                                                           \r"
     ]
    },
    {
     "name": "stdout",
     "output_type": "stream",
     "text": [
      "Epoch 7/40: Train Loss=1.56494, Train Accuracy=83.28446%\n"
     ]
    },
    {
     "name": "stderr",
     "output_type": "stream",
     "text": [
      "                                                         \r"
     ]
    },
    {
     "name": "stdout",
     "output_type": "stream",
     "text": [
      "Epoch 7/40 validation: val_loss=1.93450, val_acc=36.18677%\n"
     ]
    },
    {
     "name": "stderr",
     "output_type": "stream",
     "text": [
      "                                                           \r"
     ]
    },
    {
     "name": "stdout",
     "output_type": "stream",
     "text": [
      "Epoch 8/40: Train Loss=1.51572, Train Accuracy=87.68328%\n"
     ]
    },
    {
     "name": "stderr",
     "output_type": "stream",
     "text": [
      "                                                         \r"
     ]
    },
    {
     "name": "stdout",
     "output_type": "stream",
     "text": [
      "Epoch 8/40 validation: val_loss=1.92673, val_acc=35.01946%\n"
     ]
    },
    {
     "name": "stderr",
     "output_type": "stream",
     "text": [
      "                                                           \r"
     ]
    },
    {
     "name": "stdout",
     "output_type": "stream",
     "text": [
      "Epoch 9/40: Train Loss=1.47207, Train Accuracy=91.49560%\n"
     ]
    },
    {
     "name": "stderr",
     "output_type": "stream",
     "text": [
      "                                                         \r"
     ]
    },
    {
     "name": "stdout",
     "output_type": "stream",
     "text": [
      "Epoch 9/40 validation: val_loss=1.91667, val_acc=34.63035%\n"
     ]
    },
    {
     "name": "stderr",
     "output_type": "stream",
     "text": [
      "                                                            \r"
     ]
    },
    {
     "name": "stdout",
     "output_type": "stream",
     "text": [
      "Epoch 10/40: Train Loss=1.43405, Train Accuracy=93.25513%\n"
     ]
    },
    {
     "name": "stderr",
     "output_type": "stream",
     "text": [
      "                                                         \r"
     ]
    },
    {
     "name": "stdout",
     "output_type": "stream",
     "text": [
      "Epoch 10/40 validation: val_loss=1.90337, val_acc=36.57588%\n"
     ]
    },
    {
     "name": "stderr",
     "output_type": "stream",
     "text": [
      "                                                            \r"
     ]
    },
    {
     "name": "stdout",
     "output_type": "stream",
     "text": [
      "Epoch 11/40: Train Loss=1.39446, Train Accuracy=94.42815%\n"
     ]
    },
    {
     "name": "stderr",
     "output_type": "stream",
     "text": [
      "                                                         \r"
     ]
    },
    {
     "name": "stdout",
     "output_type": "stream",
     "text": [
      "Epoch 11/40 validation: val_loss=1.90295, val_acc=35.01946%\n"
     ]
    },
    {
     "name": "stderr",
     "output_type": "stream",
     "text": [
      "                                                            \r"
     ]
    },
    {
     "name": "stdout",
     "output_type": "stream",
     "text": [
      "Epoch 12/40: Train Loss=1.37935, Train Accuracy=95.01466%\n"
     ]
    },
    {
     "name": "stderr",
     "output_type": "stream",
     "text": [
      "                                                         \r"
     ]
    },
    {
     "name": "stdout",
     "output_type": "stream",
     "text": [
      "Epoch 12/40 validation: val_loss=1.89651, val_acc=36.18677%\n"
     ]
    },
    {
     "name": "stderr",
     "output_type": "stream",
     "text": [
      "                                                            \r"
     ]
    },
    {
     "name": "stdout",
     "output_type": "stream",
     "text": [
      "Epoch 13/40: Train Loss=1.36072, Train Accuracy=95.89443%\n"
     ]
    },
    {
     "name": "stderr",
     "output_type": "stream",
     "text": [
      "                                                         \r"
     ]
    },
    {
     "name": "stdout",
     "output_type": "stream",
     "text": [
      "Epoch 13/40 validation: val_loss=1.89052, val_acc=35.79767%\n"
     ]
    },
    {
     "name": "stderr",
     "output_type": "stream",
     "text": [
      "                                                            \r"
     ]
    },
    {
     "name": "stdout",
     "output_type": "stream",
     "text": [
      "Epoch 14/40: Train Loss=1.34415, Train Accuracy=95.89443%\n"
     ]
    },
    {
     "name": "stderr",
     "output_type": "stream",
     "text": [
      "                                                         \r"
     ]
    },
    {
     "name": "stdout",
     "output_type": "stream",
     "text": [
      "Epoch 14/40 validation: val_loss=1.88923, val_acc=35.40856%\n"
     ]
    },
    {
     "name": "stderr",
     "output_type": "stream",
     "text": [
      "                                                            \r"
     ]
    },
    {
     "name": "stdout",
     "output_type": "stream",
     "text": [
      "Epoch 15/40: Train Loss=1.33738, Train Accuracy=96.48094%\n"
     ]
    },
    {
     "name": "stderr",
     "output_type": "stream",
     "text": [
      "                                                         \r"
     ]
    },
    {
     "name": "stdout",
     "output_type": "stream",
     "text": [
      "Epoch 15/40 validation: val_loss=1.88693, val_acc=36.96498%\n"
     ]
    },
    {
     "name": "stderr",
     "output_type": "stream",
     "text": [
      "                                                            \r"
     ]
    },
    {
     "name": "stdout",
     "output_type": "stream",
     "text": [
      "Epoch 16/40: Train Loss=1.31988, Train Accuracy=97.94721%\n"
     ]
    },
    {
     "name": "stderr",
     "output_type": "stream",
     "text": [
      "                                                         \r"
     ]
    },
    {
     "name": "stdout",
     "output_type": "stream",
     "text": [
      "Epoch 16/40 validation: val_loss=1.88238, val_acc=35.79767%\n"
     ]
    },
    {
     "name": "stderr",
     "output_type": "stream",
     "text": [
      "                                                            \r"
     ]
    },
    {
     "name": "stdout",
     "output_type": "stream",
     "text": [
      "Epoch 17/40: Train Loss=1.31086, Train Accuracy=98.24047%\n"
     ]
    },
    {
     "name": "stderr",
     "output_type": "stream",
     "text": [
      "                                                         \r"
     ]
    },
    {
     "name": "stdout",
     "output_type": "stream",
     "text": [
      "Epoch 17/40 validation: val_loss=1.88269, val_acc=36.57588%\n"
     ]
    },
    {
     "name": "stderr",
     "output_type": "stream",
     "text": [
      "                                                            \r"
     ]
    },
    {
     "name": "stdout",
     "output_type": "stream",
     "text": [
      "Epoch 18/40: Train Loss=1.30888, Train Accuracy=98.24047%\n"
     ]
    },
    {
     "name": "stderr",
     "output_type": "stream",
     "text": [
      "                                                         \r"
     ]
    },
    {
     "name": "stdout",
     "output_type": "stream",
     "text": [
      "Epoch 18/40 validation: val_loss=1.89331, val_acc=35.40856%\n"
     ]
    },
    {
     "name": "stderr",
     "output_type": "stream",
     "text": [
      "                                                            \r"
     ]
    },
    {
     "name": "stdout",
     "output_type": "stream",
     "text": [
      "Epoch 19/40: Train Loss=1.30494, Train Accuracy=98.24047%\n"
     ]
    },
    {
     "name": "stderr",
     "output_type": "stream",
     "text": [
      "                                                         \r"
     ]
    },
    {
     "name": "stdout",
     "output_type": "stream",
     "text": [
      "Epoch 19/40 validation: val_loss=1.89345, val_acc=35.01946%\n"
     ]
    },
    {
     "name": "stderr",
     "output_type": "stream",
     "text": [
      "                                                            \r"
     ]
    },
    {
     "name": "stdout",
     "output_type": "stream",
     "text": [
      "Epoch 20/40: Train Loss=1.30065, Train Accuracy=98.24047%\n"
     ]
    },
    {
     "name": "stderr",
     "output_type": "stream",
     "text": [
      "                                                         \r"
     ]
    },
    {
     "name": "stdout",
     "output_type": "stream",
     "text": [
      "Epoch 20/40 validation: val_loss=1.89073, val_acc=35.40856%\n"
     ]
    },
    {
     "name": "stderr",
     "output_type": "stream",
     "text": [
      "                                                            \r"
     ]
    },
    {
     "name": "stdout",
     "output_type": "stream",
     "text": [
      "Epoch 21/40: Train Loss=1.29870, Train Accuracy=98.24047%\n"
     ]
    },
    {
     "name": "stderr",
     "output_type": "stream",
     "text": [
      "                                                         \r"
     ]
    },
    {
     "name": "stdout",
     "output_type": "stream",
     "text": [
      "Epoch 21/40 validation: val_loss=1.89031, val_acc=34.63035%\n"
     ]
    },
    {
     "name": "stderr",
     "output_type": "stream",
     "text": [
      "                                                            \r"
     ]
    },
    {
     "name": "stdout",
     "output_type": "stream",
     "text": [
      "Epoch 22/40: Train Loss=1.29797, Train Accuracy=98.24047%\n"
     ]
    },
    {
     "name": "stderr",
     "output_type": "stream",
     "text": [
      "                                                         \r"
     ]
    },
    {
     "name": "stdout",
     "output_type": "stream",
     "text": [
      "Epoch 22/40 validation: val_loss=1.89078, val_acc=34.63035%\n"
     ]
    },
    {
     "name": "stderr",
     "output_type": "stream",
     "text": [
      "                                                            \r"
     ]
    },
    {
     "name": "stdout",
     "output_type": "stream",
     "text": [
      "Epoch 23/40: Train Loss=1.29772, Train Accuracy=98.24047%\n"
     ]
    },
    {
     "name": "stderr",
     "output_type": "stream",
     "text": [
      "                                                         \r"
     ]
    },
    {
     "name": "stdout",
     "output_type": "stream",
     "text": [
      "Epoch 23/40 validation: val_loss=1.88925, val_acc=36.18677%\n"
     ]
    },
    {
     "name": "stderr",
     "output_type": "stream",
     "text": [
      "                                                            \r"
     ]
    },
    {
     "name": "stdout",
     "output_type": "stream",
     "text": [
      "Epoch 24/40: Train Loss=1.29539, Train Accuracy=98.24047%\n"
     ]
    },
    {
     "name": "stderr",
     "output_type": "stream",
     "text": [
      "                                                         \r"
     ]
    },
    {
     "name": "stdout",
     "output_type": "stream",
     "text": [
      "Epoch 24/40 validation: val_loss=1.88915, val_acc=36.18677%\n"
     ]
    },
    {
     "name": "stderr",
     "output_type": "stream",
     "text": [
      "                                                            \r"
     ]
    },
    {
     "name": "stdout",
     "output_type": "stream",
     "text": [
      "Epoch 25/40: Train Loss=1.29723, Train Accuracy=98.24047%\n"
     ]
    },
    {
     "name": "stderr",
     "output_type": "stream",
     "text": [
      "                                                         \r"
     ]
    },
    {
     "name": "stdout",
     "output_type": "stream",
     "text": [
      "Epoch 25/40 validation: val_loss=1.88940, val_acc=36.57588%\n"
     ]
    },
    {
     "name": "stderr",
     "output_type": "stream",
     "text": [
      "                                                            \r"
     ]
    },
    {
     "name": "stdout",
     "output_type": "stream",
     "text": [
      "Epoch 26/40: Train Loss=1.29591, Train Accuracy=98.24047%\n"
     ]
    },
    {
     "name": "stderr",
     "output_type": "stream",
     "text": [
      "                                                         \r"
     ]
    },
    {
     "name": "stdout",
     "output_type": "stream",
     "text": [
      "Epoch 26/40 validation: val_loss=1.89066, val_acc=35.79767%\n"
     ]
    },
    {
     "name": "stderr",
     "output_type": "stream",
     "text": [
      "                                                            \r"
     ]
    },
    {
     "name": "stdout",
     "output_type": "stream",
     "text": [
      "Epoch 27/40: Train Loss=1.29480, Train Accuracy=98.24047%\n"
     ]
    },
    {
     "name": "stderr",
     "output_type": "stream",
     "text": [
      "                                                         \r"
     ]
    },
    {
     "name": "stdout",
     "output_type": "stream",
     "text": [
      "Epoch 27/40 validation: val_loss=1.89113, val_acc=35.40856%\n"
     ]
    },
    {
     "name": "stderr",
     "output_type": "stream",
     "text": [
      "                                                            \r"
     ]
    },
    {
     "name": "stdout",
     "output_type": "stream",
     "text": [
      "Epoch 28/40: Train Loss=1.29276, Train Accuracy=98.53372%\n"
     ]
    },
    {
     "name": "stderr",
     "output_type": "stream",
     "text": [
      "                                                         \r"
     ]
    },
    {
     "name": "stdout",
     "output_type": "stream",
     "text": [
      "Epoch 28/40 validation: val_loss=1.89128, val_acc=35.79767%\n"
     ]
    },
    {
     "name": "stderr",
     "output_type": "stream",
     "text": [
      "                                                            \r"
     ]
    },
    {
     "name": "stdout",
     "output_type": "stream",
     "text": [
      "Epoch 29/40: Train Loss=1.29211, Train Accuracy=98.53372%\n"
     ]
    },
    {
     "name": "stderr",
     "output_type": "stream",
     "text": [
      "                                                         \r"
     ]
    },
    {
     "name": "stdout",
     "output_type": "stream",
     "text": [
      "Epoch 29/40 validation: val_loss=1.89218, val_acc=35.40856%\n"
     ]
    },
    {
     "name": "stderr",
     "output_type": "stream",
     "text": [
      "                                                            \r"
     ]
    },
    {
     "name": "stdout",
     "output_type": "stream",
     "text": [
      "Epoch 30/40: Train Loss=1.29138, Train Accuracy=98.53372%\n"
     ]
    },
    {
     "name": "stderr",
     "output_type": "stream",
     "text": [
      "                                                         \r"
     ]
    },
    {
     "name": "stdout",
     "output_type": "stream",
     "text": [
      "Epoch 30/40 validation: val_loss=1.89296, val_acc=35.01946%\n"
     ]
    },
    {
     "name": "stderr",
     "output_type": "stream",
     "text": [
      "                                                            \r"
     ]
    },
    {
     "name": "stdout",
     "output_type": "stream",
     "text": [
      "Epoch 31/40: Train Loss=1.29090, Train Accuracy=98.53372%\n"
     ]
    },
    {
     "name": "stderr",
     "output_type": "stream",
     "text": [
      "                                                         \r"
     ]
    },
    {
     "name": "stdout",
     "output_type": "stream",
     "text": [
      "Epoch 31/40 validation: val_loss=1.89346, val_acc=34.63035%\n"
     ]
    },
    {
     "name": "stderr",
     "output_type": "stream",
     "text": [
      "                                                            \r"
     ]
    },
    {
     "name": "stdout",
     "output_type": "stream",
     "text": [
      "Epoch 32/40: Train Loss=1.29069, Train Accuracy=98.53372%\n"
     ]
    },
    {
     "name": "stderr",
     "output_type": "stream",
     "text": [
      "                                                         \r"
     ]
    },
    {
     "name": "stdout",
     "output_type": "stream",
     "text": [
      "Epoch 32/40 validation: val_loss=1.89360, val_acc=34.63035%\n"
     ]
    },
    {
     "name": "stderr",
     "output_type": "stream",
     "text": [
      "                                                            \r"
     ]
    },
    {
     "name": "stdout",
     "output_type": "stream",
     "text": [
      "Epoch 33/40: Train Loss=1.29062, Train Accuracy=98.53372%\n"
     ]
    },
    {
     "name": "stderr",
     "output_type": "stream",
     "text": [
      "                                                         \r"
     ]
    },
    {
     "name": "stdout",
     "output_type": "stream",
     "text": [
      "Epoch 33/40 validation: val_loss=1.89278, val_acc=34.63035%\n"
     ]
    },
    {
     "name": "stderr",
     "output_type": "stream",
     "text": [
      "                                                            \r"
     ]
    },
    {
     "name": "stdout",
     "output_type": "stream",
     "text": [
      "Epoch 34/40: Train Loss=1.29005, Train Accuracy=98.53372%\n"
     ]
    },
    {
     "name": "stderr",
     "output_type": "stream",
     "text": [
      "                                                         \r"
     ]
    },
    {
     "name": "stdout",
     "output_type": "stream",
     "text": [
      "Epoch 34/40 validation: val_loss=1.89237, val_acc=35.01946%\n"
     ]
    },
    {
     "name": "stderr",
     "output_type": "stream",
     "text": [
      "                                                            \r"
     ]
    },
    {
     "name": "stdout",
     "output_type": "stream",
     "text": [
      "Epoch 35/40: Train Loss=1.28941, Train Accuracy=98.53372%\n"
     ]
    },
    {
     "name": "stderr",
     "output_type": "stream",
     "text": [
      "                                                         \r"
     ]
    },
    {
     "name": "stdout",
     "output_type": "stream",
     "text": [
      "Epoch 35/40 validation: val_loss=1.89374, val_acc=35.01946%\n"
     ]
    },
    {
     "name": "stderr",
     "output_type": "stream",
     "text": [
      "                                                            \r"
     ]
    },
    {
     "name": "stdout",
     "output_type": "stream",
     "text": [
      "Epoch 36/40: Train Loss=1.28934, Train Accuracy=98.53372%\n"
     ]
    },
    {
     "name": "stderr",
     "output_type": "stream",
     "text": [
      "                                                         \r"
     ]
    },
    {
     "name": "stdout",
     "output_type": "stream",
     "text": [
      "Epoch 36/40 validation: val_loss=1.89374, val_acc=35.01946%\n"
     ]
    },
    {
     "name": "stderr",
     "output_type": "stream",
     "text": [
      "                                                            \r"
     ]
    },
    {
     "name": "stdout",
     "output_type": "stream",
     "text": [
      "Epoch 37/40: Train Loss=1.28923, Train Accuracy=98.53372%\n"
     ]
    },
    {
     "name": "stderr",
     "output_type": "stream",
     "text": [
      "                                                         \r"
     ]
    },
    {
     "name": "stdout",
     "output_type": "stream",
     "text": [
      "Epoch 37/40 validation: val_loss=1.89384, val_acc=34.63035%\n"
     ]
    },
    {
     "name": "stderr",
     "output_type": "stream",
     "text": [
      "                                                            \r"
     ]
    },
    {
     "name": "stdout",
     "output_type": "stream",
     "text": [
      "Epoch 38/40: Train Loss=1.28893, Train Accuracy=98.53372%\n"
     ]
    },
    {
     "name": "stderr",
     "output_type": "stream",
     "text": [
      "                                                         \r"
     ]
    },
    {
     "name": "stdout",
     "output_type": "stream",
     "text": [
      "Epoch 38/40 validation: val_loss=1.89391, val_acc=34.63035%\n"
     ]
    },
    {
     "name": "stderr",
     "output_type": "stream",
     "text": [
      "                                                            \r"
     ]
    },
    {
     "name": "stdout",
     "output_type": "stream",
     "text": [
      "Epoch 39/40: Train Loss=1.28812, Train Accuracy=98.82698%\n"
     ]
    },
    {
     "name": "stderr",
     "output_type": "stream",
     "text": [
      "                                                         \r"
     ]
    },
    {
     "name": "stdout",
     "output_type": "stream",
     "text": [
      "Epoch 39/40 validation: val_loss=1.89414, val_acc=35.01946%\n"
     ]
    },
    {
     "name": "stderr",
     "output_type": "stream",
     "text": [
      "                                                            \r"
     ]
    },
    {
     "name": "stdout",
     "output_type": "stream",
     "text": [
      "Epoch 40/40: Train Loss=1.28635, Train Accuracy=98.82698%\n"
     ]
    },
    {
     "name": "stderr",
     "output_type": "stream",
     "text": [
      "                                                         \r"
     ]
    },
    {
     "name": "stdout",
     "output_type": "stream",
     "text": [
      "Epoch 40/40 validation: val_loss=1.89516, val_acc=34.63035%\n",
      "Loading data from cache file: 1.pkl\n"
     ]
    },
    {
     "name": "stderr",
     "output_type": "stream",
     "text": [
      "                                                      "
     ]
    },
    {
     "name": "stdout",
     "output_type": "stream",
     "text": [
      "Test Accuracy: 16.01562%\n"
     ]
    },
    {
     "name": "stderr",
     "output_type": "stream",
     "text": [
      "\r"
     ]
    }
   ],
   "source": [
    "import torch\n",
    "import torch.nn as nn\n",
    "import torch.optim as optim\n",
    "import torch.nn.functional as F\n",
    "from tqdm import tqdm\n",
    "if(option == 2):\n",
    "    learning_rates = [0.001]\n",
    "    for l in learning_rates:\n",
    "        # Lists to store accuracy and loss values\n",
    "        train_losses = []\n",
    "        train_accuracies = []\n",
    "        val_losses = []\n",
    "        val_accuracies = []\n",
    "        train_dataset = MaqamDataset(mode='train', cache_file = 'baggina2.pkl',test_size=0.2, dir = \"/home/faisal/Desktop/MAQAMAT/bagging2\")\n",
    "        val_dataset = MaqamDataset(mode='val', test_size=0.2)\n",
    "        train_loader = DataLoader(train_dataset, batch_size=batch_size, shuffle=True, collate_fn=custom_collate)\n",
    "        val_loader = DataLoader(val_dataset, batch_size=batch_size, shuffle=False, collate_fn=custom_collate)\n",
    "        print(\"_________________________________________________________\")\n",
    "        print(\"Learning rate = \", l)\n",
    "        # Rest of the model definition and data loaders\n",
    "\n",
    "        # Initialize model and define loss function and optimizer\n",
    "        device = torch.device(\"cuda:0\" if torch.cuda.is_available() else \"cpu\")\n",
    "\n",
    "        model = MFCC_LSTM2().to(device)\n",
    "        criterion = torch.nn.CrossEntropyLoss()\n",
    "        optimizer = torch.optim.Adam(model.parameters(), lr=l)\n",
    "\n",
    "        # Train the model for a specified number of epochs\n",
    "        num_epochs = 40\n",
    "        patience = 40  # Number of epochs to wait for improvement before early stopping\n",
    "        best_val_loss = float('inf')\n",
    "        best_model_state_dict = None\n",
    "        no_improvement_epochs = 0\n",
    "\n",
    "        print(\"Starting training\")\n",
    "        for epoch in range(num_epochs):\n",
    "            # Set the model to training mode for the current epoch\n",
    "            model.train()\n",
    "\n",
    "            # Training loop\n",
    "            running_loss = 0.0\n",
    "            correct_predictions = 0\n",
    "            total_samples = 0\n",
    "\n",
    "            for i, data in enumerate(tqdm(train_loader, desc=f'Epoch {epoch + 1}/{num_epochs}', leave=False)):\n",
    "                inputs, targets = data  # MFCCs and labels\n",
    "                targets = targets.to(device)\n",
    "                inputs = inputs.to(device)\n",
    "                optimizer.zero_grad()\n",
    "                outputs = model(inputs)\n",
    "                loss = criterion(outputs, targets)\n",
    "                loss.backward()\n",
    "                optimizer.step()\n",
    "\n",
    "                # Update the loss and accuracy metrics\n",
    "                running_loss += loss.item()\n",
    "                _, predicted_labels = torch.max(outputs, 1)\n",
    "                correct_predictions += (predicted_labels == targets).sum().item()\n",
    "                total_samples += len(targets)\n",
    "\n",
    "            # Calculate and print average loss and accuracy for the current epoch\n",
    "            avg_loss = running_loss / len(train_loader)\n",
    "            avg_accuracy = 100 * correct_predictions / total_samples\n",
    "            print(f'Epoch {epoch + 1}/{num_epochs}: Train Loss={avg_loss:.5f}, Train Accuracy={avg_accuracy:.5f}%')\n",
    "\n",
    "            # Validation loop\n",
    "            model.eval()\n",
    "            val_loss = 0.0\n",
    "            total_correct = 0\n",
    "            total_samples = 0\n",
    "\n",
    "            with torch.no_grad():\n",
    "                for data in tqdm(val_loader, desc='Validation', leave=False):\n",
    "                    inputs, targets = data  # MFCCs and labels\n",
    "                    targets = targets.to(device)\n",
    "                    inputs = inputs.to(device)\n",
    "                    outputs = model(inputs)\n",
    "                    val_loss += criterion(outputs, targets).item() * len(targets)\n",
    "\n",
    "                    _, predicted_labels = torch.max(outputs, 1)\n",
    "                    total_correct += (predicted_labels == targets).sum().item()\n",
    "                    total_samples += len(targets)\n",
    "\n",
    "            val_loss /= len(val_dataset)\n",
    "            val_acc = 100 * total_correct / total_samples\n",
    "\n",
    "            train_losses.append(avg_loss)\n",
    "            train_accuracies.append(avg_accuracy)\n",
    "            val_losses.append(val_loss)\n",
    "            val_accuracies.append(val_acc)\n",
    "\n",
    "            print(f'Epoch {epoch + 1}/{num_epochs} validation: val_loss={val_loss:.5f}, val_acc={val_acc:.5f}%')\n",
    "\n",
    "            # Check for early stopping\n",
    "            if val_loss < best_val_loss:\n",
    "                best_val_loss = val_loss\n",
    "                best_model_state_dict = model.state_dict()\n",
    "                no_improvement_epochs = 0\n",
    "            else:\n",
    "                no_improvement_epochs += 1\n",
    "\n",
    "            if no_improvement_epochs >= patience:\n",
    "                print(\"Early stopping. No improvement in validation loss for {} epochs.\".format(patience))\n",
    "                break\n",
    "\n",
    "        # Load the best model state dict\n",
    "        if best_model_state_dict is not None:\n",
    "            model.load_state_dict(best_model_state_dict)\n",
    "\n",
    "        # Test the model on the test dataset\n",
    "        test_dataset = MaqamDataset(mode='test', cache_file='1.pkl')\n",
    "        test_loader = DataLoader(test_dataset, batch_size=batch_size, shuffle=False, collate_fn=custom_collate)\n",
    "\n",
    "        model.eval()\n",
    "        total_correct = 0\n",
    "        total_samples = 0\n",
    "\n",
    "        with torch.no_grad():\n",
    "            for data in tqdm(test_loader, desc='Testing', leave=False):\n",
    "                inputs, targets = data\n",
    "                targets = targets.to(device)\n",
    "                inputs = inputs.to(device)\n",
    "                outputs = model(inputs)\n",
    "\n",
    "                _, predicted_labels = torch.max(outputs, 1)\n",
    "                total_correct += (predicted_labels == targets).sum().item()\n",
    "                total_samples += len(targets)\n",
    "\n",
    "        test_acc = 100 * total_correct / total_samples\n",
    "        print(f'Test Accuracy: {test_acc:.5f}%')\n",
    "\n",
    "        # Save the trained model\n",
    "        torch.save(model.state_dict(), 'bagging2.pth')\n",
    "\n",
    "option = 3\n"
   ]
  },
  {
   "cell_type": "code",
   "execution_count": 13,
   "metadata": {},
   "outputs": [],
   "source": [
    "# Save the trained model\n",
    "torch.save(model.state_dict(), 'bagging3.pth')\n",
    "plt.figure()\n",
    "plt.plot(range(1, len(train_losses) + 1), train_losses, label='Train Loss')\n",
    "plt.plot(range(1, len(val_losses) + 1), val_losses, label='Validation Loss')\n",
    "plt.xlabel('Epoch')\n",
    "plt.ylabel('Loss')\n",
    "plt.legend()\n",
    "plt.title(f'Learning Rate: {l}')\n",
    "plt.savefig(f'LSTM loss_plot_lr_{l}.png')\n",
    "plt.close()\n",
    "\n",
    "plt.figure()\n",
    "plt.plot(range(1, len(train_accuracies) + 1), train_accuracies, label='Train Accuracy')\n",
    "plt.plot(range(1, len(val_accuracies) + 1), val_accuracies, label='Validation Accuracy')\n",
    "plt.xlabel('Epoch')\n",
    "plt.ylabel('Accuracy')\n",
    "plt.legend()\n",
    "plt.title(f'Learning Rate: {l}')\n",
    "plt.savefig(f'LSTM accuracy_plot_lr_{l}.png')\n",
    "plt.close()"
   ]
  },
  {
   "cell_type": "code",
   "execution_count": 14,
   "metadata": {},
   "outputs": [
    {
     "name": "stdout",
     "output_type": "stream",
     "text": [
      "Loading data from cache file: baggina3.pkl\n",
      "Loading data from cache file: 1.pkl\n",
      "_________________________________________________________\n",
      "Learning rate =  0.001\n",
      "Starting training\n"
     ]
    },
    {
     "name": "stderr",
     "output_type": "stream",
     "text": [
      "                                                           \r"
     ]
    },
    {
     "name": "stdout",
     "output_type": "stream",
     "text": [
      "Epoch 1/40: Train Loss=1.99483, Train Accuracy=31.67155%\n"
     ]
    },
    {
     "name": "stderr",
     "output_type": "stream",
     "text": [
      "                                                         \r"
     ]
    },
    {
     "name": "stdout",
     "output_type": "stream",
     "text": [
      "Epoch 1/40 validation: val_loss=2.07080, val_acc=18.28794%\n"
     ]
    },
    {
     "name": "stderr",
     "output_type": "stream",
     "text": [
      "                                                           \r"
     ]
    },
    {
     "name": "stdout",
     "output_type": "stream",
     "text": [
      "Epoch 2/40: Train Loss=1.81189, Train Accuracy=58.06452%\n"
     ]
    },
    {
     "name": "stderr",
     "output_type": "stream",
     "text": [
      "                                                         \r"
     ]
    },
    {
     "name": "stdout",
     "output_type": "stream",
     "text": [
      "Epoch 2/40 validation: val_loss=2.02499, val_acc=24.12451%\n"
     ]
    },
    {
     "name": "stderr",
     "output_type": "stream",
     "text": [
      "                                                           \r"
     ]
    },
    {
     "name": "stdout",
     "output_type": "stream",
     "text": [
      "Epoch 3/40: Train Loss=1.71489, Train Accuracy=64.80938%\n"
     ]
    },
    {
     "name": "stderr",
     "output_type": "stream",
     "text": [
      "                                                         \r"
     ]
    },
    {
     "name": "stdout",
     "output_type": "stream",
     "text": [
      "Epoch 3/40 validation: val_loss=1.98385, val_acc=28.40467%\n"
     ]
    },
    {
     "name": "stderr",
     "output_type": "stream",
     "text": [
      "                                                           \r"
     ]
    },
    {
     "name": "stdout",
     "output_type": "stream",
     "text": [
      "Epoch 4/40: Train Loss=1.64932, Train Accuracy=69.50147%\n"
     ]
    },
    {
     "name": "stderr",
     "output_type": "stream",
     "text": [
      "                                                         \r"
     ]
    },
    {
     "name": "stdout",
     "output_type": "stream",
     "text": [
      "Epoch 4/40 validation: val_loss=1.94084, val_acc=32.29572%\n"
     ]
    },
    {
     "name": "stderr",
     "output_type": "stream",
     "text": [
      "                                                           \r"
     ]
    },
    {
     "name": "stdout",
     "output_type": "stream",
     "text": [
      "Epoch 5/40: Train Loss=1.57819, Train Accuracy=77.71261%\n"
     ]
    },
    {
     "name": "stderr",
     "output_type": "stream",
     "text": [
      "                                                         \r"
     ]
    },
    {
     "name": "stdout",
     "output_type": "stream",
     "text": [
      "Epoch 5/40 validation: val_loss=1.92366, val_acc=36.18677%\n"
     ]
    },
    {
     "name": "stderr",
     "output_type": "stream",
     "text": [
      "                                                           \r"
     ]
    },
    {
     "name": "stdout",
     "output_type": "stream",
     "text": [
      "Epoch 6/40: Train Loss=1.51638, Train Accuracy=83.28446%\n"
     ]
    },
    {
     "name": "stderr",
     "output_type": "stream",
     "text": [
      "                                                         \r"
     ]
    },
    {
     "name": "stdout",
     "output_type": "stream",
     "text": [
      "Epoch 6/40 validation: val_loss=1.91063, val_acc=37.74319%\n"
     ]
    },
    {
     "name": "stderr",
     "output_type": "stream",
     "text": [
      "                                                           \r"
     ]
    },
    {
     "name": "stdout",
     "output_type": "stream",
     "text": [
      "Epoch 7/40: Train Loss=1.45600, Train Accuracy=90.02933%\n"
     ]
    },
    {
     "name": "stderr",
     "output_type": "stream",
     "text": [
      "                                                         \r"
     ]
    },
    {
     "name": "stdout",
     "output_type": "stream",
     "text": [
      "Epoch 7/40 validation: val_loss=1.88841, val_acc=38.52140%\n"
     ]
    },
    {
     "name": "stderr",
     "output_type": "stream",
     "text": [
      "                                                           \r"
     ]
    },
    {
     "name": "stdout",
     "output_type": "stream",
     "text": [
      "Epoch 8/40: Train Loss=1.42968, Train Accuracy=90.02933%\n"
     ]
    },
    {
     "name": "stderr",
     "output_type": "stream",
     "text": [
      "                                                         \r"
     ]
    },
    {
     "name": "stdout",
     "output_type": "stream",
     "text": [
      "Epoch 8/40 validation: val_loss=1.88063, val_acc=38.91051%\n"
     ]
    },
    {
     "name": "stderr",
     "output_type": "stream",
     "text": [
      "                                                           \r"
     ]
    },
    {
     "name": "stdout",
     "output_type": "stream",
     "text": [
      "Epoch 9/40: Train Loss=1.39796, Train Accuracy=91.20235%\n"
     ]
    },
    {
     "name": "stderr",
     "output_type": "stream",
     "text": [
      "                                                         \r"
     ]
    },
    {
     "name": "stdout",
     "output_type": "stream",
     "text": [
      "Epoch 9/40 validation: val_loss=1.89080, val_acc=37.35409%\n"
     ]
    },
    {
     "name": "stderr",
     "output_type": "stream",
     "text": [
      "                                                            \r"
     ]
    },
    {
     "name": "stdout",
     "output_type": "stream",
     "text": [
      "Epoch 10/40: Train Loss=1.38071, Train Accuracy=92.66862%\n"
     ]
    },
    {
     "name": "stderr",
     "output_type": "stream",
     "text": [
      "                                                         \r"
     ]
    },
    {
     "name": "stdout",
     "output_type": "stream",
     "text": [
      "Epoch 10/40 validation: val_loss=1.88243, val_acc=38.91051%\n"
     ]
    },
    {
     "name": "stderr",
     "output_type": "stream",
     "text": [
      "                                                            \r"
     ]
    },
    {
     "name": "stdout",
     "output_type": "stream",
     "text": [
      "Epoch 11/40: Train Loss=1.37753, Train Accuracy=92.37537%\n"
     ]
    },
    {
     "name": "stderr",
     "output_type": "stream",
     "text": [
      "                                                         \r"
     ]
    },
    {
     "name": "stdout",
     "output_type": "stream",
     "text": [
      "Epoch 11/40 validation: val_loss=1.89196, val_acc=38.52140%\n"
     ]
    },
    {
     "name": "stderr",
     "output_type": "stream",
     "text": [
      "                                                            \r"
     ]
    },
    {
     "name": "stdout",
     "output_type": "stream",
     "text": [
      "Epoch 12/40: Train Loss=1.35765, Train Accuracy=94.13490%\n"
     ]
    },
    {
     "name": "stderr",
     "output_type": "stream",
     "text": [
      "                                                         \r"
     ]
    },
    {
     "name": "stdout",
     "output_type": "stream",
     "text": [
      "Epoch 12/40 validation: val_loss=1.90497, val_acc=37.35409%\n"
     ]
    },
    {
     "name": "stderr",
     "output_type": "stream",
     "text": [
      "                                                            \r"
     ]
    },
    {
     "name": "stdout",
     "output_type": "stream",
     "text": [
      "Epoch 13/40: Train Loss=1.34945, Train Accuracy=94.72141%\n"
     ]
    },
    {
     "name": "stderr",
     "output_type": "stream",
     "text": [
      "                                                         \r"
     ]
    },
    {
     "name": "stdout",
     "output_type": "stream",
     "text": [
      "Epoch 13/40 validation: val_loss=1.87901, val_acc=38.91051%\n"
     ]
    },
    {
     "name": "stderr",
     "output_type": "stream",
     "text": [
      "                                                            \r"
     ]
    },
    {
     "name": "stdout",
     "output_type": "stream",
     "text": [
      "Epoch 14/40: Train Loss=1.33474, Train Accuracy=95.60117%\n"
     ]
    },
    {
     "name": "stderr",
     "output_type": "stream",
     "text": [
      "                                                         \r"
     ]
    },
    {
     "name": "stdout",
     "output_type": "stream",
     "text": [
      "Epoch 14/40 validation: val_loss=1.88542, val_acc=38.13230%\n"
     ]
    },
    {
     "name": "stderr",
     "output_type": "stream",
     "text": [
      "                                                            \r"
     ]
    },
    {
     "name": "stdout",
     "output_type": "stream",
     "text": [
      "Epoch 15/40: Train Loss=1.34329, Train Accuracy=94.72141%\n"
     ]
    },
    {
     "name": "stderr",
     "output_type": "stream",
     "text": [
      "                                                         \r"
     ]
    },
    {
     "name": "stdout",
     "output_type": "stream",
     "text": [
      "Epoch 15/40 validation: val_loss=1.86842, val_acc=40.07782%\n"
     ]
    },
    {
     "name": "stderr",
     "output_type": "stream",
     "text": [
      "                                                            \r"
     ]
    },
    {
     "name": "stdout",
     "output_type": "stream",
     "text": [
      "Epoch 16/40: Train Loss=1.31383, Train Accuracy=97.36070%\n"
     ]
    },
    {
     "name": "stderr",
     "output_type": "stream",
     "text": [
      "                                                         \r"
     ]
    },
    {
     "name": "stdout",
     "output_type": "stream",
     "text": [
      "Epoch 16/40 validation: val_loss=1.86249, val_acc=40.46693%\n"
     ]
    },
    {
     "name": "stderr",
     "output_type": "stream",
     "text": [
      "                                                            \r"
     ]
    },
    {
     "name": "stdout",
     "output_type": "stream",
     "text": [
      "Epoch 17/40: Train Loss=1.32397, Train Accuracy=96.77419%\n"
     ]
    },
    {
     "name": "stderr",
     "output_type": "stream",
     "text": [
      "                                                         \r"
     ]
    },
    {
     "name": "stdout",
     "output_type": "stream",
     "text": [
      "Epoch 17/40 validation: val_loss=1.88257, val_acc=38.13230%\n"
     ]
    },
    {
     "name": "stderr",
     "output_type": "stream",
     "text": [
      "                                                            \r"
     ]
    },
    {
     "name": "stdout",
     "output_type": "stream",
     "text": [
      "Epoch 18/40: Train Loss=1.32115, Train Accuracy=97.06745%\n"
     ]
    },
    {
     "name": "stderr",
     "output_type": "stream",
     "text": [
      "                                                         \r"
     ]
    },
    {
     "name": "stdout",
     "output_type": "stream",
     "text": [
      "Epoch 18/40 validation: val_loss=1.88525, val_acc=38.91051%\n"
     ]
    },
    {
     "name": "stderr",
     "output_type": "stream",
     "text": [
      "                                                            \r"
     ]
    },
    {
     "name": "stdout",
     "output_type": "stream",
     "text": [
      "Epoch 19/40: Train Loss=1.31136, Train Accuracy=97.65396%\n"
     ]
    },
    {
     "name": "stderr",
     "output_type": "stream",
     "text": [
      "                                                         \r"
     ]
    },
    {
     "name": "stdout",
     "output_type": "stream",
     "text": [
      "Epoch 19/40 validation: val_loss=1.88123, val_acc=38.52140%\n"
     ]
    },
    {
     "name": "stderr",
     "output_type": "stream",
     "text": [
      "                                                            \r"
     ]
    },
    {
     "name": "stdout",
     "output_type": "stream",
     "text": [
      "Epoch 20/40: Train Loss=1.30729, Train Accuracy=97.65396%\n"
     ]
    },
    {
     "name": "stderr",
     "output_type": "stream",
     "text": [
      "                                                         \r"
     ]
    },
    {
     "name": "stdout",
     "output_type": "stream",
     "text": [
      "Epoch 20/40 validation: val_loss=1.87938, val_acc=39.68872%\n"
     ]
    },
    {
     "name": "stderr",
     "output_type": "stream",
     "text": [
      "                                                            \r"
     ]
    },
    {
     "name": "stdout",
     "output_type": "stream",
     "text": [
      "Epoch 21/40: Train Loss=1.32384, Train Accuracy=95.89443%\n"
     ]
    },
    {
     "name": "stderr",
     "output_type": "stream",
     "text": [
      "                                                         \r"
     ]
    },
    {
     "name": "stdout",
     "output_type": "stream",
     "text": [
      "Epoch 21/40 validation: val_loss=1.87417, val_acc=39.29961%\n"
     ]
    },
    {
     "name": "stderr",
     "output_type": "stream",
     "text": [
      "                                                            \r"
     ]
    },
    {
     "name": "stdout",
     "output_type": "stream",
     "text": [
      "Epoch 22/40: Train Loss=1.31118, Train Accuracy=97.06745%\n"
     ]
    },
    {
     "name": "stderr",
     "output_type": "stream",
     "text": [
      "                                                         \r"
     ]
    },
    {
     "name": "stdout",
     "output_type": "stream",
     "text": [
      "Epoch 22/40 validation: val_loss=1.88526, val_acc=38.52140%\n"
     ]
    },
    {
     "name": "stderr",
     "output_type": "stream",
     "text": [
      "                                                            \r"
     ]
    },
    {
     "name": "stdout",
     "output_type": "stream",
     "text": [
      "Epoch 23/40: Train Loss=1.31301, Train Accuracy=96.77419%\n"
     ]
    },
    {
     "name": "stderr",
     "output_type": "stream",
     "text": [
      "                                                         \r"
     ]
    },
    {
     "name": "stdout",
     "output_type": "stream",
     "text": [
      "Epoch 23/40 validation: val_loss=1.89854, val_acc=36.57588%\n"
     ]
    },
    {
     "name": "stderr",
     "output_type": "stream",
     "text": [
      "                                                            \r"
     ]
    },
    {
     "name": "stdout",
     "output_type": "stream",
     "text": [
      "Epoch 24/40: Train Loss=1.32640, Train Accuracy=95.60117%\n"
     ]
    },
    {
     "name": "stderr",
     "output_type": "stream",
     "text": [
      "                                                         \r"
     ]
    },
    {
     "name": "stdout",
     "output_type": "stream",
     "text": [
      "Epoch 24/40 validation: val_loss=1.91483, val_acc=34.63035%\n"
     ]
    },
    {
     "name": "stderr",
     "output_type": "stream",
     "text": [
      "                                                            \r"
     ]
    },
    {
     "name": "stdout",
     "output_type": "stream",
     "text": [
      "Epoch 25/40: Train Loss=1.32949, Train Accuracy=96.48094%\n"
     ]
    },
    {
     "name": "stderr",
     "output_type": "stream",
     "text": [
      "                                                         \r"
     ]
    },
    {
     "name": "stdout",
     "output_type": "stream",
     "text": [
      "Epoch 25/40 validation: val_loss=1.89527, val_acc=36.96498%\n"
     ]
    },
    {
     "name": "stderr",
     "output_type": "stream",
     "text": [
      "                                                            \r"
     ]
    },
    {
     "name": "stdout",
     "output_type": "stream",
     "text": [
      "Epoch 26/40: Train Loss=1.33152, Train Accuracy=95.60117%\n"
     ]
    },
    {
     "name": "stderr",
     "output_type": "stream",
     "text": [
      "                                                         \r"
     ]
    },
    {
     "name": "stdout",
     "output_type": "stream",
     "text": [
      "Epoch 26/40 validation: val_loss=1.90741, val_acc=36.18677%\n"
     ]
    },
    {
     "name": "stderr",
     "output_type": "stream",
     "text": [
      "                                                            \r"
     ]
    },
    {
     "name": "stdout",
     "output_type": "stream",
     "text": [
      "Epoch 27/40: Train Loss=1.32902, Train Accuracy=95.60117%\n"
     ]
    },
    {
     "name": "stderr",
     "output_type": "stream",
     "text": [
      "                                                         \r"
     ]
    },
    {
     "name": "stdout",
     "output_type": "stream",
     "text": [
      "Epoch 27/40 validation: val_loss=1.91013, val_acc=36.18677%\n"
     ]
    },
    {
     "name": "stderr",
     "output_type": "stream",
     "text": [
      "                                                            \r"
     ]
    },
    {
     "name": "stdout",
     "output_type": "stream",
     "text": [
      "Epoch 28/40: Train Loss=1.31118, Train Accuracy=97.36070%\n"
     ]
    },
    {
     "name": "stderr",
     "output_type": "stream",
     "text": [
      "                                                         \r"
     ]
    },
    {
     "name": "stdout",
     "output_type": "stream",
     "text": [
      "Epoch 28/40 validation: val_loss=1.90938, val_acc=35.01946%\n"
     ]
    },
    {
     "name": "stderr",
     "output_type": "stream",
     "text": [
      "                                                            \r"
     ]
    },
    {
     "name": "stdout",
     "output_type": "stream",
     "text": [
      "Epoch 29/40: Train Loss=1.30777, Train Accuracy=97.94721%\n"
     ]
    },
    {
     "name": "stderr",
     "output_type": "stream",
     "text": [
      "                                                         \r"
     ]
    },
    {
     "name": "stdout",
     "output_type": "stream",
     "text": [
      "Epoch 29/40 validation: val_loss=1.91738, val_acc=34.63035%\n"
     ]
    },
    {
     "name": "stderr",
     "output_type": "stream",
     "text": [
      "                                                            \r"
     ]
    },
    {
     "name": "stdout",
     "output_type": "stream",
     "text": [
      "Epoch 30/40: Train Loss=1.32229, Train Accuracy=96.48094%\n"
     ]
    },
    {
     "name": "stderr",
     "output_type": "stream",
     "text": [
      "                                                         \r"
     ]
    },
    {
     "name": "stdout",
     "output_type": "stream",
     "text": [
      "Epoch 30/40 validation: val_loss=1.90306, val_acc=36.18677%\n"
     ]
    },
    {
     "name": "stderr",
     "output_type": "stream",
     "text": [
      "                                                            \r"
     ]
    },
    {
     "name": "stdout",
     "output_type": "stream",
     "text": [
      "Epoch 31/40: Train Loss=1.33267, Train Accuracy=95.01466%\n"
     ]
    },
    {
     "name": "stderr",
     "output_type": "stream",
     "text": [
      "                                                         \r"
     ]
    },
    {
     "name": "stdout",
     "output_type": "stream",
     "text": [
      "Epoch 31/40 validation: val_loss=1.90988, val_acc=35.40856%\n"
     ]
    },
    {
     "name": "stderr",
     "output_type": "stream",
     "text": [
      "                                                            \r"
     ]
    },
    {
     "name": "stdout",
     "output_type": "stream",
     "text": [
      "Epoch 32/40: Train Loss=1.31545, Train Accuracy=96.48094%\n"
     ]
    },
    {
     "name": "stderr",
     "output_type": "stream",
     "text": [
      "                                                         \r"
     ]
    },
    {
     "name": "stdout",
     "output_type": "stream",
     "text": [
      "Epoch 32/40 validation: val_loss=1.89865, val_acc=36.57588%\n"
     ]
    },
    {
     "name": "stderr",
     "output_type": "stream",
     "text": [
      "                                                            \r"
     ]
    },
    {
     "name": "stdout",
     "output_type": "stream",
     "text": [
      "Epoch 33/40: Train Loss=1.31878, Train Accuracy=96.18768%\n"
     ]
    },
    {
     "name": "stderr",
     "output_type": "stream",
     "text": [
      "                                                         \r"
     ]
    },
    {
     "name": "stdout",
     "output_type": "stream",
     "text": [
      "Epoch 33/40 validation: val_loss=1.90410, val_acc=36.57588%\n"
     ]
    },
    {
     "name": "stderr",
     "output_type": "stream",
     "text": [
      "                                                            \r"
     ]
    },
    {
     "name": "stdout",
     "output_type": "stream",
     "text": [
      "Epoch 34/40: Train Loss=1.31825, Train Accuracy=96.48094%\n"
     ]
    },
    {
     "name": "stderr",
     "output_type": "stream",
     "text": [
      "                                                         \r"
     ]
    },
    {
     "name": "stdout",
     "output_type": "stream",
     "text": [
      "Epoch 34/40 validation: val_loss=1.92171, val_acc=33.07393%\n"
     ]
    },
    {
     "name": "stderr",
     "output_type": "stream",
     "text": [
      "                                                            \r"
     ]
    },
    {
     "name": "stdout",
     "output_type": "stream",
     "text": [
      "Epoch 35/40: Train Loss=1.31437, Train Accuracy=96.48094%\n"
     ]
    },
    {
     "name": "stderr",
     "output_type": "stream",
     "text": [
      "                                                         \r"
     ]
    },
    {
     "name": "stdout",
     "output_type": "stream",
     "text": [
      "Epoch 35/40 validation: val_loss=1.91894, val_acc=34.63035%\n"
     ]
    },
    {
     "name": "stderr",
     "output_type": "stream",
     "text": [
      "                                                            \r"
     ]
    },
    {
     "name": "stdout",
     "output_type": "stream",
     "text": [
      "Epoch 36/40: Train Loss=1.32231, Train Accuracy=96.18768%\n"
     ]
    },
    {
     "name": "stderr",
     "output_type": "stream",
     "text": [
      "                                                         \r"
     ]
    },
    {
     "name": "stdout",
     "output_type": "stream",
     "text": [
      "Epoch 36/40 validation: val_loss=1.90264, val_acc=36.57588%\n"
     ]
    },
    {
     "name": "stderr",
     "output_type": "stream",
     "text": [
      "                                                            \r"
     ]
    },
    {
     "name": "stdout",
     "output_type": "stream",
     "text": [
      "Epoch 37/40: Train Loss=1.32665, Train Accuracy=95.30792%\n"
     ]
    },
    {
     "name": "stderr",
     "output_type": "stream",
     "text": [
      "                                                         \r"
     ]
    },
    {
     "name": "stdout",
     "output_type": "stream",
     "text": [
      "Epoch 37/40 validation: val_loss=1.90723, val_acc=36.57588%\n"
     ]
    },
    {
     "name": "stderr",
     "output_type": "stream",
     "text": [
      "                                                            \r"
     ]
    },
    {
     "name": "stdout",
     "output_type": "stream",
     "text": [
      "Epoch 38/40: Train Loss=1.29653, Train Accuracy=98.82698%\n"
     ]
    },
    {
     "name": "stderr",
     "output_type": "stream",
     "text": [
      "                                                         \r"
     ]
    },
    {
     "name": "stdout",
     "output_type": "stream",
     "text": [
      "Epoch 38/40 validation: val_loss=1.90514, val_acc=35.40856%\n"
     ]
    },
    {
     "name": "stderr",
     "output_type": "stream",
     "text": [
      "                                                            \r"
     ]
    },
    {
     "name": "stdout",
     "output_type": "stream",
     "text": [
      "Epoch 39/40: Train Loss=1.30150, Train Accuracy=98.24047%\n"
     ]
    },
    {
     "name": "stderr",
     "output_type": "stream",
     "text": [
      "                                                         \r"
     ]
    },
    {
     "name": "stdout",
     "output_type": "stream",
     "text": [
      "Epoch 39/40 validation: val_loss=1.91799, val_acc=34.63035%\n"
     ]
    },
    {
     "name": "stderr",
     "output_type": "stream",
     "text": [
      "                                                            \r"
     ]
    },
    {
     "name": "stdout",
     "output_type": "stream",
     "text": [
      "Epoch 40/40: Train Loss=1.30218, Train Accuracy=97.65396%\n"
     ]
    },
    {
     "name": "stderr",
     "output_type": "stream",
     "text": [
      "                                                         \r"
     ]
    },
    {
     "name": "stdout",
     "output_type": "stream",
     "text": [
      "Epoch 40/40 validation: val_loss=1.90733, val_acc=36.18677%\n",
      "Loading data from cache file: 1.pkl\n"
     ]
    },
    {
     "name": "stderr",
     "output_type": "stream",
     "text": [
      "                                                      "
     ]
    },
    {
     "name": "stdout",
     "output_type": "stream",
     "text": [
      "Test Accuracy: 27.34375%\n"
     ]
    },
    {
     "name": "stderr",
     "output_type": "stream",
     "text": [
      "\r"
     ]
    }
   ],
   "source": [
    "import torch\n",
    "import torch.nn as nn\n",
    "import torch.optim as optim\n",
    "import torch.nn.functional as F\n",
    "from tqdm import tqdm\n",
    "if(option == 3):\n",
    "    learning_rates = [0.001]\n",
    "    for l in learning_rates:\n",
    "        # Lists to store accuracy and loss values\n",
    "        train_losses = []\n",
    "        train_accuracies = []\n",
    "        val_losses = []\n",
    "        val_accuracies = []\n",
    "\n",
    "        train_dataset = MaqamDataset(mode='train', cache_file = 'baggina3.pkl',test_size=0.2, dir = \"/home/faisal/Desktop/MAQAMAT/bagging3\")\n",
    "        val_dataset = MaqamDataset(mode='val', test_size=0.2)\n",
    "        train_loader = DataLoader(train_dataset, batch_size=batch_size, shuffle=True, collate_fn=custom_collate)\n",
    "        print(\"_________________________________________________________\")\n",
    "        print(\"Learning rate = \", l)\n",
    "        device = torch.device(\"cuda:0\" if torch.cuda.is_available() else \"cpu\")\n",
    "        model = ANNModel().to(device)\n",
    "        criterion = torch.nn.CrossEntropyLoss()\n",
    "        optimizer = torch.optim.Adam(model.parameters(), lr=l)\n",
    "\n",
    "        num_epochs = 40\n",
    "        patience = 40  \n",
    "        best_val_loss = float('inf')\n",
    "        best_model_state_dict = None\n",
    "        no_improvement_epochs = 0\n",
    "\n",
    "        print(\"Starting training\")\n",
    "        for epoch in range(num_epochs):\n",
    "            model.train()\n",
    "\n",
    "            running_loss = 0.0\n",
    "            correct_predictions = 0\n",
    "            total_samples = 0\n",
    "\n",
    "            for i, data in enumerate(tqdm(train_loader, desc=f'Epoch {epoch + 1}/{num_epochs}', leave=False)):\n",
    "                inputs, targets = data  # MFCCs and labels\n",
    "                targets = targets.to(device)\n",
    "                inputs = inputs.to(device)\n",
    "                optimizer.zero_grad()\n",
    "                outputs = model(inputs)\n",
    "                loss = criterion(outputs, targets)\n",
    "                loss.backward()\n",
    "                optimizer.step()\n",
    "\n",
    "                running_loss += loss.item()\n",
    "                _, predicted_labels = torch.max(outputs, 1)\n",
    "                correct_predictions += (predicted_labels == targets).sum().item()\n",
    "                total_samples += len(targets)\n",
    "\n",
    "            avg_loss = running_loss / len(train_loader)\n",
    "            avg_accuracy = 100 * correct_predictions / total_samples\n",
    "            train_losses.append(avg_loss)\n",
    "            train_accuracies.append(avg_accuracy)\n",
    "            print(f'Epoch {epoch + 1}/{num_epochs}: Train Loss={avg_loss:.5f}, Train Accuracy={avg_accuracy:.5f}%')\n",
    "\n",
    "            model.eval()\n",
    "            val_loss = 0.0\n",
    "            total_correct = 0\n",
    "            total_samples = 0\n",
    "\n",
    "            with torch.no_grad():\n",
    "                for data in tqdm(val_loader, desc='Validation', leave=False):\n",
    "                    inputs, targets = data  # MFCCs and labels\n",
    "                    targets = targets.to(device)\n",
    "                    inputs = inputs.to(device)\n",
    "                    outputs = model(inputs)\n",
    "                    val_loss += criterion(outputs, targets).item() * len(targets)\n",
    "\n",
    "                    _, predicted_labels = torch.max(outputs, 1)\n",
    "                    total_correct += (predicted_labels == targets).sum().item()\n",
    "                    total_samples += len(targets)\n",
    "\n",
    "            val_loss /= len(val_dataset)\n",
    "            val_acc = 100 * total_correct / total_samples\n",
    "            val_losses.append(val_loss)\n",
    "            val_accuracies.append(val_acc)\n",
    "            print(f'Epoch {epoch + 1}/{num_epochs} validation: val_loss={val_loss:.5f}, val_acc={val_acc:.5f}%')\n",
    "\n",
    "            if val_loss < best_val_loss:\n",
    "                best_val_loss = val_loss\n",
    "                best_model_state_dict = model.state_dict()\n",
    "                no_improvement_epochs = 0\n",
    "            else:\n",
    "                no_improvement_epochs += 1\n",
    "\n",
    "            if no_improvement_epochs >= patience:\n",
    "                print(\"Early stopping. No improvement in validation loss for {} epochs.\".format(patience))\n",
    "                break\n",
    "\n",
    "        if best_model_state_dict is not None:\n",
    "            model.load_state_dict(best_model_state_dict)\n",
    "\n",
    "        # Test the model on the test dataset\n",
    "        test_dataset = MaqamDataset(mode='test', cache_file='1.pkl')\n",
    "        test_loader = DataLoader(test_dataset, batch_size=batch_size, shuffle=False, collate_fn=custom_collate)\n",
    "\n",
    "        model.eval()\n",
    "        total_correct = 0\n",
    "        total_samples = 0\n",
    "\n",
    "        with torch.no_grad():\n",
    "            for data in tqdm(test_loader, desc='Testing', leave=False):\n",
    "                inputs, targets = data\n",
    "                targets = targets.to(device)\n",
    "                inputs = inputs.to(device)\n",
    "                outputs = model(inputs)\n",
    "\n",
    "                _, predicted_labels = torch.max(outputs, 1)\n",
    "                total_correct += (predicted_labels == targets).sum().item()\n",
    "                total_samples += len(targets)\n",
    "\n",
    "        test_acc = 100 * total_correct / total_samples\n",
    "        print(f'Test Accuracy: {test_acc:.5f}%')\n",
    "\n",
    "\n"
   ]
  },
  {
   "cell_type": "code",
   "execution_count": 15,
   "metadata": {},
   "outputs": [],
   "source": [
    "# Save the trained model\n",
    "torch.save(model.state_dict(), 'bagging3.pth')\n",
    "plt.figure()\n",
    "plt.plot(range(1, len(train_losses) + 1), train_losses, label='Train Loss')\n",
    "plt.plot(range(1, len(val_losses) + 1), val_losses, label='Validation Loss')\n",
    "plt.xlabel('Epoch')\n",
    "plt.ylabel('Loss')\n",
    "plt.legend()\n",
    "plt.title(f'Learning Rate: {l}')\n",
    "plt.savefig(f'ANN loss_plot_lr_{l}.png')\n",
    "plt.close()\n",
    "\n",
    "plt.figure()\n",
    "plt.plot(range(1, len(train_accuracies) + 1), train_accuracies, label='Train Accuracy')\n",
    "plt.plot(range(1, len(val_accuracies) + 1), val_accuracies, label='Validation Accuracy')\n",
    "plt.xlabel('Epoch')\n",
    "plt.ylabel('Accuracy')\n",
    "plt.legend()\n",
    "plt.title(f'Learning Rate: {l}')\n",
    "plt.savefig(f'ANN accuracy_plot_lr_{l}.png')\n",
    "plt.close()"
   ]
  },
  {
   "cell_type": "code",
   "execution_count": 17,
   "metadata": {},
   "outputs": [
    {
     "name": "stdout",
     "output_type": "stream",
     "text": [
      "Loading data from cache file: 1.pkl\n",
      "Model 1 Accuracy: 66.40625%\n",
      "Model 2 Accuracy: 16.01562%\n",
      "Model 3 Accuracy: 27.34375%\n",
      "Combined Accuracy: 55.46875%\n"
     ]
    }
   ],
   "source": [
    "import torch\n",
    "import torch.nn.functional as F\n",
    "from torch.utils.data import DataLoader\n",
    "\n",
    "# Define your batch size and other parameters\n",
    "batch_size = 32\n",
    "# Add any other parameters you need for your models and test settings\n",
    "\n",
    "# Load the test dataset\n",
    "test_dataset = MaqamDataset(mode='test', cache_file='1.pkl')  # Replace with the correct parameters for your dataset\n",
    "test_loader = DataLoader(test_dataset, batch_size=batch_size, shuffle=False, collate_fn=custom_collate)\n",
    "\n",
    "# Load your models and their weights (assuming you have already defined and loaded them as shown in the previous examples)\n",
    "model1 = MaqamCNN1().to(device)  # Replace YourModel with the actual model architecture of the first model\n",
    "model2 = MFCC_LSTM2().to(device)  # Replace YourModel with the actual model architecture of the second model\n",
    "model3 = ANNModel().to(device)  # Replace YourModel with the actual model architecture of the third model\n",
    "\n",
    "model1_path = \"cnn78.pth\"\n",
    "model2_path = \"lstm8359.pth\"\n",
    "model3_path = \"ann1.pth\"\n",
    "\n",
    "model1.load_state_dict(torch.load(model1_path))\n",
    "model2.load_state_dict(torch.load(model2_path))\n",
    "model3.load_state_dict(torch.load(model3_path))\n",
    "\n",
    "# Set the models to evaluation mode\n",
    "model1.eval()\n",
    "model2.eval()\n",
    "model3.eval()\n",
    "\n",
    "# Define the weights for combining the models\n",
    "weight1 = 0.33\n",
    "weight2 = 0.33\n",
    "weight3 = 0.34\n",
    "\n",
    "# Prepare lists to store the final predictions and corresponding labels\n",
    "all_predictions = []\n",
    "all_labels = []\n",
    "\n",
    "# Prepare lists to store the predictions and labels for each model independently\n",
    "model1_predictions = []\n",
    "model2_predictions = []\n",
    "model3_predictions = []\n",
    "\n",
    "# Loop through the test data\n",
    "with torch.no_grad():\n",
    "    for inputs, labels in test_loader:\n",
    "        # Assuming inputs and labels are tensors, otherwise, convert them to tensors\n",
    "        inputs = inputs.to(device)  # Move data to the device (CPU or GPU)\n",
    "        labels = labels.to(device)\n",
    "\n",
    "        # Get the predictions from each model\n",
    "        predictions1 = model1(inputs)\n",
    "        predictions2 = model2(inputs)\n",
    "        predictions3 = model3(inputs)\n",
    "\n",
    "        # Save the predictions of each model for individual accuracy calculation\n",
    "        model1_predictions.extend(predictions1.argmax(dim=1).cpu().numpy())\n",
    "        model2_predictions.extend(predictions2.argmax(dim=1).cpu().numpy())\n",
    "        model3_predictions.extend(predictions3.argmax(dim=1).cpu().numpy())\n",
    "\n",
    "        # Combine the predictions using the specified weights\n",
    "        combined_predictions = weight1 * predictions1 + weight2 * predictions2 + weight3 * predictions3\n",
    "\n",
    "        # Apply softmax to get the probabilities\n",
    "        probabilities = F.softmax(combined_predictions, dim=1)\n",
    "\n",
    "        # Get the class with the highest probability as the predicted class\n",
    "        _, predicted_labels = torch.max(probabilities, 1)\n",
    "\n",
    "        # Append the predictions and labels to the lists\n",
    "        all_predictions.extend(predicted_labels.cpu().numpy())  # Convert back to CPU and extract the numpy array\n",
    "        all_labels.extend(labels.cpu().numpy())  # Convert back to CPU and extract the numpy array\n",
    "\n",
    "# Calculate the accuracy of each model independently\n",
    "correct_model1 = sum([1 for pred, true in zip(model1_predictions, all_labels) if pred == true])\n",
    "correct_model2 = sum([1 for pred, true in zip(model2_predictions, all_labels) if pred == true])\n",
    "correct_model3 = sum([1 for pred, true in zip(model3_predictions, all_labels) if pred == true])\n",
    "\n",
    "total_samples = len(all_labels)\n",
    "acc_model1 = correct_model1 / total_samples * 100\n",
    "acc_model2 = correct_model2 / total_samples * 100\n",
    "acc_model3 = correct_model3 / total_samples * 100\n",
    "\n",
    "print(f'Model 1 Accuracy: {acc_model1:.5f}%')\n",
    "print(f'Model 2 Accuracy: {acc_model2:.5f}%')\n",
    "print(f'Model 3 Accuracy: {acc_model3:.5f}%')\n",
    "\n",
    "# Calculate the combined accuracy\n",
    "correct_combined = sum([1 for pred, true in zip(all_predictions, all_labels) if pred == true])\n",
    "acc_combined = correct_combined / total_samples * 100\n",
    "print(f'Combined Accuracy: {acc_combined:.5f}%')"
   ]
  }
 ],
 "metadata": {
  "kernelspec": {
   "display_name": "base",
   "language": "python",
   "name": "python3"
  },
  "language_info": {
   "codemirror_mode": {
    "name": "ipython",
    "version": 3
   },
   "file_extension": ".py",
   "mimetype": "text/x-python",
   "name": "python",
   "nbconvert_exporter": "python",
   "pygments_lexer": "ipython3",
   "version": "3.10.9"
  },
  "orig_nbformat": 4
 },
 "nbformat": 4,
 "nbformat_minor": 2
}
