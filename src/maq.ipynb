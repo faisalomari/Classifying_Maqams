{
 "cells": [
  {
   "cell_type": "code",
   "execution_count": 1,
   "metadata": {},
   "outputs": [
    {
     "name": "stderr",
     "output_type": "stream",
     "text": [
      "/home/faisal/anaconda3/lib/python3.10/site-packages/tqdm/auto.py:21: TqdmWarning: IProgress not found. Please update jupyter and ipywidgets. See https://ipywidgets.readthedocs.io/en/stable/user_install.html\n",
      "  from .autonotebook import tqdm as notebook_tqdm\n"
     ]
    }
   ],
   "source": [
    "import torch.nn as nn\n",
    "import torch\n",
    "import torch.nn.functional as F\n",
    "from tqdm import tqdm\n",
    "\n",
    "class MaqamCNN1(nn.Module):\n",
    "    def __init__(self):\n",
    "        super(MaqamCNN1, self).__init__()\n",
    "        \n",
    "        self.conv1 = nn.Conv2d(in_channels=30, out_channels=36, kernel_size=3, stride=1, padding=1)\n",
    "        self.bn1 = nn.BatchNorm2d(36)\n",
    "        self.pool1 = nn.MaxPool2d(kernel_size=1, stride=2)\n",
    "        self.dropout1 = nn.Dropout(p=0.2)\n",
    "        \n",
    "        self.conv2 = nn.Conv2d(in_channels=36, out_channels=20, kernel_size=3, stride=1, padding=1)\n",
    "        self.bn2 = nn.BatchNorm2d(20)\n",
    "        self.pool2 = nn.MaxPool2d(kernel_size=1, stride=2)\n",
    "        self.dropout2 = nn.Dropout(p=0.1)\n",
    "\n",
    "        self.fc1 = nn.Linear(8460, 256)\n",
    "        self.dropout3 = nn.Dropout(p=0.1)\n",
    "\n",
    "        self.fc2 = nn.Linear(512, 265)\n",
    "        self.dropout4 = nn.Dropout(p=0.1)\n",
    "\n",
    "        self.fc3 = nn.Linear(256, 128)\n",
    "        self.dropout5 = nn.Dropout(p=0.1)\n",
    "\n",
    "        self.fc4 = nn.Linear(128, 8)\n",
    "        self.relu = nn.ReLU()\n",
    "\n",
    "    def forward(self, x):\n",
    "        x = x.unsqueeze(-1)\n",
    "        x = F.relu(self.conv1(x))\n",
    "        x = self.bn1(x)\n",
    "        x = self.pool1(x)\n",
    "        x = self.dropout1(x)\n",
    "        \n",
    "        # x = F.relu(self.conv2(x))\n",
    "        # x = self.bn2(x)\n",
    "        # x = self.pool2(x)\n",
    "        # x = self.dropout2(x)\n",
    "        \n",
    "        x = x.view(x.size(0), -1)\n",
    "        \n",
    "        x = F.relu(self.fc1(x))\n",
    "        x = self.dropout3(x)\n",
    "        \n",
    "        # x = F.relu(self.fc2(x))\n",
    "        # x = self.dropout4(x)\n",
    "\n",
    "        x = self.fc3(x)\n",
    "        x = self.dropout5(x)\n",
    "\n",
    "        x = self.fc4(x)\n",
    "        x = F.softmax(x, dim=1)\n",
    "        return x\n"
   ]
  },
  {
   "cell_type": "code",
   "execution_count": 2,
   "metadata": {},
   "outputs": [],
   "source": [
    "class CNN_LSTM(nn.Module):\n",
    "    def __init__(self):\n",
    "        super(CNN_LSTM, self).__init__()\n",
    "        \n",
    "        self.conv1 = nn.Conv2d(in_channels=30, out_channels=64, kernel_size=(3,3), padding=\"same\")\n",
    "        self.bn1 = nn.BatchNorm2d(64)\n",
    "        self.pool1 = nn.MaxPool2d(kernel_size=(1,1))\n",
    "        self.dropout1 = nn.Dropout(p=0.1)\n",
    "        \n",
    "        self.conv2 = nn.Conv2d(in_channels=64, out_channels=64, kernel_size=(1,1), padding=\"valid\")\n",
    "        self.bn2 = nn.BatchNorm2d(64)\n",
    "        self.pool2 = nn.MaxPool2d(kernel_size=(1,1))\n",
    "        self.dropout2 = nn.Dropout(p=0.2)\n",
    "\n",
    "        self.lstm = nn.LSTM(input_size=64, hidden_size=128, num_layers=2, batch_first=True)\n",
    "        self.dropout6 = nn.Dropout(p=0.25)\n",
    "\n",
    "        self.fc1 = nn.Linear(128, 64)\n",
    "        self.dropout3 = nn.Dropout(p=0.2)\n",
    "\n",
    "        self.fc2 = nn.Linear(64, 32)\n",
    "        self.dropout4 = nn.Dropout(p=0.2)\n",
    "\n",
    "        self.fc3 = nn.Linear(32, 8)\n",
    "        self.dropout5 = nn.Dropout(p=0.2)\n",
    "\n",
    "    def forward(self, x):\n",
    "        x = x.unsqueeze(-1)\n",
    "        x = F.relu(self.conv1(x))\n",
    "        x = self.bn1(x)\n",
    "        x = self.pool1(x)\n",
    "        x = self.dropout1(x)\n",
    "        \n",
    "        x = F.relu(self.conv2(x))\n",
    "        x = self.bn2(x)\n",
    "        x = self.pool2(x)\n",
    "        x = self.dropout2(x)\n",
    "\n",
    "        # Reshape the CNN output to match LSTM input\n",
    "        batch_size, channels, height, width = x.size()\n",
    "        x = x.view(batch_size, channels, height * width)\n",
    "        x = x.permute(0, 2, 1)  # Permute to (batch_size, sequence_length, input_size)\n",
    "\n",
    "        x, _ = self.lstm(x)\n",
    "\n",
    "        x = self.fc1(x[:, -1, :])\n",
    "        \n",
    "        x = F.relu(self.fc2(x))\n",
    "        x = self.dropout3(x)\n",
    "        \n",
    "        x = F.relu(self.fc3(x))\n",
    "        # x = self.dropout4(x)\n",
    "\n",
    "        # x = self.fc3(x)\n",
    "        # x = self.dropout5(x)\n",
    "        x = F.softmax(x, dim=1)\n",
    "        return x\n"
   ]
  },
  {
   "cell_type": "code",
   "execution_count": 3,
   "metadata": {},
   "outputs": [],
   "source": [
    "import torch.nn as nn\n",
    "import torch.nn.functional as F\n",
    "\n",
    "class MFCC_LSTM(nn.Module):\n",
    "    def __init__(self):\n",
    "        super(MFCC_LSTM, self).__init__()\n",
    "        \n",
    "        self.lstm1 = nn.LSTM(input_size=20, hidden_size=1024, num_layers=1, batch_first=True)\n",
    "        self.dropout1 = nn.Dropout(p=0.3)\n",
    "        self.lstm2 = nn.LSTM(input_size=1024, hidden_size=512, num_layers=1, batch_first=True)\n",
    "        self.dropout2 = nn.Dropout(p=0.3)\n",
    "        self.lstm3 = nn.LSTM(input_size=512, hidden_size=256, num_layers=1, batch_first=True)\n",
    "        self.dropout3 = nn.Dropout(p=0.2)\n",
    "        \n",
    "        self.fc1 = nn.Linear(256, 512)\n",
    "        self.dropout4 = nn.Dropout(p=0.2)\n",
    "\n",
    "        self.fc2 = nn.Linear(512, 256)\n",
    "        self.dropout5 = nn.Dropout(p=0.2)\n",
    "\n",
    "        self.fc3 = nn.Linear(256, 64)\n",
    "        self.dropout6 = nn.Dropout(p=0.2)\n",
    "\n",
    "        self.fc4 = nn.Linear(64, 8)\n",
    "\n",
    "    def forward(self, x):\n",
    "        x = torch.transpose(x, 1, 2)\n",
    "        \n",
    "        x, _ = self.lstm1(x)\n",
    "        x = self.dropout1(x)\n",
    "\n",
    "        x, _ = self.lstm2(x)\n",
    "        x = self.dropout2(x)\n",
    "\n",
    "        x, _ = self.lstm3(x)\n",
    "        x = self.dropout3(x)\n",
    "\n",
    "        x = x[:,-1,:]\n",
    "        \n",
    "        x = self.fc1(x)\n",
    "        x = F.relu(x)\n",
    "        x = self.dropout4(x)\n",
    "\n",
    "        x = self.fc2(x)\n",
    "        x = F.relu(x)\n",
    "        x = self.dropout5(x)\n",
    "\n",
    "        x = self.fc3(x)\n",
    "        x = F.relu(x)\n",
    "        x = self.dropout6(x)\n",
    "\n",
    "        \n",
    "        x = self.fc4(x)\n",
    "        x = F.softmax(x, dim=1)\n",
    "        return x\n"
   ]
  },
  {
   "cell_type": "code",
   "execution_count": 4,
   "metadata": {},
   "outputs": [],
   "source": [
    "import torch.nn as nn\n",
    "import torch.nn.functional as F\n",
    "\n",
    "class MFCC_LSTM2(nn.Module):\n",
    "    def __init__(self):\n",
    "        super(MFCC_LSTM2, self).__init__()\n",
    "        \n",
    "        self.lstm1 = nn.LSTM(input_size=20, hidden_size=1024, num_layers=1, batch_first=True)\n",
    "        self.dropout1 = nn.Dropout(p=0.2)\n",
    "\n",
    "        self.fc3 = nn.Linear(1024, 256)\n",
    "        self.dropout6 = nn.Dropout(p=0.2)\n",
    "\n",
    "        self.fc4 = nn.Linear(256, 8)\n",
    "\n",
    "    def forward(self, x):\n",
    "        x = torch.transpose(x, 1, 2)\n",
    "        # Apply the first LSTM layer\n",
    "        x, _ = self.lstm1(x)\n",
    "        x = self.dropout1(x)\n",
    "        \n",
    "        x = self.fc3(x)\n",
    "        x = F.relu(x)\n",
    "        x = self.dropout6(x)\n",
    "\n",
    "        # Take the last hidden state of the last LSTM layer\n",
    "        x = x[:, -1, :]\n",
    "        \n",
    "        x = self.fc4(x)\n",
    "        x = F.softmax(x, dim=1)\n",
    "        \n",
    "        return x\n"
   ]
  },
  {
   "cell_type": "code",
   "execution_count": 5,
   "metadata": {},
   "outputs": [],
   "source": [
    "class ANNModel(nn.Module):\n",
    "    def __init__(self):\n",
    "        super(ANNModel, self).__init__()\n",
    "\n",
    "        self.fc1 = nn.Linear(12920, 1024)\n",
    "        self.bn1 = nn.BatchNorm1d(1024)\n",
    "        self.dropout1 = nn.Dropout(p=0.2)\n",
    "        \n",
    "        self.fc2 = nn.Linear(1024, 64)\n",
    "        self.bn2 = nn.BatchNorm1d(64)\n",
    "        self.dropout2 = nn.Dropout(p=0.2)\n",
    "        \n",
    "        self.fc3 = nn.Linear(256, 64)\n",
    "        self.bn3 = nn.BatchNorm1d(64)\n",
    "        self.dropout3 = nn.Dropout(p=0.1)\n",
    "        \n",
    "        self.fc4 = nn.Linear(1024, 256)\n",
    "        self.bn4 = nn.BatchNorm1d(256)\n",
    "        self.dropout4 = nn.Dropout(p=0.2)\n",
    "        \n",
    "        self.fc5 = nn.Linear(256, 64)\n",
    "        self.bn5 = nn.BatchNorm1d(64)\n",
    "        self.dropout5 = nn.Dropout(p=0.1)\n",
    "        \n",
    "        self.fc6 = nn.Linear(512, 256)\n",
    "        self.bn6 = nn.BatchNorm1d(256)\n",
    "        self.dropout6 = nn.Dropout(p=0.0)\n",
    "        \n",
    "        self.fc7 = nn.Linear(256, 32)\n",
    "        self.bn7 = nn.BatchNorm1d(32)\n",
    "        self.dropout7 = nn.Dropout(p=0.0)\n",
    "\n",
    "        self.output_layer = nn.Linear(64, 8)\n",
    "\n",
    "    def forward(self, x):\n",
    "        # Flatten the input data to [batch_size, 30 * 469]\n",
    "        x = x.view(x.size(0), -1)\n",
    "        \n",
    "        x = self.fc1(x)\n",
    "        x = self.bn1(x)\n",
    "        x = F.relu(x)\n",
    "        x = self.dropout1(x)\n",
    "\n",
    "        x = self.fc2(x)\n",
    "        x = self.bn2(x)\n",
    "        x = F.relu(x)\n",
    "        x = self.dropout2(x)\n",
    "\n",
    "        # x = self.fc3(x)\n",
    "        # x = self.bn3(x)\n",
    "        # x = F.relu(x)\n",
    "        # x = self.dropout3(x)\n",
    "\n",
    "        # x = self.fc4(x)\n",
    "        # x = self.bn4(x)\n",
    "        # x = F.relu(x)\n",
    "        # x = self.dropout4(x)\n",
    "\n",
    "        # x = self.fc5(x)\n",
    "        # x = self.bn5(x)\n",
    "        # x = F.relu(x)\n",
    "        # x = self.dropout5(x)\n",
    "\n",
    "        # x = self.fc6(x)\n",
    "        # x = self.bn6(x)\n",
    "        # x = F.relu(x)\n",
    "        # x = self.dropout6(x)\n",
    "\n",
    "        # x = self.fc7(x)\n",
    "        # x = self.bn7(x)\n",
    "        # x = F.relu(x)\n",
    "        # x = self.dropout7(x)\n",
    "\n",
    "        x = self.output_layer(x)\n",
    "        x = F.softmax(x, dim=1)\n",
    "        return x"
   ]
  },
  {
   "cell_type": "code",
   "execution_count": 6,
   "metadata": {},
   "outputs": [],
   "source": [
    "class ANNModel2(nn.Module):\n",
    "    def __init__(self):\n",
    "        super(ANNModel2, self).__init__()\n",
    "\n",
    "        self.fc1 = nn.Linear(20, 1024)\n",
    "        self.bn1 = nn.BatchNorm1d(1024)\n",
    "        self.dropout1 = nn.Dropout(p=0.2)\n",
    "        \n",
    "        self.fc2 = nn.Linear(1024, 512)\n",
    "        self.bn2 = nn.BatchNorm1d(512)\n",
    "        self.dropout2 = nn.Dropout(p=0.2)\n",
    "        \n",
    "        self.fc3 = nn.Linear(512, 256)\n",
    "        self.bn3 = nn.BatchNorm1d(256)\n",
    "        self.dropout3 = nn.Dropout(p=0.1)\n",
    "        \n",
    "        self.fc4 = nn.Linear(256, 128)\n",
    "        self.bn4 = nn.BatchNorm1d(128)\n",
    "        self.dropout4 = nn.Dropout(p=0)\n",
    "        \n",
    "        self.fc5 = nn.Linear(128, 64)\n",
    "        self.bn5 = nn.BatchNorm1d(64)\n",
    "        self.dropout5 = nn.Dropout(p=0)\n",
    "\n",
    "        self.output_layer = nn.Linear(64, 8)\n",
    "\n",
    "    def forward(self, x):\n",
    "        # Flatten the input data to [batch_size, 30 * 469]\n",
    "        # x = x.view(x.size(0), -1)\n",
    "        x = x.float()\n",
    "        x = self.fc1(x)\n",
    "        x = self.bn1(x)\n",
    "        x = F.relu(x)\n",
    "        x = self.dropout1(x)\n",
    "\n",
    "        x = self.fc2(x)\n",
    "        x = self.bn2(x)\n",
    "        x = F.relu(x)\n",
    "        x = self.dropout2(x)\n",
    "\n",
    "        x = self.fc3(x)\n",
    "        x = self.bn3(x)\n",
    "        x = F.relu(x)\n",
    "        x = self.dropout3(x)\n",
    "\n",
    "        x = self.fc4(x)\n",
    "        x = self.bn4(x)\n",
    "        x = F.relu(x)\n",
    "        x = self.dropout4(x)\n",
    "\n",
    "        x = self.fc5(x)\n",
    "        x = self.bn5(x)\n",
    "        x = F.relu(x)\n",
    "        x = self.dropout5(x)\n",
    "\n",
    "        x = self.output_layer(x)\n",
    "        x = F.softmax(x, dim=1)\n",
    "        return x"
   ]
  },
  {
   "cell_type": "code",
   "execution_count": 7,
   "metadata": {},
   "outputs": [],
   "source": [
    "import os\n",
    "import torchaudio\n",
    "import torch\n",
    "from torch.utils.data import Dataset\n",
    "import torch.nn as nn\n",
    "import torch.nn.functional as F\n",
    "import librosa\n",
    "import numpy as np\n",
    "import pickle\n",
    "from sklearn.model_selection import train_test_split\n",
    "from tensorboardX import SummaryWriter\n",
    "from features_extractor import*\n",
    "\n",
    "class MaqamDataset(Dataset):\n",
    "    def __init__(self, mode='train', transform=None, cache_file='1.pkl'):\n",
    "        self.data_dir = \"/home/faisal/Desktop/datafullll\"\n",
    "        # \"/home/faisal/Desktop/datafullll\"\n",
    "        # \"/home/faisal/Desktop/datasetfull\"\n",
    "        # \"/home/faisal/Desktop/MAQAMAT/mp3_maqamat/Readers/Saed_ghamdi\"\n",
    "        # \"/home/faisal/Desktop/MAQAMAT/Maqam478/Dataset2\"\n",
    "        # \"/home/faisal/Desktop/MAQAMAT/Fullynewdataset\"\n",
    "        # \"/home/faisal/Desktop/MAQAMAT/fullqualitydataset\"\n",
    "        self.mode = mode\n",
    "        self.transform = transform\n",
    "        test_val_size = 0.3\n",
    "        #['Ajam', 'Bayat', 'Hijaz', 'Kurd', 'Nahawand', 'Rast', 'Saba', 'Seka']\n",
    "        self.maqams = ['Ajam', 'Bayat', 'Hijaz', 'Kurd', 'Nahawand', 'Rast', 'Saba', 'Seka']\n",
    "        self.audio_list = self._load_audio_list()\n",
    "        if mode == 'train':\n",
    "            train_list, val_list = train_test_split(self.audio_list, test_size=test_val_size, random_state=42, stratify=[label for (_, label) in self.audio_list])\n",
    "            self.audio_list = train_list\n",
    "            self.features = compute_features(self.audio_list, cache_file=\"train_features.pkl\")\n",
    "        elif mode == 'val':\n",
    "            train_list, set2 = train_test_split(self.audio_list, test_size=test_val_size, random_state=42, stratify=[label for (_, label) in self.audio_list])\n",
    "            val_set, test_set = train_test_split(set2, test_size=0.5, random_state=42, stratify=[label for (_, label) in set2])\n",
    "            self.audio_list = val_set\n",
    "            self.features = compute_features(self.audio_list, cache_file=\"val_features.pkl\")\n",
    "        elif mode == 'test':\n",
    "            train_list, set2 = train_test_split(self.audio_list, test_size=test_val_size, random_state=42, stratify=[label for (_, label) in self.audio_list])\n",
    "            val_set, test_set = train_test_split(set2, test_size=0.5, random_state=42, stratify=[label for (_, label) in set2])\n",
    "            self.audio_list = test_set\n",
    "            self.features = compute_features(self.audio_list, cache_file=\"test_features.pkl\")\n",
    "        \n",
    "        self.cache_file = cache_file\n",
    "        self.data = self._load_data_from_cache_or_compute()\n",
    "\n",
    "    def _load_audio_list(self):\n",
    "        audio_list = []\n",
    "        for i, maqam in enumerate(self.maqams):\n",
    "            label_dir = os.path.join(self.data_dir, maqam)\n",
    "            audio_list += [(os.path.join(label_dir, audio_name), i) for audio_name in os.listdir(label_dir) if audio_name.endswith('.wav')]\n",
    "        return audio_list\n",
    "\n",
    "    def __len__(self):\n",
    "        return len(self.audio_list)\n",
    "\n",
    "    def __getitem__(self, idx):\n",
    "        audio_path, label_idx = self.audio_list[idx]\n",
    "        waveform, sample_rate = torchaudio.load(audio_path)\n",
    "        waveform = waveform[0] # only keep the first channel\n",
    "        if self.transform:\n",
    "            waveform = self.transform(waveform)\n",
    "        \n",
    "        # mfcc = self.compute_mfcc(waveform).T\n",
    "        # mfcc = torch.from_numpy(mfcc).float()\n",
    "        # features = get_all_features(audio_path)\n",
    "        # features = torch.from_numpy(features).float()\n",
    "        features = self.features[idx]\n",
    "        return features, label_idx\n",
    "  \n",
    "    def pad_to_max_length(self, max_length):\n",
    "        for i in range(len(self)):\n",
    "            padded_data = F.pad(self.data[i][0], (0, max_length - len(self.data[i][0])), 'constant', 0)\n",
    "            self.data[i] = (padded_data, self.data[i][1])\n",
    "\n",
    "    def compute_mfcc(self, waveform):\n",
    "        # Compute the MFCC of the waveform\n",
    "        n_fft = 1024*16\n",
    "        hop_length = 256*8\n",
    "        n_mels = 100\n",
    "        sr = 48000\n",
    "        n_mfcc = 20\n",
    "        waveform = waveform.numpy()  # Convert PyTorch tensor to NumPy array\n",
    "        mfcc = librosa.feature.mfcc(y=waveform, sr=sr)\n",
    "        mfcc = np.transpose(mfcc)\n",
    "        mfcc = mfcc.astype(np.float32)  # Ensure data type is compatible with np.issubdtype()\n",
    "        return mfcc\n",
    "    \n",
    "    def _load_data_from_cache_or_compute(self):\n",
    "        if os.path.isfile(self.cache_file):\n",
    "            print(f'Loading data from cache file: {self.cache_file}')\n",
    "            with open(self.cache_file, 'rb') as f:\n",
    "                return pickle.load(f)\n",
    "        else:\n",
    "            print(f'Cache file not found. Computing data from scratch and saving to cache file: {self.cache_file}')\n",
    "            data = [self.__getitem__(i) for i in range(len(self))]\n",
    "            with open(self.cache_file, 'wb') as f:\n",
    "                pickle.dump(data, f)\n",
    "            return data\n"
   ]
  },
  {
   "cell_type": "code",
   "execution_count": 8,
   "metadata": {},
   "outputs": [],
   "source": [
    "import torch\n",
    "from torch.utils.data import DataLoader\n",
    "import librosa\n",
    "import matplotlib.pyplot as plt\n",
    "import torch.nn.functional as F\n",
    "from torch.nn.utils.rnn import pad_sequence\n",
    "\n",
    "max_length = 1440000\n",
    "\n",
    "def MFCC_plot(mfcc):\n",
    "        plt.figure(figsize=(10, 4))\n",
    "        mfcc = mfcc.detach().numpy()\n",
    "        mfcc = mfcc.mean(axis=2).T\n",
    "        librosa.display.specshow(mfcc, x_axis='time')\n",
    "        plt.colorbar()\n",
    "        plt.title('MFCC')\n",
    "        plt.tight_layout()\n",
    "        plt.show()\n",
    "\n",
    "def custom_collate(batch):\n",
    "    inputs, labels = zip(*batch)\n",
    "    max_frames = max([m.shape[1] for m in inputs])\n",
    "    padded_mfcc = []\n",
    "    for m in inputs:\n",
    "        pad_width = ((0, 0), (0, max_frames - m.shape[1]))\n",
    "        padded_m = np.pad(m, pad_width=pad_width, mode='constant')\n",
    "        padded_mfcc.append(padded_m)\n",
    "\n",
    "    padded_mfcc = torch.from_numpy(np.array(padded_mfcc)).float()\n",
    "    labels = torch.tensor(labels)\n",
    "    return padded_mfcc, labels\n",
    "\n"
   ]
  },
  {
   "cell_type": "code",
   "execution_count": 9,
   "metadata": {},
   "outputs": [],
   "source": [
    "# Define training and validation datasets with specified test size\n",
    "\n",
    "\n",
    "# Define training and validation data loaders\n",
    "batch_size = 64"
   ]
  },
  {
   "cell_type": "code",
   "execution_count": 10,
   "metadata": {},
   "outputs": [],
   "source": [
    "# torch.cuda.init()\n",
    "# torch.cuda.empty_cache()\n",
    "option = 3 #1-CNN 2-LSTM 3-ANN"
   ]
  },
  {
   "cell_type": "code",
   "execution_count": 11,
   "metadata": {},
   "outputs": [],
   "source": [
    "import torch\n",
    "import torch.nn as nn\n",
    "import torch.optim as optim\n",
    "import torch.nn.functional as F\n",
    "from tqdm import tqdm\n",
    "if(option == 1):\n",
    "    train_dataset = MaqamDataset(mode='train', cache_file = '2.pkl')\n",
    "    val_dataset = MaqamDataset(mode='val', cache_file = 'validation.pkl')\n",
    "    train_loader = DataLoader(train_dataset, batch_size=batch_size, shuffle=True, collate_fn=custom_collate)\n",
    "    val_loader = DataLoader(val_dataset, batch_size=batch_size, shuffle=True, collate_fn=custom_collate)\n",
    "    l = 0.001\n",
    "    # Lists to store accuracy and loss values\n",
    "    train_losses = []\n",
    "    train_accuracies = []\n",
    "    val_losses = []\n",
    "    val_accuracies = []\n",
    "    print(\"_________________________________________________________\")\n",
    "    print(\"Learning rate = \", l)\n",
    "    # Rest of the model definition and data loaders\n",
    "\n",
    "    # Initialize model and define loss function and optimizer\n",
    "    device = torch.device(\"cuda:0\" if torch.cuda.is_available() else \"cpu\")\n",
    "\n",
    "    model = MaqamCNN1().to(device)\n",
    "    criterion = torch.nn.CrossEntropyLoss()\n",
    "    optimizer = torch.optim.Adam(model.parameters(), lr=l)\n",
    "\n",
    "    # Train the model for a specified number of epochs\n",
    "    num_epochs = 40\n",
    "    patience = 40  # Number of epochs to wait for improvement before early stopping\n",
    "    best_val_loss = float('inf')\n",
    "    best_model_state_dict = None\n",
    "    no_improvement_epochs = 0\n",
    "\n",
    "    print(\"Starting training\")\n",
    "    for epoch in range(num_epochs):\n",
    "        # Set the model to training mode for the current epoch\n",
    "        model.train()\n",
    "\n",
    "        # Training loop\n",
    "        running_loss = 0.0\n",
    "        correct_predictions = 0\n",
    "        total_samples = 0\n",
    "\n",
    "        for i, data in enumerate(tqdm(train_loader, desc=f'Epoch {epoch + 1}/{num_epochs}', leave=False)):\n",
    "            inputs, targets = data  # MFCCs and labels\n",
    "            targets = targets.to(device)\n",
    "            inputs = inputs.to(device)\n",
    "            optimizer.zero_grad()\n",
    "            outputs = model(inputs)\n",
    "            loss = criterion(outputs, targets)\n",
    "            loss.backward()\n",
    "            optimizer.step()\n",
    "\n",
    "            # Update the loss and accuracy metrics\n",
    "            running_loss += loss.item()\n",
    "            _, predicted_labels = torch.max(outputs, 1)\n",
    "            correct_predictions += (predicted_labels == targets).sum().item()\n",
    "            total_samples += len(targets)\n",
    "\n",
    "        # Calculate and print average loss and accuracy for the current epoch\n",
    "        avg_loss = running_loss / len(train_loader)\n",
    "        avg_accuracy = 100 * correct_predictions / total_samples\n",
    "        print(f'Epoch {epoch + 1}/{num_epochs}: Train Loss={avg_loss:.5f}, Train Accuracy={avg_accuracy:.5f}%')\n",
    "\n",
    "        # Validation loop\n",
    "        model.eval()\n",
    "        val_loss = 0.0\n",
    "        total_correct = 0\n",
    "        total_samples = 0\n",
    "\n",
    "        with torch.no_grad():\n",
    "            for data in tqdm(val_loader, desc='Validation', leave=False):\n",
    "                inputs, targets = data  # MFCCs and labels\n",
    "                targets = targets.to(device)\n",
    "                inputs = inputs.to(device)\n",
    "                outputs = model(inputs)\n",
    "                val_loss += criterion(outputs, targets).item() * len(targets)\n",
    "\n",
    "                _, predicted_labels = torch.max(outputs, 1)\n",
    "                total_correct += (predicted_labels == targets).sum().item()\n",
    "                total_samples += len(targets)\n",
    "\n",
    "        val_loss /= len(val_dataset)\n",
    "        val_acc = 100 * total_correct / total_samples\n",
    "\n",
    "        train_losses.append(avg_loss)\n",
    "        train_accuracies.append(avg_accuracy)\n",
    "        val_losses.append(val_loss)\n",
    "        val_accuracies.append(val_acc)\n",
    "\n",
    "        print(f'Epoch {epoch + 1}/{num_epochs} validation: val_loss={val_loss:.5f}, val_acc={val_acc:.5f}%')\n",
    "\n",
    "        # Check for early stopping\n",
    "        if val_loss < best_val_loss:\n",
    "            best_val_loss = val_loss\n",
    "            best_model_state_dict = model.state_dict()\n",
    "            no_improvement_epochs = 0\n",
    "        else:\n",
    "            no_improvement_epochs += 1\n",
    "\n",
    "        if no_improvement_epochs >= patience:\n",
    "            print(\"Early stopping. No improvement in validation loss for {} epochs.\".format(patience))\n",
    "            break\n",
    "\n",
    "    # Load the best model state dict\n",
    "    if best_model_state_dict is not None:\n",
    "        model.load_state_dict(best_model_state_dict)\n",
    "\n",
    "    # Test the model on the test dataset\n",
    "    test_dataset = MaqamDataset(mode='test', cache_file='test.pkl')\n",
    "    test_loader = DataLoader(test_dataset, batch_size=batch_size, shuffle=False, collate_fn=custom_collate)\n",
    "\n",
    "    model.eval()\n",
    "    total_correct = 0\n",
    "    total_samples = 0\n",
    "\n",
    "    with torch.no_grad():\n",
    "        for data in tqdm(test_loader, desc='Testing', leave=False):\n",
    "            inputs, targets = data\n",
    "            targets = targets.to(device)\n",
    "            inputs = inputs.to(device)\n",
    "            outputs = model(inputs)\n",
    "\n",
    "            _, predicted_labels = torch.max(outputs, 1)\n",
    "            total_correct += (predicted_labels == targets).sum().item()\n",
    "            total_samples += len(targets)\n",
    "\n",
    "    test_acc = 100 * total_correct / total_samples\n",
    "    print(f'Test Accuracy: {test_acc:.5f}%')\n",
    "\n",
    "    # Save the trained model\n",
    "    torch.save(model.state_dict(), 'CNN1.pth')\n",
    "    plt.figure()\n",
    "    plt.plot(range(1, len(train_losses) + 1), train_losses, label='Train Loss')\n",
    "    plt.plot(range(1, len(val_losses) + 1), val_losses, label='Validation Loss')\n",
    "    plt.xlabel('Epoch')\n",
    "    plt.ylabel('Loss')\n",
    "    plt.legend()\n",
    "    plt.title(f'Learning Rate: {l}')\n",
    "    plt.savefig(f'CNN loss_plot.png')\n",
    "    plt.close()\n",
    "\n",
    "    plt.figure()\n",
    "    plt.plot(range(1, len(train_accuracies) + 1), train_accuracies, label='Train Accuracy')\n",
    "    plt.plot(range(1, len(val_accuracies) + 1), val_accuracies, label='Validation Accuracy')\n",
    "    plt.xlabel('Epoch')\n",
    "    plt.ylabel('Accuracy')\n",
    "    plt.legend()\n",
    "    plt.title(f'Learning Rate: {l}')\n",
    "    plt.savefig(f'CNN accuracy_plot.png')\n",
    "    plt.close()"
   ]
  },
  {
   "cell_type": "markdown",
   "metadata": {},
   "source": []
  },
  {
   "cell_type": "code",
   "execution_count": 12,
   "metadata": {},
   "outputs": [],
   "source": [
    "import torch\n",
    "import torch.nn as nn\n",
    "import torch.optim as optim\n",
    "import torch.nn.functional as F\n",
    "from tqdm import tqdm\n",
    "if(option == 2):\n",
    "    l = 0.001\n",
    "    # Lists to store accuracy and loss values\n",
    "    train_losses = []\n",
    "    train_accuracies = []\n",
    "    val_losses = []\n",
    "    val_accuracies = []\n",
    "    train_dataset = MaqamDataset(mode='train', cache_file = 'train.pkl')\n",
    "    val_dataset = MaqamDataset(mode='val', cache_file = 'val.pkl')\n",
    "    train_loader = DataLoader(train_dataset, batch_size=batch_size, shuffle=True, collate_fn=custom_collate)\n",
    "    val_loader = DataLoader(val_dataset, batch_size=batch_size, shuffle=False, collate_fn=custom_collate)\n",
    "    print(\"_________________________________________________________\")\n",
    "    print(\"Learning rate = \", l)\n",
    "    # Rest of the model definition and data loaders\n",
    "\n",
    "    # Initialize model and define loss function and optimizer\n",
    "    device = torch.device(\"cuda:0\" if torch.cuda.is_available() else \"cpu\")\n",
    "\n",
    "    model = MFCC_LSTM().to(device)\n",
    "    criterion = torch.nn.CrossEntropyLoss()\n",
    "    optimizer = torch.optim.Adam(model.parameters(), lr=l)\n",
    "\n",
    "    # Train the model for a specified number of epochs\n",
    "    num_epochs = 40\n",
    "    patience = 5  # Number of epochs to wait for improvement before early stopping\n",
    "    best_val_loss = float('inf')\n",
    "    best_model_state_dict = None\n",
    "    no_improvement_epochs = 0\n",
    "\n",
    "    print(\"Starting training\")\n",
    "    for epoch in range(num_epochs):\n",
    "        # Set the model to training mode for the current epoch\n",
    "        model.train()\n",
    "\n",
    "        # Training loop\n",
    "        running_loss = 0.0\n",
    "        correct_predictions = 0\n",
    "        total_samples = 0\n",
    "\n",
    "        for i, data in enumerate(tqdm(train_loader, desc=f'Epoch {epoch + 1}/{num_epochs}', leave=False)):\n",
    "            inputs, targets = data  # MFCCs and labels\n",
    "            targets = targets.to(device)\n",
    "            inputs = inputs.to(device)\n",
    "            optimizer.zero_grad()\n",
    "            outputs = model(inputs)\n",
    "            loss = criterion(outputs, targets)\n",
    "            loss.backward()\n",
    "            optimizer.step()\n",
    "\n",
    "            # Update the loss and accuracy metrics\n",
    "            running_loss += loss.item()\n",
    "            _, predicted_labels = torch.max(outputs, 1)\n",
    "            correct_predictions += (predicted_labels == targets).sum().item()\n",
    "            total_samples += len(targets)\n",
    "\n",
    "        # Calculate and print average loss and accuracy for the current epoch\n",
    "        avg_loss = running_loss / len(train_loader)\n",
    "        avg_accuracy = 100 * correct_predictions / total_samples\n",
    "        print(f'Epoch {epoch + 1}/{num_epochs}: Train Loss={avg_loss:.5f}, Train Accuracy={avg_accuracy:.5f}%')\n",
    "\n",
    "        # Validation loop\n",
    "        model.eval()\n",
    "        val_loss = 0.0\n",
    "        total_correct = 0\n",
    "        total_samples = 0\n",
    "\n",
    "        with torch.no_grad():\n",
    "            for data in tqdm(val_loader, desc='Validation', leave=False):\n",
    "                inputs, targets = data  # MFCCs and labels\n",
    "                targets = targets.to(device)\n",
    "                inputs = inputs.to(device)\n",
    "                outputs = model(inputs)\n",
    "                val_loss += criterion(outputs, targets).item() * len(targets)\n",
    "\n",
    "                _, predicted_labels = torch.max(outputs, 1)\n",
    "                total_correct += (predicted_labels == targets).sum().item()\n",
    "                total_samples += len(targets)\n",
    "\n",
    "        val_loss /= len(val_dataset)\n",
    "        val_acc = 100 * total_correct / total_samples\n",
    "\n",
    "        train_losses.append(avg_loss)\n",
    "        train_accuracies.append(avg_accuracy)\n",
    "        val_losses.append(val_loss)\n",
    "        val_accuracies.append(val_acc)\n",
    "\n",
    "        print(f'Epoch {epoch + 1}/{num_epochs} validation: val_loss={val_loss:.5f}, val_acc={val_acc:.5f}%')\n",
    "\n",
    "        # Check for early stopping\n",
    "        if val_loss < best_val_loss:\n",
    "            best_val_loss = val_loss\n",
    "            best_model_state_dict = model.state_dict()\n",
    "            no_improvement_epochs = 0\n",
    "        else:\n",
    "            no_improvement_epochs += 1\n",
    "\n",
    "        if no_improvement_epochs >= patience:\n",
    "            print(\"Early stopping. No improvement in validation loss for {} epochs.\".format(patience))\n",
    "            break\n",
    "\n",
    "    # Load the best model state dict\n",
    "    if best_model_state_dict is not None:\n",
    "        model.load_state_dict(best_model_state_dict)\n",
    "\n",
    "    # Test the model on the test dataset\n",
    "    test_dataset = MaqamDataset(mode='test', cache_file='1.pkl')\n",
    "    test_loader = DataLoader(test_dataset, batch_size=batch_size, shuffle=False, collate_fn=custom_collate)\n",
    "\n",
    "    model.eval()\n",
    "    total_correct = 0\n",
    "    total_samples = 0\n",
    "\n",
    "    with torch.no_grad():\n",
    "        for data in tqdm(test_loader, desc='Testing', leave=False):\n",
    "            inputs, targets = data\n",
    "            targets = targets.to(device)\n",
    "            inputs = inputs.to(device)\n",
    "            outputs = model(inputs)\n",
    "\n",
    "            _, predicted_labels = torch.max(outputs, 1)\n",
    "            total_correct += (predicted_labels == targets).sum().item()\n",
    "            total_samples += len(targets)\n",
    "\n",
    "    test_acc = 100 * total_correct / total_samples\n",
    "    print(f'Test Accuracy: {test_acc:.5f}%')\n",
    "\n",
    "    # Save the trained model\n",
    "    torch.save(model.state_dict(), 'lstm.pth')\n",
    "    plt.figure()\n",
    "    plt.plot(range(1, len(train_losses) + 1), train_losses, label='Train Loss')\n",
    "    plt.plot(range(1, len(val_losses) + 1), val_losses, label='Validation Loss')\n",
    "    plt.xlabel('Epoch')\n",
    "    plt.ylabel('Loss')\n",
    "    plt.legend()\n",
    "    plt.title(f'Learning Rate: {l}')\n",
    "    plt.savefig(f'LSTM loss_plot_lr_{l}.png')\n",
    "    plt.close()\n",
    "\n",
    "    plt.figure()\n",
    "    plt.plot(range(1, len(train_accuracies) + 1), train_accuracies, label='Train Accuracy')\n",
    "    plt.plot(range(1, len(val_accuracies) + 1), val_accuracies, label='Validation Accuracy')\n",
    "    plt.xlabel('Epoch')\n",
    "    plt.ylabel('Accuracy')\n",
    "    plt.legend()\n",
    "    plt.title(f'Learning Rate: {l}')\n",
    "    plt.savefig(f'LSTM accuracy_plot_lr_{l}.png')\n",
    "    plt.close()\n"
   ]
  },
  {
   "cell_type": "code",
   "execution_count": 13,
   "metadata": {},
   "outputs": [
    {
     "name": "stdout",
     "output_type": "stream",
     "text": [
      "Cache file not found. Computing features from scratch and saving to cache file: train_features.pkl\n",
      "Cache file not found. Computing data from scratch and saving to cache file: train.pkl\n",
      "Cache file not found. Computing features from scratch and saving to cache file: val_features.pkl\n",
      "Cache file not found. Computing data from scratch and saving to cache file: val.pkl\n"
     ]
    },
    {
     "name": "stderr",
     "output_type": "stream",
     "text": [
      "/home/faisal/anaconda3/lib/python3.10/site-packages/torch/cuda/__init__.py:82: UserWarning: CUDA initialization: CUDA unknown error - this may be due to an incorrectly set up environment, e.g. changing env variable CUDA_VISIBLE_DEVICES after program start. Setting the available devices to be zero. (Triggered internally at  ../c10/cuda/CUDAFunctions.cpp:112.)\n",
      "  return torch._C._cuda_getDeviceCount() > 0\n"
     ]
    },
    {
     "name": "stdout",
     "output_type": "stream",
     "text": [
      "_________________________________________________________\n",
      "Learning rate =  0.0001\n",
      "Starting training\n"
     ]
    },
    {
     "name": "stderr",
     "output_type": "stream",
     "text": [
      "                                                            \r"
     ]
    },
    {
     "name": "stdout",
     "output_type": "stream",
     "text": [
      "Epoch 1/150: Train Loss=2.02304, Train Accuracy=31.61004%\n"
     ]
    },
    {
     "name": "stderr",
     "output_type": "stream",
     "text": [
      "                                                          \r"
     ]
    },
    {
     "name": "stdout",
     "output_type": "stream",
     "text": [
      "Epoch 1/150 validation: val_loss=1.97983, val_acc=40.86207%\n"
     ]
    },
    {
     "name": "stderr",
     "output_type": "stream",
     "text": [
      "                                                            \r"
     ]
    },
    {
     "name": "stdout",
     "output_type": "stream",
     "text": [
      "Epoch 2/150: Train Loss=1.95155, Train Accuracy=41.13737%\n"
     ]
    },
    {
     "name": "stderr",
     "output_type": "stream",
     "text": [
      "                                                          \r"
     ]
    },
    {
     "name": "stdout",
     "output_type": "stream",
     "text": [
      "Epoch 2/150 validation: val_loss=1.91327, val_acc=42.93103%\n"
     ]
    },
    {
     "name": "stderr",
     "output_type": "stream",
     "text": [
      "                                                            \r"
     ]
    },
    {
     "name": "stdout",
     "output_type": "stream",
     "text": [
      "Epoch 3/150: Train Loss=1.89598, Train Accuracy=46.04874%\n"
     ]
    },
    {
     "name": "stderr",
     "output_type": "stream",
     "text": [
      "                                                          \r"
     ]
    },
    {
     "name": "stdout",
     "output_type": "stream",
     "text": [
      "Epoch 3/150 validation: val_loss=1.87077, val_acc=45.17241%\n"
     ]
    },
    {
     "name": "stderr",
     "output_type": "stream",
     "text": [
      "                                                            \r"
     ]
    },
    {
     "name": "stdout",
     "output_type": "stream",
     "text": [
      "Epoch 4/150: Train Loss=1.85798, Train Accuracy=48.52290%\n"
     ]
    },
    {
     "name": "stderr",
     "output_type": "stream",
     "text": [
      "                                                          \r"
     ]
    },
    {
     "name": "stdout",
     "output_type": "stream",
     "text": [
      "Epoch 4/150 validation: val_loss=1.83580, val_acc=48.27586%\n"
     ]
    },
    {
     "name": "stderr",
     "output_type": "stream",
     "text": [
      "                                                            \r"
     ]
    },
    {
     "name": "stdout",
     "output_type": "stream",
     "text": [
      "Epoch 5/150: Train Loss=1.82905, Train Accuracy=50.66470%\n"
     ]
    },
    {
     "name": "stderr",
     "output_type": "stream",
     "text": [
      "                                                          \r"
     ]
    },
    {
     "name": "stdout",
     "output_type": "stream",
     "text": [
      "Epoch 5/150 validation: val_loss=1.80614, val_acc=50.34483%\n"
     ]
    },
    {
     "name": "stderr",
     "output_type": "stream",
     "text": [
      "                                                            \r"
     ]
    },
    {
     "name": "stdout",
     "output_type": "stream",
     "text": [
      "Epoch 6/150: Train Loss=1.80706, Train Accuracy=51.95716%\n"
     ]
    },
    {
     "name": "stderr",
     "output_type": "stream",
     "text": [
      "                                                          \r"
     ]
    },
    {
     "name": "stdout",
     "output_type": "stream",
     "text": [
      "Epoch 6/150 validation: val_loss=1.78796, val_acc=53.96552%\n"
     ]
    },
    {
     "name": "stderr",
     "output_type": "stream",
     "text": [
      "                                                            \r"
     ]
    },
    {
     "name": "stdout",
     "output_type": "stream",
     "text": [
      "Epoch 7/150: Train Loss=1.78897, Train Accuracy=54.83752%\n"
     ]
    },
    {
     "name": "stderr",
     "output_type": "stream",
     "text": [
      "                                                          \r"
     ]
    },
    {
     "name": "stdout",
     "output_type": "stream",
     "text": [
      "Epoch 7/150 validation: val_loss=1.77041, val_acc=54.13793%\n"
     ]
    },
    {
     "name": "stderr",
     "output_type": "stream",
     "text": [
      "                                                            \r"
     ]
    },
    {
     "name": "stdout",
     "output_type": "stream",
     "text": [
      "Epoch 8/150: Train Loss=1.76983, Train Accuracy=55.61300%\n"
     ]
    },
    {
     "name": "stderr",
     "output_type": "stream",
     "text": [
      "                                                          \r"
     ]
    },
    {
     "name": "stdout",
     "output_type": "stream",
     "text": [
      "Epoch 8/150 validation: val_loss=1.74891, val_acc=55.68966%\n"
     ]
    },
    {
     "name": "stderr",
     "output_type": "stream",
     "text": [
      "                                                            \r"
     ]
    },
    {
     "name": "stdout",
     "output_type": "stream",
     "text": [
      "Epoch 9/150: Train Loss=1.75730, Train Accuracy=56.49926%\n"
     ]
    },
    {
     "name": "stderr",
     "output_type": "stream",
     "text": [
      "                                                          \r"
     ]
    },
    {
     "name": "stdout",
     "output_type": "stream",
     "text": [
      "Epoch 9/150 validation: val_loss=1.73826, val_acc=58.10345%\n"
     ]
    },
    {
     "name": "stderr",
     "output_type": "stream",
     "text": [
      "                                                             \r"
     ]
    },
    {
     "name": "stdout",
     "output_type": "stream",
     "text": [
      "Epoch 10/150: Train Loss=1.73809, Train Accuracy=58.27179%\n"
     ]
    },
    {
     "name": "stderr",
     "output_type": "stream",
     "text": [
      "                                                          \r"
     ]
    },
    {
     "name": "stdout",
     "output_type": "stream",
     "text": [
      "Epoch 10/150 validation: val_loss=1.72404, val_acc=57.75862%\n"
     ]
    },
    {
     "name": "stderr",
     "output_type": "stream",
     "text": [
      "                                                             \r"
     ]
    },
    {
     "name": "stdout",
     "output_type": "stream",
     "text": [
      "Epoch 11/150: Train Loss=1.72213, Train Accuracy=59.67504%\n"
     ]
    },
    {
     "name": "stderr",
     "output_type": "stream",
     "text": [
      "                                                          \r"
     ]
    },
    {
     "name": "stdout",
     "output_type": "stream",
     "text": [
      "Epoch 11/150 validation: val_loss=1.71001, val_acc=59.82759%\n"
     ]
    },
    {
     "name": "stderr",
     "output_type": "stream",
     "text": [
      "                                                             \r"
     ]
    },
    {
     "name": "stdout",
     "output_type": "stream",
     "text": [
      "Epoch 12/150: Train Loss=1.72034, Train Accuracy=61.37371%\n"
     ]
    },
    {
     "name": "stderr",
     "output_type": "stream",
     "text": [
      "                                                          \r"
     ]
    },
    {
     "name": "stdout",
     "output_type": "stream",
     "text": [
      "Epoch 12/150 validation: val_loss=1.72527, val_acc=58.10345%\n"
     ]
    },
    {
     "name": "stderr",
     "output_type": "stream",
     "text": [
      "                                                             \r"
     ]
    },
    {
     "name": "stdout",
     "output_type": "stream",
     "text": [
      "Epoch 13/150: Train Loss=1.70990, Train Accuracy=61.81684%\n"
     ]
    },
    {
     "name": "stderr",
     "output_type": "stream",
     "text": [
      "                                                          \r"
     ]
    },
    {
     "name": "stdout",
     "output_type": "stream",
     "text": [
      "Epoch 13/150 validation: val_loss=1.68877, val_acc=62.93103%\n"
     ]
    },
    {
     "name": "stderr",
     "output_type": "stream",
     "text": [
      "                                                             \r"
     ]
    },
    {
     "name": "stdout",
     "output_type": "stream",
     "text": [
      "Epoch 14/150: Train Loss=1.69155, Train Accuracy=63.99557%\n"
     ]
    },
    {
     "name": "stderr",
     "output_type": "stream",
     "text": [
      "                                                          \r"
     ]
    },
    {
     "name": "stdout",
     "output_type": "stream",
     "text": [
      "Epoch 14/150 validation: val_loss=1.67320, val_acc=63.10345%\n"
     ]
    },
    {
     "name": "stderr",
     "output_type": "stream",
     "text": [
      "                                                             \r"
     ]
    },
    {
     "name": "stdout",
     "output_type": "stream",
     "text": [
      "Epoch 15/150: Train Loss=1.68136, Train Accuracy=64.80798%\n"
     ]
    },
    {
     "name": "stderr",
     "output_type": "stream",
     "text": [
      "                                                          \r"
     ]
    },
    {
     "name": "stdout",
     "output_type": "stream",
     "text": [
      "Epoch 15/150 validation: val_loss=1.66572, val_acc=62.93103%\n"
     ]
    },
    {
     "name": "stderr",
     "output_type": "stream",
     "text": [
      "                                                             \r"
     ]
    },
    {
     "name": "stdout",
     "output_type": "stream",
     "text": [
      "Epoch 16/150: Train Loss=1.67019, Train Accuracy=65.39882%\n"
     ]
    },
    {
     "name": "stderr",
     "output_type": "stream",
     "text": [
      "                                                          \r"
     ]
    },
    {
     "name": "stdout",
     "output_type": "stream",
     "text": [
      "Epoch 16/150 validation: val_loss=1.65277, val_acc=65.17241%\n"
     ]
    },
    {
     "name": "stderr",
     "output_type": "stream",
     "text": [
      "                                                             \r"
     ]
    },
    {
     "name": "stdout",
     "output_type": "stream",
     "text": [
      "Epoch 17/150: Train Loss=1.65723, Train Accuracy=65.73117%\n"
     ]
    },
    {
     "name": "stderr",
     "output_type": "stream",
     "text": [
      "                                                          \r"
     ]
    },
    {
     "name": "stdout",
     "output_type": "stream",
     "text": [
      "Epoch 17/150 validation: val_loss=1.65321, val_acc=64.31034%\n"
     ]
    },
    {
     "name": "stderr",
     "output_type": "stream",
     "text": [
      "                                                             \r"
     ]
    },
    {
     "name": "stdout",
     "output_type": "stream",
     "text": [
      "Epoch 18/150: Train Loss=1.64880, Train Accuracy=66.65436%\n"
     ]
    },
    {
     "name": "stderr",
     "output_type": "stream",
     "text": [
      "                                                          \r"
     ]
    },
    {
     "name": "stdout",
     "output_type": "stream",
     "text": [
      "Epoch 18/150 validation: val_loss=1.63559, val_acc=66.20690%\n"
     ]
    },
    {
     "name": "stderr",
     "output_type": "stream",
     "text": [
      "                                                             \r"
     ]
    },
    {
     "name": "stdout",
     "output_type": "stream",
     "text": [
      "Epoch 19/150: Train Loss=1.63509, Train Accuracy=68.24225%\n"
     ]
    },
    {
     "name": "stderr",
     "output_type": "stream",
     "text": [
      "                                                          \r"
     ]
    },
    {
     "name": "stdout",
     "output_type": "stream",
     "text": [
      "Epoch 19/150 validation: val_loss=1.61718, val_acc=69.48276%\n"
     ]
    },
    {
     "name": "stderr",
     "output_type": "stream",
     "text": [
      "                                                             \r"
     ]
    },
    {
     "name": "stdout",
     "output_type": "stream",
     "text": [
      "Epoch 20/150: Train Loss=1.62763, Train Accuracy=68.94387%\n"
     ]
    },
    {
     "name": "stderr",
     "output_type": "stream",
     "text": [
      "                                                          \r"
     ]
    },
    {
     "name": "stdout",
     "output_type": "stream",
     "text": [
      "Epoch 20/150 validation: val_loss=1.61191, val_acc=69.48276%\n"
     ]
    },
    {
     "name": "stderr",
     "output_type": "stream",
     "text": [
      "                                                             \r"
     ]
    },
    {
     "name": "stdout",
     "output_type": "stream",
     "text": [
      "Epoch 21/150: Train Loss=1.62534, Train Accuracy=68.75923%\n"
     ]
    },
    {
     "name": "stderr",
     "output_type": "stream",
     "text": [
      "                                                          \r"
     ]
    },
    {
     "name": "stdout",
     "output_type": "stream",
     "text": [
      "Epoch 21/150 validation: val_loss=1.60725, val_acc=68.79310%\n"
     ]
    },
    {
     "name": "stderr",
     "output_type": "stream",
     "text": [
      "                                                             \r"
     ]
    },
    {
     "name": "stdout",
     "output_type": "stream",
     "text": [
      "Epoch 22/150: Train Loss=1.61237, Train Accuracy=70.08863%\n"
     ]
    },
    {
     "name": "stderr",
     "output_type": "stream",
     "text": [
      "                                                          \r"
     ]
    },
    {
     "name": "stdout",
     "output_type": "stream",
     "text": [
      "Epoch 22/150 validation: val_loss=1.59171, val_acc=70.34483%\n"
     ]
    },
    {
     "name": "stderr",
     "output_type": "stream",
     "text": [
      "                                                             \r"
     ]
    },
    {
     "name": "stdout",
     "output_type": "stream",
     "text": [
      "Epoch 23/150: Train Loss=1.61070, Train Accuracy=70.27326%\n"
     ]
    },
    {
     "name": "stderr",
     "output_type": "stream",
     "text": [
      "                                                          \r"
     ]
    },
    {
     "name": "stdout",
     "output_type": "stream",
     "text": [
      "Epoch 23/150 validation: val_loss=1.58410, val_acc=71.20690%\n"
     ]
    },
    {
     "name": "stderr",
     "output_type": "stream",
     "text": [
      "                                                             \r"
     ]
    },
    {
     "name": "stdout",
     "output_type": "stream",
     "text": [
      "Epoch 24/150: Train Loss=1.59985, Train Accuracy=71.30724%\n"
     ]
    },
    {
     "name": "stderr",
     "output_type": "stream",
     "text": [
      "                                                          \r"
     ]
    },
    {
     "name": "stdout",
     "output_type": "stream",
     "text": [
      "Epoch 24/150 validation: val_loss=1.58201, val_acc=70.51724%\n"
     ]
    },
    {
     "name": "stderr",
     "output_type": "stream",
     "text": [
      "                                                             \r"
     ]
    },
    {
     "name": "stdout",
     "output_type": "stream",
     "text": [
      "Epoch 25/150: Train Loss=1.58809, Train Accuracy=71.63959%\n"
     ]
    },
    {
     "name": "stderr",
     "output_type": "stream",
     "text": [
      "                                                          \r"
     ]
    },
    {
     "name": "stdout",
     "output_type": "stream",
     "text": [
      "Epoch 25/150 validation: val_loss=1.58541, val_acc=70.68966%\n"
     ]
    },
    {
     "name": "stderr",
     "output_type": "stream",
     "text": [
      "                                                             \r"
     ]
    },
    {
     "name": "stdout",
     "output_type": "stream",
     "text": [
      "Epoch 26/150: Train Loss=1.59153, Train Accuracy=72.00886%\n"
     ]
    },
    {
     "name": "stderr",
     "output_type": "stream",
     "text": [
      "                                                          \r"
     ]
    },
    {
     "name": "stdout",
     "output_type": "stream",
     "text": [
      "Epoch 26/150 validation: val_loss=1.55860, val_acc=73.96552%\n"
     ]
    },
    {
     "name": "stderr",
     "output_type": "stream",
     "text": [
      "                                                             \r"
     ]
    },
    {
     "name": "stdout",
     "output_type": "stream",
     "text": [
      "Epoch 27/150: Train Loss=1.58156, Train Accuracy=72.26736%\n"
     ]
    },
    {
     "name": "stderr",
     "output_type": "stream",
     "text": [
      "                                                          \r"
     ]
    },
    {
     "name": "stdout",
     "output_type": "stream",
     "text": [
      "Epoch 27/150 validation: val_loss=1.56651, val_acc=72.75862%\n"
     ]
    },
    {
     "name": "stderr",
     "output_type": "stream",
     "text": [
      "                                                             \r"
     ]
    },
    {
     "name": "stdout",
     "output_type": "stream",
     "text": [
      "Epoch 28/150: Train Loss=1.57141, Train Accuracy=73.85524%\n"
     ]
    },
    {
     "name": "stderr",
     "output_type": "stream",
     "text": [
      "                                                          \r"
     ]
    },
    {
     "name": "stdout",
     "output_type": "stream",
     "text": [
      "Epoch 28/150 validation: val_loss=1.56091, val_acc=73.96552%\n"
     ]
    },
    {
     "name": "stderr",
     "output_type": "stream",
     "text": [
      "                                                             \r"
     ]
    },
    {
     "name": "stdout",
     "output_type": "stream",
     "text": [
      "Epoch 29/150: Train Loss=1.56318, Train Accuracy=74.33530%\n"
     ]
    },
    {
     "name": "stderr",
     "output_type": "stream",
     "text": [
      "                                                          \r"
     ]
    },
    {
     "name": "stdout",
     "output_type": "stream",
     "text": [
      "Epoch 29/150 validation: val_loss=1.55122, val_acc=74.82759%\n"
     ]
    },
    {
     "name": "stderr",
     "output_type": "stream",
     "text": [
      "                                                             \r"
     ]
    },
    {
     "name": "stdout",
     "output_type": "stream",
     "text": [
      "Epoch 30/150: Train Loss=1.55731, Train Accuracy=75.00000%\n"
     ]
    },
    {
     "name": "stderr",
     "output_type": "stream",
     "text": [
      "                                                          \r"
     ]
    },
    {
     "name": "stdout",
     "output_type": "stream",
     "text": [
      "Epoch 30/150 validation: val_loss=1.54930, val_acc=75.17241%\n"
     ]
    },
    {
     "name": "stderr",
     "output_type": "stream",
     "text": [
      "                                                             \r"
     ]
    },
    {
     "name": "stdout",
     "output_type": "stream",
     "text": [
      "Epoch 31/150: Train Loss=1.55863, Train Accuracy=74.26145%\n"
     ]
    },
    {
     "name": "stderr",
     "output_type": "stream",
     "text": [
      "                                                          \r"
     ]
    },
    {
     "name": "stdout",
     "output_type": "stream",
     "text": [
      "Epoch 31/150 validation: val_loss=1.54026, val_acc=75.00000%\n"
     ]
    },
    {
     "name": "stderr",
     "output_type": "stream",
     "text": [
      "                                                             \r"
     ]
    },
    {
     "name": "stdout",
     "output_type": "stream",
     "text": [
      "Epoch 32/150: Train Loss=1.55386, Train Accuracy=75.40620%\n"
     ]
    },
    {
     "name": "stderr",
     "output_type": "stream",
     "text": [
      "                                                          \r"
     ]
    },
    {
     "name": "stdout",
     "output_type": "stream",
     "text": [
      "Epoch 32/150 validation: val_loss=1.53693, val_acc=75.51724%\n"
     ]
    },
    {
     "name": "stderr",
     "output_type": "stream",
     "text": [
      "                                                             \r"
     ]
    },
    {
     "name": "stdout",
     "output_type": "stream",
     "text": [
      "Epoch 33/150: Train Loss=1.53935, Train Accuracy=77.06795%\n"
     ]
    },
    {
     "name": "stderr",
     "output_type": "stream",
     "text": [
      "                                                          \r"
     ]
    },
    {
     "name": "stdout",
     "output_type": "stream",
     "text": [
      "Epoch 33/150 validation: val_loss=1.52589, val_acc=76.37931%\n"
     ]
    },
    {
     "name": "stderr",
     "output_type": "stream",
     "text": [
      "                                                             \r"
     ]
    },
    {
     "name": "stdout",
     "output_type": "stream",
     "text": [
      "Epoch 34/150: Train Loss=1.53398, Train Accuracy=77.10487%\n"
     ]
    },
    {
     "name": "stderr",
     "output_type": "stream",
     "text": [
      "                                                          \r"
     ]
    },
    {
     "name": "stdout",
     "output_type": "stream",
     "text": [
      "Epoch 34/150 validation: val_loss=1.53898, val_acc=75.51724%\n"
     ]
    },
    {
     "name": "stderr",
     "output_type": "stream",
     "text": [
      "                                                             \r"
     ]
    },
    {
     "name": "stdout",
     "output_type": "stream",
     "text": [
      "Epoch 35/150: Train Loss=1.53959, Train Accuracy=76.88331%\n"
     ]
    },
    {
     "name": "stderr",
     "output_type": "stream",
     "text": [
      "                                                          \r"
     ]
    },
    {
     "name": "stdout",
     "output_type": "stream",
     "text": [
      "Epoch 35/150 validation: val_loss=1.51381, val_acc=77.58621%\n"
     ]
    },
    {
     "name": "stderr",
     "output_type": "stream",
     "text": [
      "                                                             \r"
     ]
    },
    {
     "name": "stdout",
     "output_type": "stream",
     "text": [
      "Epoch 36/150: Train Loss=1.53044, Train Accuracy=77.10487%\n"
     ]
    },
    {
     "name": "stderr",
     "output_type": "stream",
     "text": [
      "                                                          \r"
     ]
    },
    {
     "name": "stdout",
     "output_type": "stream",
     "text": [
      "Epoch 36/150 validation: val_loss=1.51275, val_acc=77.58621%\n"
     ]
    },
    {
     "name": "stderr",
     "output_type": "stream",
     "text": [
      "                                                             \r"
     ]
    },
    {
     "name": "stdout",
     "output_type": "stream",
     "text": [
      "Epoch 37/150: Train Loss=1.53513, Train Accuracy=77.17873%\n"
     ]
    },
    {
     "name": "stderr",
     "output_type": "stream",
     "text": [
      "                                                          \r"
     ]
    },
    {
     "name": "stdout",
     "output_type": "stream",
     "text": [
      "Epoch 37/150 validation: val_loss=1.51669, val_acc=77.58621%\n"
     ]
    },
    {
     "name": "stderr",
     "output_type": "stream",
     "text": [
      "                                                             \r"
     ]
    },
    {
     "name": "stdout",
     "output_type": "stream",
     "text": [
      "Epoch 38/150: Train Loss=1.51888, Train Accuracy=78.21270%\n"
     ]
    },
    {
     "name": "stderr",
     "output_type": "stream",
     "text": [
      "                                                          \r"
     ]
    },
    {
     "name": "stdout",
     "output_type": "stream",
     "text": [
      "Epoch 38/150 validation: val_loss=1.52371, val_acc=75.86207%\n"
     ]
    },
    {
     "name": "stderr",
     "output_type": "stream",
     "text": [
      "                                                             \r"
     ]
    },
    {
     "name": "stdout",
     "output_type": "stream",
     "text": [
      "Epoch 39/150: Train Loss=1.52057, Train Accuracy=77.43722%\n"
     ]
    },
    {
     "name": "stderr",
     "output_type": "stream",
     "text": [
      "                                                          \r"
     ]
    },
    {
     "name": "stdout",
     "output_type": "stream",
     "text": [
      "Epoch 39/150 validation: val_loss=1.51405, val_acc=76.72414%\n"
     ]
    },
    {
     "name": "stderr",
     "output_type": "stream",
     "text": [
      "                                                             \r"
     ]
    },
    {
     "name": "stdout",
     "output_type": "stream",
     "text": [
      "Epoch 40/150: Train Loss=1.51555, Train Accuracy=77.99114%\n"
     ]
    },
    {
     "name": "stderr",
     "output_type": "stream",
     "text": [
      "                                                          \r"
     ]
    },
    {
     "name": "stdout",
     "output_type": "stream",
     "text": [
      "Epoch 40/150 validation: val_loss=1.50582, val_acc=78.10345%\n"
     ]
    },
    {
     "name": "stderr",
     "output_type": "stream",
     "text": [
      "                                                             \r"
     ]
    },
    {
     "name": "stdout",
     "output_type": "stream",
     "text": [
      "Epoch 41/150: Train Loss=1.51591, Train Accuracy=79.20975%\n"
     ]
    },
    {
     "name": "stderr",
     "output_type": "stream",
     "text": [
      "                                                          \r"
     ]
    },
    {
     "name": "stdout",
     "output_type": "stream",
     "text": [
      "Epoch 41/150 validation: val_loss=1.50562, val_acc=77.58621%\n"
     ]
    },
    {
     "name": "stderr",
     "output_type": "stream",
     "text": [
      "                                                             \r"
     ]
    },
    {
     "name": "stdout",
     "output_type": "stream",
     "text": [
      "Epoch 42/150: Train Loss=1.50990, Train Accuracy=78.61891%\n"
     ]
    },
    {
     "name": "stderr",
     "output_type": "stream",
     "text": [
      "                                                          \r"
     ]
    },
    {
     "name": "stdout",
     "output_type": "stream",
     "text": [
      "Epoch 42/150 validation: val_loss=1.50247, val_acc=78.27586%\n"
     ]
    },
    {
     "name": "stderr",
     "output_type": "stream",
     "text": [
      "                                                             \r"
     ]
    },
    {
     "name": "stdout",
     "output_type": "stream",
     "text": [
      "Epoch 43/150: Train Loss=1.50386, Train Accuracy=79.20975%\n"
     ]
    },
    {
     "name": "stderr",
     "output_type": "stream",
     "text": [
      "                                                          \r"
     ]
    },
    {
     "name": "stdout",
     "output_type": "stream",
     "text": [
      "Epoch 43/150 validation: val_loss=1.50484, val_acc=77.93103%\n"
     ]
    },
    {
     "name": "stderr",
     "output_type": "stream",
     "text": [
      "                                                             \r"
     ]
    },
    {
     "name": "stdout",
     "output_type": "stream",
     "text": [
      "Epoch 44/150: Train Loss=1.50031, Train Accuracy=79.54210%\n"
     ]
    },
    {
     "name": "stderr",
     "output_type": "stream",
     "text": [
      "                                                          \r"
     ]
    },
    {
     "name": "stdout",
     "output_type": "stream",
     "text": [
      "Epoch 44/150 validation: val_loss=1.50397, val_acc=78.62069%\n"
     ]
    },
    {
     "name": "stderr",
     "output_type": "stream",
     "text": [
      "                                                             \r"
     ]
    },
    {
     "name": "stdout",
     "output_type": "stream",
     "text": [
      "Epoch 45/150: Train Loss=1.49475, Train Accuracy=80.13294%\n"
     ]
    },
    {
     "name": "stderr",
     "output_type": "stream",
     "text": [
      "                                                          \r"
     ]
    },
    {
     "name": "stdout",
     "output_type": "stream",
     "text": [
      "Epoch 45/150 validation: val_loss=1.48915, val_acc=78.44828%\n"
     ]
    },
    {
     "name": "stderr",
     "output_type": "stream",
     "text": [
      "                                                             \r"
     ]
    },
    {
     "name": "stdout",
     "output_type": "stream",
     "text": [
      "Epoch 46/150: Train Loss=1.49638, Train Accuracy=79.94830%\n"
     ]
    },
    {
     "name": "stderr",
     "output_type": "stream",
     "text": [
      "                                                          \r"
     ]
    },
    {
     "name": "stdout",
     "output_type": "stream",
     "text": [
      "Epoch 46/150 validation: val_loss=1.49924, val_acc=77.93103%\n"
     ]
    },
    {
     "name": "stderr",
     "output_type": "stream",
     "text": [
      "                                                             \r"
     ]
    },
    {
     "name": "stdout",
     "output_type": "stream",
     "text": [
      "Epoch 47/150: Train Loss=1.48891, Train Accuracy=81.20384%\n"
     ]
    },
    {
     "name": "stderr",
     "output_type": "stream",
     "text": [
      "                                                          \r"
     ]
    },
    {
     "name": "stdout",
     "output_type": "stream",
     "text": [
      "Epoch 47/150 validation: val_loss=1.49232, val_acc=79.31034%\n"
     ]
    },
    {
     "name": "stderr",
     "output_type": "stream",
     "text": [
      "                                                             \r"
     ]
    },
    {
     "name": "stdout",
     "output_type": "stream",
     "text": [
      "Epoch 48/150: Train Loss=1.49140, Train Accuracy=80.24372%\n"
     ]
    },
    {
     "name": "stderr",
     "output_type": "stream",
     "text": [
      "                                                          \r"
     ]
    },
    {
     "name": "stdout",
     "output_type": "stream",
     "text": [
      "Epoch 48/150 validation: val_loss=1.48942, val_acc=78.62069%\n"
     ]
    },
    {
     "name": "stderr",
     "output_type": "stream",
     "text": [
      "                                                             \r"
     ]
    },
    {
     "name": "stdout",
     "output_type": "stream",
     "text": [
      "Epoch 49/150: Train Loss=1.48952, Train Accuracy=80.57607%\n"
     ]
    },
    {
     "name": "stderr",
     "output_type": "stream",
     "text": [
      "                                                          \r"
     ]
    },
    {
     "name": "stdout",
     "output_type": "stream",
     "text": [
      "Epoch 49/150 validation: val_loss=1.49277, val_acc=79.48276%\n"
     ]
    },
    {
     "name": "stderr",
     "output_type": "stream",
     "text": [
      "                                                             \r"
     ]
    },
    {
     "name": "stdout",
     "output_type": "stream",
     "text": [
      "Epoch 50/150: Train Loss=1.48855, Train Accuracy=81.16691%\n"
     ]
    },
    {
     "name": "stderr",
     "output_type": "stream",
     "text": [
      "                                                          \r"
     ]
    },
    {
     "name": "stdout",
     "output_type": "stream",
     "text": [
      "Epoch 50/150 validation: val_loss=1.48095, val_acc=80.00000%\n"
     ]
    },
    {
     "name": "stderr",
     "output_type": "stream",
     "text": [
      "                                                             \r"
     ]
    },
    {
     "name": "stdout",
     "output_type": "stream",
     "text": [
      "Epoch 51/150: Train Loss=1.48506, Train Accuracy=80.76071%\n"
     ]
    },
    {
     "name": "stderr",
     "output_type": "stream",
     "text": [
      "                                                          \r"
     ]
    },
    {
     "name": "stdout",
     "output_type": "stream",
     "text": [
      "Epoch 51/150 validation: val_loss=1.48685, val_acc=79.82759%\n"
     ]
    },
    {
     "name": "stderr",
     "output_type": "stream",
     "text": [
      "                                                             \r"
     ]
    },
    {
     "name": "stdout",
     "output_type": "stream",
     "text": [
      "Epoch 52/150: Train Loss=1.48129, Train Accuracy=81.46233%\n"
     ]
    },
    {
     "name": "stderr",
     "output_type": "stream",
     "text": [
      "                                                          \r"
     ]
    },
    {
     "name": "stdout",
     "output_type": "stream",
     "text": [
      "Epoch 52/150 validation: val_loss=1.48504, val_acc=78.44828%\n"
     ]
    },
    {
     "name": "stderr",
     "output_type": "stream",
     "text": [
      "                                                             \r"
     ]
    },
    {
     "name": "stdout",
     "output_type": "stream",
     "text": [
      "Epoch 53/150: Train Loss=1.48195, Train Accuracy=81.90547%\n"
     ]
    },
    {
     "name": "stderr",
     "output_type": "stream",
     "text": [
      "                                                          \r"
     ]
    },
    {
     "name": "stdout",
     "output_type": "stream",
     "text": [
      "Epoch 53/150 validation: val_loss=1.47394, val_acc=81.03448%\n"
     ]
    },
    {
     "name": "stderr",
     "output_type": "stream",
     "text": [
      "                                                             \r"
     ]
    },
    {
     "name": "stdout",
     "output_type": "stream",
     "text": [
      "Epoch 54/150: Train Loss=1.47183, Train Accuracy=82.49631%\n"
     ]
    },
    {
     "name": "stderr",
     "output_type": "stream",
     "text": [
      "                                                          \r"
     ]
    },
    {
     "name": "stdout",
     "output_type": "stream",
     "text": [
      "Epoch 54/150 validation: val_loss=1.47458, val_acc=79.82759%\n"
     ]
    },
    {
     "name": "stderr",
     "output_type": "stream",
     "text": [
      "                                                             \r"
     ]
    },
    {
     "name": "stdout",
     "output_type": "stream",
     "text": [
      "Epoch 55/150: Train Loss=1.47115, Train Accuracy=82.05318%\n"
     ]
    },
    {
     "name": "stderr",
     "output_type": "stream",
     "text": [
      "                                                          \r"
     ]
    },
    {
     "name": "stdout",
     "output_type": "stream",
     "text": [
      "Epoch 55/150 validation: val_loss=1.48141, val_acc=79.13793%\n"
     ]
    },
    {
     "name": "stderr",
     "output_type": "stream",
     "text": [
      "                                                             \r"
     ]
    },
    {
     "name": "stdout",
     "output_type": "stream",
     "text": [
      "Epoch 56/150: Train Loss=1.47316, Train Accuracy=82.23781%\n"
     ]
    },
    {
     "name": "stderr",
     "output_type": "stream",
     "text": [
      "                                                          \r"
     ]
    },
    {
     "name": "stdout",
     "output_type": "stream",
     "text": [
      "Epoch 56/150 validation: val_loss=1.48306, val_acc=79.48276%\n"
     ]
    },
    {
     "name": "stderr",
     "output_type": "stream",
     "text": [
      "                                                             \r"
     ]
    },
    {
     "name": "stdout",
     "output_type": "stream",
     "text": [
      "Epoch 57/150: Train Loss=1.46950, Train Accuracy=82.86558%\n"
     ]
    },
    {
     "name": "stderr",
     "output_type": "stream",
     "text": [
      "                                                          \r"
     ]
    },
    {
     "name": "stdout",
     "output_type": "stream",
     "text": [
      "Epoch 57/150 validation: val_loss=1.48873, val_acc=79.65517%\n"
     ]
    },
    {
     "name": "stderr",
     "output_type": "stream",
     "text": [
      "                                                             \r"
     ]
    },
    {
     "name": "stdout",
     "output_type": "stream",
     "text": [
      "Epoch 58/150: Train Loss=1.46935, Train Accuracy=82.23781%\n"
     ]
    },
    {
     "name": "stderr",
     "output_type": "stream",
     "text": [
      "                                                          \r"
     ]
    },
    {
     "name": "stdout",
     "output_type": "stream",
     "text": [
      "Epoch 58/150 validation: val_loss=1.47205, val_acc=80.17241%\n"
     ]
    },
    {
     "name": "stderr",
     "output_type": "stream",
     "text": [
      "                                                             \r"
     ]
    },
    {
     "name": "stdout",
     "output_type": "stream",
     "text": [
      "Epoch 59/150: Train Loss=1.45491, Train Accuracy=83.41950%\n"
     ]
    },
    {
     "name": "stderr",
     "output_type": "stream",
     "text": [
      "                                                          \r"
     ]
    },
    {
     "name": "stdout",
     "output_type": "stream",
     "text": [
      "Epoch 59/150 validation: val_loss=1.46976, val_acc=81.55172%\n"
     ]
    },
    {
     "name": "stderr",
     "output_type": "stream",
     "text": [
      "                                                             \r"
     ]
    },
    {
     "name": "stdout",
     "output_type": "stream",
     "text": [
      "Epoch 60/150: Train Loss=1.46299, Train Accuracy=83.01329%\n"
     ]
    },
    {
     "name": "stderr",
     "output_type": "stream",
     "text": [
      "                                                          \r"
     ]
    },
    {
     "name": "stdout",
     "output_type": "stream",
     "text": [
      "Epoch 60/150 validation: val_loss=1.46935, val_acc=80.86207%\n"
     ]
    },
    {
     "name": "stderr",
     "output_type": "stream",
     "text": [
      "                                                             \r"
     ]
    },
    {
     "name": "stdout",
     "output_type": "stream",
     "text": [
      "Epoch 61/150: Train Loss=1.46384, Train Accuracy=82.75480%\n"
     ]
    },
    {
     "name": "stderr",
     "output_type": "stream",
     "text": [
      "                                                          \r"
     ]
    },
    {
     "name": "stdout",
     "output_type": "stream",
     "text": [
      "Epoch 61/150 validation: val_loss=1.47114, val_acc=81.89655%\n"
     ]
    },
    {
     "name": "stderr",
     "output_type": "stream",
     "text": [
      "                                                             \r"
     ]
    },
    {
     "name": "stdout",
     "output_type": "stream",
     "text": [
      "Epoch 62/150: Train Loss=1.45867, Train Accuracy=83.93648%\n"
     ]
    },
    {
     "name": "stderr",
     "output_type": "stream",
     "text": [
      "                                                          \r"
     ]
    },
    {
     "name": "stdout",
     "output_type": "stream",
     "text": [
      "Epoch 62/150 validation: val_loss=1.47167, val_acc=80.00000%\n"
     ]
    },
    {
     "name": "stderr",
     "output_type": "stream",
     "text": [
      "                                                             \r"
     ]
    },
    {
     "name": "stdout",
     "output_type": "stream",
     "text": [
      "Epoch 63/150: Train Loss=1.45625, Train Accuracy=83.08715%\n"
     ]
    },
    {
     "name": "stderr",
     "output_type": "stream",
     "text": [
      "                                                          \r"
     ]
    },
    {
     "name": "stdout",
     "output_type": "stream",
     "text": [
      "Epoch 63/150 validation: val_loss=1.47692, val_acc=80.34483%\n"
     ]
    },
    {
     "name": "stderr",
     "output_type": "stream",
     "text": [
      "                                                             \r"
     ]
    },
    {
     "name": "stdout",
     "output_type": "stream",
     "text": [
      "Epoch 64/150: Train Loss=1.45500, Train Accuracy=83.64106%\n"
     ]
    },
    {
     "name": "stderr",
     "output_type": "stream",
     "text": [
      "                                                          \r"
     ]
    },
    {
     "name": "stdout",
     "output_type": "stream",
     "text": [
      "Epoch 64/150 validation: val_loss=1.46229, val_acc=81.55172%\n"
     ]
    },
    {
     "name": "stderr",
     "output_type": "stream",
     "text": [
      "                                                             \r"
     ]
    },
    {
     "name": "stdout",
     "output_type": "stream",
     "text": [
      "Epoch 65/150: Train Loss=1.45294, Train Accuracy=83.41950%\n"
     ]
    },
    {
     "name": "stderr",
     "output_type": "stream",
     "text": [
      "                                                          \r"
     ]
    },
    {
     "name": "stdout",
     "output_type": "stream",
     "text": [
      "Epoch 65/150 validation: val_loss=1.46451, val_acc=81.20690%\n"
     ]
    },
    {
     "name": "stderr",
     "output_type": "stream",
     "text": [
      "                                                             \r"
     ]
    },
    {
     "name": "stdout",
     "output_type": "stream",
     "text": [
      "Epoch 66/150: Train Loss=1.46017, Train Accuracy=82.90251%\n"
     ]
    },
    {
     "name": "stderr",
     "output_type": "stream",
     "text": [
      "                                                          \r"
     ]
    },
    {
     "name": "stdout",
     "output_type": "stream",
     "text": [
      "Epoch 66/150 validation: val_loss=1.46171, val_acc=81.55172%\n"
     ]
    },
    {
     "name": "stderr",
     "output_type": "stream",
     "text": [
      "                                                             \r"
     ]
    },
    {
     "name": "stdout",
     "output_type": "stream",
     "text": [
      "Epoch 67/150: Train Loss=1.45351, Train Accuracy=83.56721%\n"
     ]
    },
    {
     "name": "stderr",
     "output_type": "stream",
     "text": [
      "                                                          \r"
     ]
    },
    {
     "name": "stdout",
     "output_type": "stream",
     "text": [
      "Epoch 67/150 validation: val_loss=1.46479, val_acc=81.37931%\n"
     ]
    },
    {
     "name": "stderr",
     "output_type": "stream",
     "text": [
      "                                                             \r"
     ]
    },
    {
     "name": "stdout",
     "output_type": "stream",
     "text": [
      "Epoch 68/150: Train Loss=1.45532, Train Accuracy=83.16100%\n"
     ]
    },
    {
     "name": "stderr",
     "output_type": "stream",
     "text": [
      "                                                          \r"
     ]
    },
    {
     "name": "stdout",
     "output_type": "stream",
     "text": [
      "Epoch 68/150 validation: val_loss=1.45916, val_acc=81.72414%\n"
     ]
    },
    {
     "name": "stderr",
     "output_type": "stream",
     "text": [
      "                                                             \r"
     ]
    },
    {
     "name": "stdout",
     "output_type": "stream",
     "text": [
      "Epoch 69/150: Train Loss=1.45032, Train Accuracy=84.01034%\n"
     ]
    },
    {
     "name": "stderr",
     "output_type": "stream",
     "text": [
      "                                                          \r"
     ]
    },
    {
     "name": "stdout",
     "output_type": "stream",
     "text": [
      "Epoch 69/150 validation: val_loss=1.45828, val_acc=82.06897%\n"
     ]
    },
    {
     "name": "stderr",
     "output_type": "stream",
     "text": [
      "                                                             \r"
     ]
    },
    {
     "name": "stdout",
     "output_type": "stream",
     "text": [
      "Epoch 70/150: Train Loss=1.44691, Train Accuracy=84.04727%\n"
     ]
    },
    {
     "name": "stderr",
     "output_type": "stream",
     "text": [
      "                                                          \r"
     ]
    },
    {
     "name": "stdout",
     "output_type": "stream",
     "text": [
      "Epoch 70/150 validation: val_loss=1.46234, val_acc=81.03448%\n"
     ]
    },
    {
     "name": "stderr",
     "output_type": "stream",
     "text": [
      "                                                             \r"
     ]
    },
    {
     "name": "stdout",
     "output_type": "stream",
     "text": [
      "Epoch 71/150: Train Loss=1.43820, Train Accuracy=85.63516%\n"
     ]
    },
    {
     "name": "stderr",
     "output_type": "stream",
     "text": [
      "                                                          \r"
     ]
    },
    {
     "name": "stdout",
     "output_type": "stream",
     "text": [
      "Epoch 71/150 validation: val_loss=1.47735, val_acc=80.51724%\n"
     ]
    },
    {
     "name": "stderr",
     "output_type": "stream",
     "text": [
      "                                                             \r"
     ]
    },
    {
     "name": "stdout",
     "output_type": "stream",
     "text": [
      "Epoch 72/150: Train Loss=1.44448, Train Accuracy=84.89660%\n"
     ]
    },
    {
     "name": "stderr",
     "output_type": "stream",
     "text": [
      "                                                          \r"
     ]
    },
    {
     "name": "stdout",
     "output_type": "stream",
     "text": [
      "Epoch 72/150 validation: val_loss=1.46011, val_acc=82.06897%\n"
     ]
    },
    {
     "name": "stderr",
     "output_type": "stream",
     "text": [
      "                                                             \r"
     ]
    },
    {
     "name": "stdout",
     "output_type": "stream",
     "text": [
      "Epoch 73/150: Train Loss=1.44584, Train Accuracy=84.85968%\n"
     ]
    },
    {
     "name": "stderr",
     "output_type": "stream",
     "text": [
      "                                                          \r"
     ]
    },
    {
     "name": "stdout",
     "output_type": "stream",
     "text": [
      "Epoch 73/150 validation: val_loss=1.46444, val_acc=81.37931%\n"
     ]
    },
    {
     "name": "stderr",
     "output_type": "stream",
     "text": [
      "                                                             \r"
     ]
    },
    {
     "name": "stdout",
     "output_type": "stream",
     "text": [
      "Epoch 74/150: Train Loss=1.44556, Train Accuracy=84.56425%\n"
     ]
    },
    {
     "name": "stderr",
     "output_type": "stream",
     "text": [
      "                                                          \r"
     ]
    },
    {
     "name": "stdout",
     "output_type": "stream",
     "text": [
      "Epoch 74/150 validation: val_loss=1.46288, val_acc=81.55172%\n"
     ]
    },
    {
     "name": "stderr",
     "output_type": "stream",
     "text": [
      "                                                             \r"
     ]
    },
    {
     "name": "stdout",
     "output_type": "stream",
     "text": [
      "Epoch 75/150: Train Loss=1.43765, Train Accuracy=85.48744%\n"
     ]
    },
    {
     "name": "stderr",
     "output_type": "stream",
     "text": [
      "                                                          \r"
     ]
    },
    {
     "name": "stdout",
     "output_type": "stream",
     "text": [
      "Epoch 75/150 validation: val_loss=1.46693, val_acc=80.34483%\n"
     ]
    },
    {
     "name": "stderr",
     "output_type": "stream",
     "text": [
      "                                                             \r"
     ]
    },
    {
     "name": "stdout",
     "output_type": "stream",
     "text": [
      "Epoch 76/150: Train Loss=1.44648, Train Accuracy=84.37962%\n"
     ]
    },
    {
     "name": "stderr",
     "output_type": "stream",
     "text": [
      "                                                          \r"
     ]
    },
    {
     "name": "stdout",
     "output_type": "stream",
     "text": [
      "Epoch 76/150 validation: val_loss=1.45472, val_acc=82.06897%\n"
     ]
    },
    {
     "name": "stderr",
     "output_type": "stream",
     "text": [
      "                                                             \r"
     ]
    },
    {
     "name": "stdout",
     "output_type": "stream",
     "text": [
      "Epoch 77/150: Train Loss=1.43881, Train Accuracy=85.11817%\n"
     ]
    },
    {
     "name": "stderr",
     "output_type": "stream",
     "text": [
      "                                                          \r"
     ]
    },
    {
     "name": "stdout",
     "output_type": "stream",
     "text": [
      "Epoch 77/150 validation: val_loss=1.45055, val_acc=83.27586%\n"
     ]
    },
    {
     "name": "stderr",
     "output_type": "stream",
     "text": [
      "                                                             \r"
     ]
    },
    {
     "name": "stdout",
     "output_type": "stream",
     "text": [
      "Epoch 78/150: Train Loss=1.44073, Train Accuracy=84.97046%\n"
     ]
    },
    {
     "name": "stderr",
     "output_type": "stream",
     "text": [
      "                                                          \r"
     ]
    },
    {
     "name": "stdout",
     "output_type": "stream",
     "text": [
      "Epoch 78/150 validation: val_loss=1.45596, val_acc=81.72414%\n"
     ]
    },
    {
     "name": "stderr",
     "output_type": "stream",
     "text": [
      "                                                             \r"
     ]
    },
    {
     "name": "stdout",
     "output_type": "stream",
     "text": [
      "Epoch 79/150: Train Loss=1.43744, Train Accuracy=85.22895%\n"
     ]
    },
    {
     "name": "stderr",
     "output_type": "stream",
     "text": [
      "                                                          \r"
     ]
    },
    {
     "name": "stdout",
     "output_type": "stream",
     "text": [
      "Epoch 79/150 validation: val_loss=1.45117, val_acc=82.58621%\n"
     ]
    },
    {
     "name": "stderr",
     "output_type": "stream",
     "text": [
      "                                                             \r"
     ]
    },
    {
     "name": "stdout",
     "output_type": "stream",
     "text": [
      "Epoch 80/150: Train Loss=1.42918, Train Accuracy=85.30281%\n"
     ]
    },
    {
     "name": "stderr",
     "output_type": "stream",
     "text": [
      "                                                          \r"
     ]
    },
    {
     "name": "stdout",
     "output_type": "stream",
     "text": [
      "Epoch 80/150 validation: val_loss=1.45085, val_acc=82.75862%\n"
     ]
    },
    {
     "name": "stderr",
     "output_type": "stream",
     "text": [
      "                                                             \r"
     ]
    },
    {
     "name": "stdout",
     "output_type": "stream",
     "text": [
      "Epoch 81/150: Train Loss=1.44419, Train Accuracy=84.01034%\n"
     ]
    },
    {
     "name": "stderr",
     "output_type": "stream",
     "text": [
      "                                                          \r"
     ]
    },
    {
     "name": "stdout",
     "output_type": "stream",
     "text": [
      "Epoch 81/150 validation: val_loss=1.45195, val_acc=82.41379%\n"
     ]
    },
    {
     "name": "stderr",
     "output_type": "stream",
     "text": [
      "                                                             \r"
     ]
    },
    {
     "name": "stdout",
     "output_type": "stream",
     "text": [
      "Epoch 82/150: Train Loss=1.43407, Train Accuracy=85.48744%\n"
     ]
    },
    {
     "name": "stderr",
     "output_type": "stream",
     "text": [
      "                                                          \r"
     ]
    },
    {
     "name": "stdout",
     "output_type": "stream",
     "text": [
      "Epoch 82/150 validation: val_loss=1.45773, val_acc=81.72414%\n"
     ]
    },
    {
     "name": "stderr",
     "output_type": "stream",
     "text": [
      "                                                             \r"
     ]
    },
    {
     "name": "stdout",
     "output_type": "stream",
     "text": [
      "Epoch 83/150: Train Loss=1.42726, Train Accuracy=85.70901%\n"
     ]
    },
    {
     "name": "stderr",
     "output_type": "stream",
     "text": [
      "                                                          \r"
     ]
    },
    {
     "name": "stdout",
     "output_type": "stream",
     "text": [
      "Epoch 83/150 validation: val_loss=1.45384, val_acc=81.89655%\n"
     ]
    },
    {
     "name": "stderr",
     "output_type": "stream",
     "text": [
      "                                                             \r"
     ]
    },
    {
     "name": "stdout",
     "output_type": "stream",
     "text": [
      "Epoch 84/150: Train Loss=1.42635, Train Accuracy=85.96750%\n"
     ]
    },
    {
     "name": "stderr",
     "output_type": "stream",
     "text": [
      "                                                          \r"
     ]
    },
    {
     "name": "stdout",
     "output_type": "stream",
     "text": [
      "Epoch 84/150 validation: val_loss=1.45796, val_acc=81.37931%\n"
     ]
    },
    {
     "name": "stderr",
     "output_type": "stream",
     "text": [
      "                                                             \r"
     ]
    },
    {
     "name": "stdout",
     "output_type": "stream",
     "text": [
      "Epoch 85/150: Train Loss=1.43193, Train Accuracy=85.59823%\n"
     ]
    },
    {
     "name": "stderr",
     "output_type": "stream",
     "text": [
      "                                                          \r"
     ]
    },
    {
     "name": "stdout",
     "output_type": "stream",
     "text": [
      "Epoch 85/150 validation: val_loss=1.45498, val_acc=81.37931%\n"
     ]
    },
    {
     "name": "stderr",
     "output_type": "stream",
     "text": [
      "                                                             \r"
     ]
    },
    {
     "name": "stdout",
     "output_type": "stream",
     "text": [
      "Epoch 86/150: Train Loss=1.43031, Train Accuracy=85.81979%\n"
     ]
    },
    {
     "name": "stderr",
     "output_type": "stream",
     "text": [
      "                                                          \r"
     ]
    },
    {
     "name": "stdout",
     "output_type": "stream",
     "text": [
      "Epoch 86/150 validation: val_loss=1.45291, val_acc=82.06897%\n"
     ]
    },
    {
     "name": "stderr",
     "output_type": "stream",
     "text": [
      "                                                             \r"
     ]
    },
    {
     "name": "stdout",
     "output_type": "stream",
     "text": [
      "Epoch 87/150: Train Loss=1.42382, Train Accuracy=86.22600%\n"
     ]
    },
    {
     "name": "stderr",
     "output_type": "stream",
     "text": [
      "                                                          \r"
     ]
    },
    {
     "name": "stdout",
     "output_type": "stream",
     "text": [
      "Epoch 87/150 validation: val_loss=1.46017, val_acc=81.37931%\n"
     ]
    },
    {
     "name": "stderr",
     "output_type": "stream",
     "text": [
      "                                                             \r"
     ]
    },
    {
     "name": "stdout",
     "output_type": "stream",
     "text": [
      "Epoch 88/150: Train Loss=1.43111, Train Accuracy=85.63516%\n"
     ]
    },
    {
     "name": "stderr",
     "output_type": "stream",
     "text": [
      "                                                          \r"
     ]
    },
    {
     "name": "stdout",
     "output_type": "stream",
     "text": [
      "Epoch 88/150 validation: val_loss=1.47119, val_acc=81.37931%\n"
     ]
    },
    {
     "name": "stderr",
     "output_type": "stream",
     "text": [
      "                                                             \r"
     ]
    },
    {
     "name": "stdout",
     "output_type": "stream",
     "text": [
      "Epoch 89/150: Train Loss=1.43037, Train Accuracy=85.81979%\n"
     ]
    },
    {
     "name": "stderr",
     "output_type": "stream",
     "text": [
      "                                                          \r"
     ]
    },
    {
     "name": "stdout",
     "output_type": "stream",
     "text": [
      "Epoch 89/150 validation: val_loss=1.45420, val_acc=82.93103%\n"
     ]
    },
    {
     "name": "stderr",
     "output_type": "stream",
     "text": [
      "                                                             \r"
     ]
    },
    {
     "name": "stdout",
     "output_type": "stream",
     "text": [
      "Epoch 90/150: Train Loss=1.43029, Train Accuracy=86.22600%\n"
     ]
    },
    {
     "name": "stderr",
     "output_type": "stream",
     "text": [
      "                                                          \r"
     ]
    },
    {
     "name": "stdout",
     "output_type": "stream",
     "text": [
      "Epoch 90/150 validation: val_loss=1.45170, val_acc=82.41379%\n"
     ]
    },
    {
     "name": "stderr",
     "output_type": "stream",
     "text": [
      "                                                             \r"
     ]
    },
    {
     "name": "stdout",
     "output_type": "stream",
     "text": [
      "Epoch 91/150: Train Loss=1.42341, Train Accuracy=86.41064%\n"
     ]
    },
    {
     "name": "stderr",
     "output_type": "stream",
     "text": [
      "                                                          \r"
     ]
    },
    {
     "name": "stdout",
     "output_type": "stream",
     "text": [
      "Epoch 91/150 validation: val_loss=1.45007, val_acc=82.58621%\n"
     ]
    },
    {
     "name": "stderr",
     "output_type": "stream",
     "text": [
      "                                                             \r"
     ]
    },
    {
     "name": "stdout",
     "output_type": "stream",
     "text": [
      "Epoch 92/150: Train Loss=1.42288, Train Accuracy=85.59823%\n"
     ]
    },
    {
     "name": "stderr",
     "output_type": "stream",
     "text": [
      "                                                          \r"
     ]
    },
    {
     "name": "stdout",
     "output_type": "stream",
     "text": [
      "Epoch 92/150 validation: val_loss=1.45243, val_acc=81.20690%\n"
     ]
    },
    {
     "name": "stderr",
     "output_type": "stream",
     "text": [
      "                                                             \r"
     ]
    },
    {
     "name": "stdout",
     "output_type": "stream",
     "text": [
      "Epoch 93/150: Train Loss=1.41551, Train Accuracy=87.00148%\n"
     ]
    },
    {
     "name": "stderr",
     "output_type": "stream",
     "text": [
      "                                                          \r"
     ]
    },
    {
     "name": "stdout",
     "output_type": "stream",
     "text": [
      "Epoch 93/150 validation: val_loss=1.44839, val_acc=82.41379%\n"
     ]
    },
    {
     "name": "stderr",
     "output_type": "stream",
     "text": [
      "                                                             \r"
     ]
    },
    {
     "name": "stdout",
     "output_type": "stream",
     "text": [
      "Epoch 94/150: Train Loss=1.41433, Train Accuracy=87.03840%\n"
     ]
    },
    {
     "name": "stderr",
     "output_type": "stream",
     "text": [
      "                                                          \r"
     ]
    },
    {
     "name": "stdout",
     "output_type": "stream",
     "text": [
      "Epoch 94/150 validation: val_loss=1.44723, val_acc=82.93103%\n"
     ]
    },
    {
     "name": "stderr",
     "output_type": "stream",
     "text": [
      "                                                             \r"
     ]
    },
    {
     "name": "stdout",
     "output_type": "stream",
     "text": [
      "Epoch 95/150: Train Loss=1.42411, Train Accuracy=85.89365%\n"
     ]
    },
    {
     "name": "stderr",
     "output_type": "stream",
     "text": [
      "                                                          \r"
     ]
    },
    {
     "name": "stdout",
     "output_type": "stream",
     "text": [
      "Epoch 95/150 validation: val_loss=1.45812, val_acc=80.68966%\n"
     ]
    },
    {
     "name": "stderr",
     "output_type": "stream",
     "text": [
      "                                                             \r"
     ]
    },
    {
     "name": "stdout",
     "output_type": "stream",
     "text": [
      "Epoch 96/150: Train Loss=1.41997, Train Accuracy=86.63220%\n"
     ]
    },
    {
     "name": "stderr",
     "output_type": "stream",
     "text": [
      "                                                          \r"
     ]
    },
    {
     "name": "stdout",
     "output_type": "stream",
     "text": [
      "Epoch 96/150 validation: val_loss=1.45232, val_acc=82.93103%\n"
     ]
    },
    {
     "name": "stderr",
     "output_type": "stream",
     "text": [
      "                                                             \r"
     ]
    },
    {
     "name": "stdout",
     "output_type": "stream",
     "text": [
      "Epoch 97/150: Train Loss=1.41724, Train Accuracy=86.89069%\n"
     ]
    },
    {
     "name": "stderr",
     "output_type": "stream",
     "text": [
      "                                                          \r"
     ]
    },
    {
     "name": "stdout",
     "output_type": "stream",
     "text": [
      "Epoch 97/150 validation: val_loss=1.45891, val_acc=81.37931%\n"
     ]
    },
    {
     "name": "stderr",
     "output_type": "stream",
     "text": [
      "                                                             \r"
     ]
    },
    {
     "name": "stdout",
     "output_type": "stream",
     "text": [
      "Epoch 98/150: Train Loss=1.42117, Train Accuracy=86.18907%\n"
     ]
    },
    {
     "name": "stderr",
     "output_type": "stream",
     "text": [
      "                                                          \r"
     ]
    },
    {
     "name": "stdout",
     "output_type": "stream",
     "text": [
      "Epoch 98/150 validation: val_loss=1.45362, val_acc=82.24138%\n"
     ]
    },
    {
     "name": "stderr",
     "output_type": "stream",
     "text": [
      "                                                             \r"
     ]
    },
    {
     "name": "stdout",
     "output_type": "stream",
     "text": [
      "Epoch 99/150: Train Loss=1.41947, Train Accuracy=86.41064%\n"
     ]
    },
    {
     "name": "stderr",
     "output_type": "stream",
     "text": [
      "                                                          \r"
     ]
    },
    {
     "name": "stdout",
     "output_type": "stream",
     "text": [
      "Epoch 99/150 validation: val_loss=1.45672, val_acc=81.37931%\n"
     ]
    },
    {
     "name": "stderr",
     "output_type": "stream",
     "text": [
      "                                                              \r"
     ]
    },
    {
     "name": "stdout",
     "output_type": "stream",
     "text": [
      "Epoch 100/150: Train Loss=1.41244, Train Accuracy=86.92762%\n"
     ]
    },
    {
     "name": "stderr",
     "output_type": "stream",
     "text": [
      "                                                          \r"
     ]
    },
    {
     "name": "stdout",
     "output_type": "stream",
     "text": [
      "Epoch 100/150 validation: val_loss=1.45551, val_acc=81.89655%\n"
     ]
    },
    {
     "name": "stderr",
     "output_type": "stream",
     "text": [
      "                                                              \r"
     ]
    },
    {
     "name": "stdout",
     "output_type": "stream",
     "text": [
      "Epoch 101/150: Train Loss=1.41573, Train Accuracy=86.89069%\n"
     ]
    },
    {
     "name": "stderr",
     "output_type": "stream",
     "text": [
      "                                                          \r"
     ]
    },
    {
     "name": "stdout",
     "output_type": "stream",
     "text": [
      "Epoch 101/150 validation: val_loss=1.45272, val_acc=81.72414%\n"
     ]
    },
    {
     "name": "stderr",
     "output_type": "stream",
     "text": [
      "                                                              \r"
     ]
    },
    {
     "name": "stdout",
     "output_type": "stream",
     "text": [
      "Epoch 102/150: Train Loss=1.42378, Train Accuracy=85.89365%\n"
     ]
    },
    {
     "name": "stderr",
     "output_type": "stream",
     "text": [
      "                                                          \r"
     ]
    },
    {
     "name": "stdout",
     "output_type": "stream",
     "text": [
      "Epoch 102/150 validation: val_loss=1.46033, val_acc=81.37931%\n"
     ]
    },
    {
     "name": "stderr",
     "output_type": "stream",
     "text": [
      "                                                              \r"
     ]
    },
    {
     "name": "stdout",
     "output_type": "stream",
     "text": [
      "Epoch 103/150: Train Loss=1.40850, Train Accuracy=87.74003%\n"
     ]
    },
    {
     "name": "stderr",
     "output_type": "stream",
     "text": [
      "                                                          \r"
     ]
    },
    {
     "name": "stdout",
     "output_type": "stream",
     "text": [
      "Epoch 103/150 validation: val_loss=1.44758, val_acc=82.93103%\n"
     ]
    },
    {
     "name": "stderr",
     "output_type": "stream",
     "text": [
      "                                                              \r"
     ]
    },
    {
     "name": "stdout",
     "output_type": "stream",
     "text": [
      "Epoch 104/150: Train Loss=1.41438, Train Accuracy=86.81684%\n"
     ]
    },
    {
     "name": "stderr",
     "output_type": "stream",
     "text": [
      "                                                          \r"
     ]
    },
    {
     "name": "stdout",
     "output_type": "stream",
     "text": [
      "Epoch 104/150 validation: val_loss=1.44632, val_acc=82.41379%\n"
     ]
    },
    {
     "name": "stderr",
     "output_type": "stream",
     "text": [
      "                                                              \r"
     ]
    },
    {
     "name": "stdout",
     "output_type": "stream",
     "text": [
      "Epoch 105/150: Train Loss=1.41552, Train Accuracy=86.74298%\n"
     ]
    },
    {
     "name": "stderr",
     "output_type": "stream",
     "text": [
      "                                                          \r"
     ]
    },
    {
     "name": "stdout",
     "output_type": "stream",
     "text": [
      "Epoch 105/150 validation: val_loss=1.45617, val_acc=81.55172%\n"
     ]
    },
    {
     "name": "stderr",
     "output_type": "stream",
     "text": [
      "                                                              \r"
     ]
    },
    {
     "name": "stdout",
     "output_type": "stream",
     "text": [
      "Epoch 106/150: Train Loss=1.41375, Train Accuracy=87.18612%\n"
     ]
    },
    {
     "name": "stderr",
     "output_type": "stream",
     "text": [
      "                                                          \r"
     ]
    },
    {
     "name": "stdout",
     "output_type": "stream",
     "text": [
      "Epoch 106/150 validation: val_loss=1.45034, val_acc=82.75862%\n"
     ]
    },
    {
     "name": "stderr",
     "output_type": "stream",
     "text": [
      "                                                              \r"
     ]
    },
    {
     "name": "stdout",
     "output_type": "stream",
     "text": [
      "Epoch 107/150: Train Loss=1.41817, Train Accuracy=86.70606%\n"
     ]
    },
    {
     "name": "stderr",
     "output_type": "stream",
     "text": [
      "                                                          \r"
     ]
    },
    {
     "name": "stdout",
     "output_type": "stream",
     "text": [
      "Epoch 107/150 validation: val_loss=1.46611, val_acc=81.37931%\n"
     ]
    },
    {
     "name": "stderr",
     "output_type": "stream",
     "text": [
      "                                                              \r"
     ]
    },
    {
     "name": "stdout",
     "output_type": "stream",
     "text": [
      "Epoch 108/150: Train Loss=1.41263, Train Accuracy=87.51846%\n"
     ]
    },
    {
     "name": "stderr",
     "output_type": "stream",
     "text": [
      "                                                          \r"
     ]
    },
    {
     "name": "stdout",
     "output_type": "stream",
     "text": [
      "Epoch 108/150 validation: val_loss=1.47158, val_acc=80.68966%\n"
     ]
    },
    {
     "name": "stderr",
     "output_type": "stream",
     "text": [
      "                                                              \r"
     ]
    },
    {
     "name": "stdout",
     "output_type": "stream",
     "text": [
      "Epoch 109/150: Train Loss=1.42473, Train Accuracy=86.11521%\n"
     ]
    },
    {
     "name": "stderr",
     "output_type": "stream",
     "text": [
      "                                                          \r"
     ]
    },
    {
     "name": "stdout",
     "output_type": "stream",
     "text": [
      "Epoch 109/150 validation: val_loss=1.46042, val_acc=81.03448%\n"
     ]
    },
    {
     "name": "stderr",
     "output_type": "stream",
     "text": [
      "                                                              \r"
     ]
    },
    {
     "name": "stdout",
     "output_type": "stream",
     "text": [
      "Epoch 110/150: Train Loss=1.41114, Train Accuracy=87.29690%\n"
     ]
    },
    {
     "name": "stderr",
     "output_type": "stream",
     "text": [
      "                                                          \r"
     ]
    },
    {
     "name": "stdout",
     "output_type": "stream",
     "text": [
      "Epoch 110/150 validation: val_loss=1.45644, val_acc=81.72414%\n"
     ]
    },
    {
     "name": "stderr",
     "output_type": "stream",
     "text": [
      "                                                              \r"
     ]
    },
    {
     "name": "stdout",
     "output_type": "stream",
     "text": [
      "Epoch 111/150: Train Loss=1.40718, Train Accuracy=87.70310%\n"
     ]
    },
    {
     "name": "stderr",
     "output_type": "stream",
     "text": [
      "                                                          \r"
     ]
    },
    {
     "name": "stdout",
     "output_type": "stream",
     "text": [
      "Epoch 111/150 validation: val_loss=1.45654, val_acc=82.06897%\n"
     ]
    },
    {
     "name": "stderr",
     "output_type": "stream",
     "text": [
      "                                                              \r"
     ]
    },
    {
     "name": "stdout",
     "output_type": "stream",
     "text": [
      "Epoch 112/150: Train Loss=1.40960, Train Accuracy=87.22304%\n"
     ]
    },
    {
     "name": "stderr",
     "output_type": "stream",
     "text": [
      "                                                          \r"
     ]
    },
    {
     "name": "stdout",
     "output_type": "stream",
     "text": [
      "Epoch 112/150 validation: val_loss=1.45387, val_acc=81.55172%\n"
     ]
    },
    {
     "name": "stderr",
     "output_type": "stream",
     "text": [
      "                                                              \r"
     ]
    },
    {
     "name": "stdout",
     "output_type": "stream",
     "text": [
      "Epoch 113/150: Train Loss=1.40943, Train Accuracy=87.37075%\n"
     ]
    },
    {
     "name": "stderr",
     "output_type": "stream",
     "text": [
      "                                                          \r"
     ]
    },
    {
     "name": "stdout",
     "output_type": "stream",
     "text": [
      "Epoch 113/150 validation: val_loss=1.45037, val_acc=82.06897%\n"
     ]
    },
    {
     "name": "stderr",
     "output_type": "stream",
     "text": [
      "                                                              \r"
     ]
    },
    {
     "name": "stdout",
     "output_type": "stream",
     "text": [
      "Epoch 114/150: Train Loss=1.41153, Train Accuracy=87.00148%\n"
     ]
    },
    {
     "name": "stderr",
     "output_type": "stream",
     "text": [
      "                                                          \r"
     ]
    },
    {
     "name": "stdout",
     "output_type": "stream",
     "text": [
      "Epoch 114/150 validation: val_loss=1.44580, val_acc=82.41379%\n"
     ]
    },
    {
     "name": "stderr",
     "output_type": "stream",
     "text": [
      "                                                              \r"
     ]
    },
    {
     "name": "stdout",
     "output_type": "stream",
     "text": [
      "Epoch 115/150: Train Loss=1.41363, Train Accuracy=86.74298%\n"
     ]
    },
    {
     "name": "stderr",
     "output_type": "stream",
     "text": [
      "                                                          \r"
     ]
    },
    {
     "name": "stdout",
     "output_type": "stream",
     "text": [
      "Epoch 115/150 validation: val_loss=1.45652, val_acc=81.55172%\n"
     ]
    },
    {
     "name": "stderr",
     "output_type": "stream",
     "text": [
      "                                                              \r"
     ]
    },
    {
     "name": "stdout",
     "output_type": "stream",
     "text": [
      "Epoch 116/150: Train Loss=1.41312, Train Accuracy=86.96455%\n"
     ]
    },
    {
     "name": "stderr",
     "output_type": "stream",
     "text": [
      "                                                          \r"
     ]
    },
    {
     "name": "stdout",
     "output_type": "stream",
     "text": [
      "Epoch 116/150 validation: val_loss=1.45103, val_acc=82.24138%\n"
     ]
    },
    {
     "name": "stderr",
     "output_type": "stream",
     "text": [
      "                                                              \r"
     ]
    },
    {
     "name": "stdout",
     "output_type": "stream",
     "text": [
      "Epoch 117/150: Train Loss=1.40914, Train Accuracy=87.11226%\n"
     ]
    },
    {
     "name": "stderr",
     "output_type": "stream",
     "text": [
      "                                                          \r"
     ]
    },
    {
     "name": "stdout",
     "output_type": "stream",
     "text": [
      "Epoch 117/150 validation: val_loss=1.45091, val_acc=81.72414%\n"
     ]
    },
    {
     "name": "stderr",
     "output_type": "stream",
     "text": [
      "                                                              \r"
     ]
    },
    {
     "name": "stdout",
     "output_type": "stream",
     "text": [
      "Epoch 118/150: Train Loss=1.40710, Train Accuracy=87.74003%\n"
     ]
    },
    {
     "name": "stderr",
     "output_type": "stream",
     "text": [
      "                                                          \r"
     ]
    },
    {
     "name": "stdout",
     "output_type": "stream",
     "text": [
      "Epoch 118/150 validation: val_loss=1.45359, val_acc=81.72414%\n"
     ]
    },
    {
     "name": "stderr",
     "output_type": "stream",
     "text": [
      "                                                              \r"
     ]
    },
    {
     "name": "stdout",
     "output_type": "stream",
     "text": [
      "Epoch 119/150: Train Loss=1.40786, Train Accuracy=87.62925%\n"
     ]
    },
    {
     "name": "stderr",
     "output_type": "stream",
     "text": [
      "                                                          \r"
     ]
    },
    {
     "name": "stdout",
     "output_type": "stream",
     "text": [
      "Epoch 119/150 validation: val_loss=1.45558, val_acc=81.89655%\n"
     ]
    },
    {
     "name": "stderr",
     "output_type": "stream",
     "text": [
      "                                                              \r"
     ]
    },
    {
     "name": "stdout",
     "output_type": "stream",
     "text": [
      "Epoch 120/150: Train Loss=1.40335, Train Accuracy=88.29394%\n"
     ]
    },
    {
     "name": "stderr",
     "output_type": "stream",
     "text": [
      "                                                          \r"
     ]
    },
    {
     "name": "stdout",
     "output_type": "stream",
     "text": [
      "Epoch 120/150 validation: val_loss=1.44571, val_acc=83.27586%\n"
     ]
    },
    {
     "name": "stderr",
     "output_type": "stream",
     "text": [
      "                                                              \r"
     ]
    },
    {
     "name": "stdout",
     "output_type": "stream",
     "text": [
      "Epoch 121/150: Train Loss=1.40563, Train Accuracy=87.74003%\n"
     ]
    },
    {
     "name": "stderr",
     "output_type": "stream",
     "text": [
      "                                                          \r"
     ]
    },
    {
     "name": "stdout",
     "output_type": "stream",
     "text": [
      "Epoch 121/150 validation: val_loss=1.45590, val_acc=82.06897%\n"
     ]
    },
    {
     "name": "stderr",
     "output_type": "stream",
     "text": [
      "                                                              \r"
     ]
    },
    {
     "name": "stdout",
     "output_type": "stream",
     "text": [
      "Epoch 122/150: Train Loss=1.40126, Train Accuracy=87.88774%\n"
     ]
    },
    {
     "name": "stderr",
     "output_type": "stream",
     "text": [
      "                                                          \r"
     ]
    },
    {
     "name": "stdout",
     "output_type": "stream",
     "text": [
      "Epoch 122/150 validation: val_loss=1.45665, val_acc=81.72414%\n"
     ]
    },
    {
     "name": "stderr",
     "output_type": "stream",
     "text": [
      "                                                              \r"
     ]
    },
    {
     "name": "stdout",
     "output_type": "stream",
     "text": [
      "Epoch 123/150: Train Loss=1.40315, Train Accuracy=88.03545%\n"
     ]
    },
    {
     "name": "stderr",
     "output_type": "stream",
     "text": [
      "                                                          \r"
     ]
    },
    {
     "name": "stdout",
     "output_type": "stream",
     "text": [
      "Epoch 123/150 validation: val_loss=1.45549, val_acc=81.72414%\n"
     ]
    },
    {
     "name": "stderr",
     "output_type": "stream",
     "text": [
      "                                                              \r"
     ]
    },
    {
     "name": "stdout",
     "output_type": "stream",
     "text": [
      "Epoch 124/150: Train Loss=1.40152, Train Accuracy=87.85081%\n"
     ]
    },
    {
     "name": "stderr",
     "output_type": "stream",
     "text": [
      "                                                          \r"
     ]
    },
    {
     "name": "stdout",
     "output_type": "stream",
     "text": [
      "Epoch 124/150 validation: val_loss=1.45946, val_acc=80.86207%\n"
     ]
    },
    {
     "name": "stderr",
     "output_type": "stream",
     "text": [
      "                                                              \r"
     ]
    },
    {
     "name": "stdout",
     "output_type": "stream",
     "text": [
      "Epoch 125/150: Train Loss=1.40428, Train Accuracy=87.77696%\n"
     ]
    },
    {
     "name": "stderr",
     "output_type": "stream",
     "text": [
      "                                                          \r"
     ]
    },
    {
     "name": "stdout",
     "output_type": "stream",
     "text": [
      "Epoch 125/150 validation: val_loss=1.45842, val_acc=81.20690%\n"
     ]
    },
    {
     "name": "stderr",
     "output_type": "stream",
     "text": [
      "                                                              \r"
     ]
    },
    {
     "name": "stdout",
     "output_type": "stream",
     "text": [
      "Epoch 126/150: Train Loss=1.39664, Train Accuracy=88.44165%\n"
     ]
    },
    {
     "name": "stderr",
     "output_type": "stream",
     "text": [
      "                                                          \r"
     ]
    },
    {
     "name": "stdout",
     "output_type": "stream",
     "text": [
      "Epoch 126/150 validation: val_loss=1.45529, val_acc=82.06897%\n"
     ]
    },
    {
     "name": "stderr",
     "output_type": "stream",
     "text": [
      "                                                              \r"
     ]
    },
    {
     "name": "stdout",
     "output_type": "stream",
     "text": [
      "Epoch 127/150: Train Loss=1.40837, Train Accuracy=86.92762%\n"
     ]
    },
    {
     "name": "stderr",
     "output_type": "stream",
     "text": [
      "                                                          \r"
     ]
    },
    {
     "name": "stdout",
     "output_type": "stream",
     "text": [
      "Epoch 127/150 validation: val_loss=1.44841, val_acc=81.89655%\n"
     ]
    },
    {
     "name": "stderr",
     "output_type": "stream",
     "text": [
      "                                                              \r"
     ]
    },
    {
     "name": "stdout",
     "output_type": "stream",
     "text": [
      "Epoch 128/150: Train Loss=1.40150, Train Accuracy=87.85081%\n"
     ]
    },
    {
     "name": "stderr",
     "output_type": "stream",
     "text": [
      "                                                          \r"
     ]
    },
    {
     "name": "stdout",
     "output_type": "stream",
     "text": [
      "Epoch 128/150 validation: val_loss=1.45671, val_acc=81.72414%\n"
     ]
    },
    {
     "name": "stderr",
     "output_type": "stream",
     "text": [
      "                                                              \r"
     ]
    },
    {
     "name": "stdout",
     "output_type": "stream",
     "text": [
      "Epoch 129/150: Train Loss=1.40448, Train Accuracy=87.55539%\n"
     ]
    },
    {
     "name": "stderr",
     "output_type": "stream",
     "text": [
      "                                                          \r"
     ]
    },
    {
     "name": "stdout",
     "output_type": "stream",
     "text": [
      "Epoch 129/150 validation: val_loss=1.47624, val_acc=79.82759%\n"
     ]
    },
    {
     "name": "stderr",
     "output_type": "stream",
     "text": [
      "                                                              \r"
     ]
    },
    {
     "name": "stdout",
     "output_type": "stream",
     "text": [
      "Epoch 130/150: Train Loss=1.39874, Train Accuracy=88.33087%\n"
     ]
    },
    {
     "name": "stderr",
     "output_type": "stream",
     "text": [
      "                                                          \r"
     ]
    },
    {
     "name": "stdout",
     "output_type": "stream",
     "text": [
      "Epoch 130/150 validation: val_loss=1.45625, val_acc=81.20690%\n"
     ]
    },
    {
     "name": "stderr",
     "output_type": "stream",
     "text": [
      "                                                              \r"
     ]
    },
    {
     "name": "stdout",
     "output_type": "stream",
     "text": [
      "Epoch 131/150: Train Loss=1.40379, Train Accuracy=88.07238%\n"
     ]
    },
    {
     "name": "stderr",
     "output_type": "stream",
     "text": [
      "                                                          \r"
     ]
    },
    {
     "name": "stdout",
     "output_type": "stream",
     "text": [
      "Epoch 131/150 validation: val_loss=1.45501, val_acc=81.03448%\n"
     ]
    },
    {
     "name": "stderr",
     "output_type": "stream",
     "text": [
      "                                                              \r"
     ]
    },
    {
     "name": "stdout",
     "output_type": "stream",
     "text": [
      "Epoch 132/150: Train Loss=1.40088, Train Accuracy=87.70310%\n"
     ]
    },
    {
     "name": "stderr",
     "output_type": "stream",
     "text": [
      "                                                          \r"
     ]
    },
    {
     "name": "stdout",
     "output_type": "stream",
     "text": [
      "Epoch 132/150 validation: val_loss=1.45925, val_acc=80.86207%\n"
     ]
    },
    {
     "name": "stderr",
     "output_type": "stream",
     "text": [
      "                                                              \r"
     ]
    },
    {
     "name": "stdout",
     "output_type": "stream",
     "text": [
      "Epoch 133/150: Train Loss=1.39756, Train Accuracy=88.40473%\n"
     ]
    },
    {
     "name": "stderr",
     "output_type": "stream",
     "text": [
      "                                                          \r"
     ]
    },
    {
     "name": "stdout",
     "output_type": "stream",
     "text": [
      "Epoch 133/150 validation: val_loss=1.45373, val_acc=82.06897%\n"
     ]
    },
    {
     "name": "stderr",
     "output_type": "stream",
     "text": [
      "                                                              \r"
     ]
    },
    {
     "name": "stdout",
     "output_type": "stream",
     "text": [
      "Epoch 134/150: Train Loss=1.40128, Train Accuracy=88.22009%\n"
     ]
    },
    {
     "name": "stderr",
     "output_type": "stream",
     "text": [
      "                                                          \r"
     ]
    },
    {
     "name": "stdout",
     "output_type": "stream",
     "text": [
      "Epoch 134/150 validation: val_loss=1.45003, val_acc=82.06897%\n"
     ]
    },
    {
     "name": "stderr",
     "output_type": "stream",
     "text": [
      "                                                              \r"
     ]
    },
    {
     "name": "stdout",
     "output_type": "stream",
     "text": [
      "Epoch 135/150: Train Loss=1.39943, Train Accuracy=88.33087%\n"
     ]
    },
    {
     "name": "stderr",
     "output_type": "stream",
     "text": [
      "                                                          \r"
     ]
    },
    {
     "name": "stdout",
     "output_type": "stream",
     "text": [
      "Epoch 135/150 validation: val_loss=1.44752, val_acc=82.58621%\n"
     ]
    },
    {
     "name": "stderr",
     "output_type": "stream",
     "text": [
      "                                                              \r"
     ]
    },
    {
     "name": "stdout",
     "output_type": "stream",
     "text": [
      "Epoch 136/150: Train Loss=1.40069, Train Accuracy=88.03545%\n"
     ]
    },
    {
     "name": "stderr",
     "output_type": "stream",
     "text": [
      "                                                          \r"
     ]
    },
    {
     "name": "stdout",
     "output_type": "stream",
     "text": [
      "Epoch 136/150 validation: val_loss=1.45780, val_acc=81.37931%\n"
     ]
    },
    {
     "name": "stderr",
     "output_type": "stream",
     "text": [
      "                                                              \r"
     ]
    },
    {
     "name": "stdout",
     "output_type": "stream",
     "text": [
      "Epoch 137/150: Train Loss=1.39900, Train Accuracy=88.07238%\n"
     ]
    },
    {
     "name": "stderr",
     "output_type": "stream",
     "text": [
      "                                                          \r"
     ]
    },
    {
     "name": "stdout",
     "output_type": "stream",
     "text": [
      "Epoch 137/150 validation: val_loss=1.45023, val_acc=82.75862%\n"
     ]
    },
    {
     "name": "stderr",
     "output_type": "stream",
     "text": [
      "                                                              \r"
     ]
    },
    {
     "name": "stdout",
     "output_type": "stream",
     "text": [
      "Epoch 138/150: Train Loss=1.39955, Train Accuracy=87.99852%\n"
     ]
    },
    {
     "name": "stderr",
     "output_type": "stream",
     "text": [
      "                                                          \r"
     ]
    },
    {
     "name": "stdout",
     "output_type": "stream",
     "text": [
      "Epoch 138/150 validation: val_loss=1.45511, val_acc=81.55172%\n"
     ]
    },
    {
     "name": "stderr",
     "output_type": "stream",
     "text": [
      "                                                              \r"
     ]
    },
    {
     "name": "stdout",
     "output_type": "stream",
     "text": [
      "Epoch 139/150: Train Loss=1.40156, Train Accuracy=88.29394%\n"
     ]
    },
    {
     "name": "stderr",
     "output_type": "stream",
     "text": [
      "                                                          \r"
     ]
    },
    {
     "name": "stdout",
     "output_type": "stream",
     "text": [
      "Epoch 139/150 validation: val_loss=1.44805, val_acc=83.10345%\n"
     ]
    },
    {
     "name": "stderr",
     "output_type": "stream",
     "text": [
      "                                                              \r"
     ]
    },
    {
     "name": "stdout",
     "output_type": "stream",
     "text": [
      "Epoch 140/150: Train Loss=1.39110, Train Accuracy=88.95864%\n"
     ]
    },
    {
     "name": "stderr",
     "output_type": "stream",
     "text": [
      "                                                          \r"
     ]
    },
    {
     "name": "stdout",
     "output_type": "stream",
     "text": [
      "Epoch 140/150 validation: val_loss=1.45622, val_acc=80.86207%\n"
     ]
    },
    {
     "name": "stderr",
     "output_type": "stream",
     "text": [
      "                                                              \r"
     ]
    },
    {
     "name": "stdout",
     "output_type": "stream",
     "text": [
      "Epoch 141/150: Train Loss=1.40126, Train Accuracy=87.66617%\n"
     ]
    },
    {
     "name": "stderr",
     "output_type": "stream",
     "text": [
      "                                                          \r"
     ]
    },
    {
     "name": "stdout",
     "output_type": "stream",
     "text": [
      "Epoch 141/150 validation: val_loss=1.45713, val_acc=81.72414%\n"
     ]
    },
    {
     "name": "stderr",
     "output_type": "stream",
     "text": [
      "                                                              \r"
     ]
    },
    {
     "name": "stdout",
     "output_type": "stream",
     "text": [
      "Epoch 142/150: Train Loss=1.39760, Train Accuracy=88.40473%\n"
     ]
    },
    {
     "name": "stderr",
     "output_type": "stream",
     "text": [
      "                                                          \r"
     ]
    },
    {
     "name": "stdout",
     "output_type": "stream",
     "text": [
      "Epoch 142/150 validation: val_loss=1.45821, val_acc=81.55172%\n"
     ]
    },
    {
     "name": "stderr",
     "output_type": "stream",
     "text": [
      "                                                              \r"
     ]
    },
    {
     "name": "stdout",
     "output_type": "stream",
     "text": [
      "Epoch 143/150: Train Loss=1.40293, Train Accuracy=88.03545%\n"
     ]
    },
    {
     "name": "stderr",
     "output_type": "stream",
     "text": [
      "                                                          \r"
     ]
    },
    {
     "name": "stdout",
     "output_type": "stream",
     "text": [
      "Epoch 143/150 validation: val_loss=1.46037, val_acc=81.20690%\n"
     ]
    },
    {
     "name": "stderr",
     "output_type": "stream",
     "text": [
      "                                                              \r"
     ]
    },
    {
     "name": "stdout",
     "output_type": "stream",
     "text": [
      "Epoch 144/150: Train Loss=1.39491, Train Accuracy=88.44165%\n"
     ]
    },
    {
     "name": "stderr",
     "output_type": "stream",
     "text": [
      "                                                          \r"
     ]
    },
    {
     "name": "stdout",
     "output_type": "stream",
     "text": [
      "Epoch 144/150 validation: val_loss=1.45867, val_acc=81.89655%\n"
     ]
    },
    {
     "name": "stderr",
     "output_type": "stream",
     "text": [
      "                                                              \r"
     ]
    },
    {
     "name": "stdout",
     "output_type": "stream",
     "text": [
      "Epoch 145/150: Train Loss=1.39834, Train Accuracy=88.44165%\n"
     ]
    },
    {
     "name": "stderr",
     "output_type": "stream",
     "text": [
      "                                                          \r"
     ]
    },
    {
     "name": "stdout",
     "output_type": "stream",
     "text": [
      "Epoch 145/150 validation: val_loss=1.45617, val_acc=81.55172%\n"
     ]
    },
    {
     "name": "stderr",
     "output_type": "stream",
     "text": [
      "                                                              \r"
     ]
    },
    {
     "name": "stdout",
     "output_type": "stream",
     "text": [
      "Epoch 146/150: Train Loss=1.39659, Train Accuracy=88.47858%\n"
     ]
    },
    {
     "name": "stderr",
     "output_type": "stream",
     "text": [
      "                                                          \r"
     ]
    },
    {
     "name": "stdout",
     "output_type": "stream",
     "text": [
      "Epoch 146/150 validation: val_loss=1.45732, val_acc=81.03448%\n"
     ]
    },
    {
     "name": "stderr",
     "output_type": "stream",
     "text": [
      "                                                              \r"
     ]
    },
    {
     "name": "stdout",
     "output_type": "stream",
     "text": [
      "Epoch 147/150: Train Loss=1.39174, Train Accuracy=89.18021%\n"
     ]
    },
    {
     "name": "stderr",
     "output_type": "stream",
     "text": [
      "                                                          \r"
     ]
    },
    {
     "name": "stdout",
     "output_type": "stream",
     "text": [
      "Epoch 147/150 validation: val_loss=1.46068, val_acc=80.51724%\n"
     ]
    },
    {
     "name": "stderr",
     "output_type": "stream",
     "text": [
      "                                                              \r"
     ]
    },
    {
     "name": "stdout",
     "output_type": "stream",
     "text": [
      "Epoch 148/150: Train Loss=1.39362, Train Accuracy=88.81093%\n"
     ]
    },
    {
     "name": "stderr",
     "output_type": "stream",
     "text": [
      "                                                          \r"
     ]
    },
    {
     "name": "stdout",
     "output_type": "stream",
     "text": [
      "Epoch 148/150 validation: val_loss=1.45288, val_acc=81.55172%\n"
     ]
    },
    {
     "name": "stderr",
     "output_type": "stream",
     "text": [
      "                                                              \r"
     ]
    },
    {
     "name": "stdout",
     "output_type": "stream",
     "text": [
      "Epoch 149/150: Train Loss=1.39414, Train Accuracy=88.88479%\n"
     ]
    },
    {
     "name": "stderr",
     "output_type": "stream",
     "text": [
      "                                                          \r"
     ]
    },
    {
     "name": "stdout",
     "output_type": "stream",
     "text": [
      "Epoch 149/150 validation: val_loss=1.46093, val_acc=81.03448%\n"
     ]
    },
    {
     "name": "stderr",
     "output_type": "stream",
     "text": [
      "                                                              \r"
     ]
    },
    {
     "name": "stdout",
     "output_type": "stream",
     "text": [
      "Epoch 150/150: Train Loss=1.38559, Train Accuracy=89.69719%\n"
     ]
    },
    {
     "name": "stderr",
     "output_type": "stream",
     "text": [
      "                                                          \r"
     ]
    },
    {
     "name": "stdout",
     "output_type": "stream",
     "text": [
      "Epoch 150/150 validation: val_loss=1.44591, val_acc=82.58621%\n",
      "Cache file not found. Computing features from scratch and saving to cache file: test_features.pkl\n",
      "Cache file not found. Computing data from scratch and saving to cache file: test.pkl\n"
     ]
    },
    {
     "name": "stderr",
     "output_type": "stream",
     "text": [
      "                                                       \r"
     ]
    },
    {
     "name": "stdout",
     "output_type": "stream",
     "text": [
      "Test Accuracy: 82.96041%\n"
     ]
    }
   ],
   "source": [
    "import torch\n",
    "import torch.nn as nn\n",
    "import torch.optim as optim\n",
    "import torch.nn.functional as F\n",
    "from tqdm import tqdm\n",
    "\n",
    "writer = SummaryWriter('logs/')\n",
    "if(option == 3):\n",
    "    l = 0.0001\n",
    "    # Lists to store accuracy and loss values\n",
    "    train_losses = []\n",
    "    train_accuracies = []\n",
    "    val_losses = []\n",
    "    val_accuracies = []\n",
    "\n",
    "    train_dataset = MaqamDataset(mode='train', cache_file = 'train.pkl')\n",
    "    val_dataset = MaqamDataset(mode='val', cache_file = 'val.pkl')\n",
    "    train_loader = DataLoader(train_dataset, batch_size=batch_size, shuffle=True)\n",
    "    val_loader = DataLoader(val_dataset, batch_size=batch_size, shuffle=True)\n",
    "    print(\"_________________________________________________________\")\n",
    "    print(\"Learning rate = \", l)\n",
    "    device = torch.device(\"cuda:0\" if torch.cuda.is_available() else \"cpu\")\n",
    "    model = ANNModel2().to(device)\n",
    "    criterion = torch.nn.CrossEntropyLoss()\n",
    "    optimizer = torch.optim.Adam(model.parameters(), lr=l)\n",
    "\n",
    "    num_epochs = 150\n",
    "    patience = num_epochs\n",
    "    best_val_loss = float('inf')\n",
    "    best_model_state_dict = None\n",
    "    no_improvement_epochs = 0\n",
    "\n",
    "    print(\"Starting training\")\n",
    "    for epoch in range(num_epochs):\n",
    "        model.train()\n",
    "        # new_lr = (num_epochs-epoch)/(num_epochs*10000)\n",
    "        # for param_group in optimizer.param_groups:\n",
    "        #     param_group['lr'] = new_lr\n",
    "        running_loss = 0.0\n",
    "        correct_predictions = 0\n",
    "        total_samples = 0\n",
    "        writer.add_scalar('Learning Rate', optimizer.param_groups[0]['lr'], epoch)\n",
    "        for i, data in enumerate(tqdm(train_loader, desc=f'Epoch {epoch + 1}/{num_epochs}', leave=False)):\n",
    "            inputs, targets = data  # MFCCs and labels\n",
    "            targets = targets.to(device)\n",
    "            inputs = inputs.to(device)\n",
    "            optimizer.zero_grad()\n",
    "            outputs = model(inputs)\n",
    "            loss = criterion(outputs, targets)\n",
    "            loss.backward()\n",
    "            optimizer.step()\n",
    "\n",
    "            running_loss += loss.item()\n",
    "            _, predicted_labels = torch.max(outputs, 1)\n",
    "            correct_predictions += (predicted_labels == targets).sum().item()\n",
    "            total_samples += len(targets)\n",
    "\n",
    "        avg_loss = running_loss / len(train_loader)\n",
    "        avg_accuracy = 100 * correct_predictions / total_samples\n",
    "        train_losses.append(avg_loss)\n",
    "        train_accuracies.append(avg_accuracy)\n",
    "\n",
    "        # Log training loss and accuracy\n",
    "        writer.add_scalar('Train Loss', avg_loss, epoch)\n",
    "        writer.add_scalar('Train Accuracy', avg_accuracy, epoch)\n",
    "\n",
    "        print(f'Epoch {epoch + 1}/{num_epochs}: Train Loss={avg_loss:.5f}, Train Accuracy={avg_accuracy:.5f}%')\n",
    "\n",
    "        model.eval()\n",
    "        val_loss = 0.0\n",
    "        total_correct = 0\n",
    "        total_samples = 0\n",
    "\n",
    "        with torch.no_grad():\n",
    "            for data in tqdm(val_loader, desc='Validation', leave=False):\n",
    "                inputs, targets = data  # MFCCs and labels\n",
    "                targets = targets.to(device)\n",
    "                inputs = inputs.to(device)\n",
    "                outputs = model(inputs)\n",
    "                val_loss += criterion(outputs, targets).item() * len(targets)\n",
    "\n",
    "                _, predicted_labels = torch.max(outputs, 1)\n",
    "                total_correct += (predicted_labels == targets).sum().item()\n",
    "                total_samples += len(targets)\n",
    "\n",
    "        val_loss /= len(val_dataset)\n",
    "        val_acc = 100 * total_correct / total_samples\n",
    "        val_losses.append(val_loss)\n",
    "        val_accuracies.append(val_acc)\n",
    "        print(f'Epoch {epoch + 1}/{num_epochs} validation: val_loss={val_loss:.5f}, val_acc={val_acc:.5f}%')\n",
    "        # Log validation loss and accuracy\n",
    "        writer.add_scalar('Validation Loss', val_loss, epoch)\n",
    "        writer.add_scalar('Validation Accuracy', val_acc, epoch)\n",
    "        if val_loss < best_val_loss:\n",
    "            best_val_loss = val_loss\n",
    "            best_model_state_dict = model.state_dict()\n",
    "            no_improvement_epochs = 0\n",
    "        else:\n",
    "            no_improvement_epochs += 1\n",
    "\n",
    "        if no_improvement_epochs >= patience:\n",
    "            print(\"Early stopping. No improvement in validation loss for {} epochs.\".format(patience))\n",
    "            break\n",
    "\n",
    "        for name, param in model.named_parameters():\n",
    "            writer.add_histogram(name, param, epoch)\n",
    "            \n",
    "    if best_model_state_dict is not None:\n",
    "        model.load_state_dict(best_model_state_dict)\n",
    "\n",
    "    # model3_path = \"ann71.pth\"\n",
    "    # model.load_state_dict(torch.load(model3_path))\n",
    "    # Test the model on the test dataset\n",
    "    test_dataset = MaqamDataset(mode='test', cache_file='test.pkl')\n",
    "    test_loader = DataLoader(test_dataset, batch_size=batch_size, shuffle=False)\n",
    "\n",
    "    model.eval()\n",
    "    total_correct = 0\n",
    "    total_samples = 0\n",
    "\n",
    "    with torch.no_grad():\n",
    "        for data in tqdm(test_loader, desc='Testing', leave=False):\n",
    "            inputs, targets = data\n",
    "            targets = targets.to(device)\n",
    "            inputs = inputs.to(device)\n",
    "            outputs = model(inputs)\n",
    "\n",
    "            _, predicted_labels = torch.max(outputs, 1)\n",
    "            total_correct += (predicted_labels == targets).sum().item()\n",
    "            total_samples += len(targets)\n",
    "\n",
    "    test_acc = 100 * total_correct / total_samples\n",
    "    print(f'Test Accuracy: {test_acc:.5f}%')\n",
    "    writer.close()\n",
    "    # Save the trained model\n",
    "    torch.save(model.state_dict(), 'ANN.pth')\n",
    "\n",
    "    plt.figure()\n",
    "    plt.plot(range(1, len(train_losses) + 1), train_losses, label='Train Loss')\n",
    "    plt.plot(range(1, len(val_losses) + 1), val_losses, label='Validation Loss')\n",
    "    plt.xlabel('Epoch')\n",
    "    plt.ylabel('Loss')\n",
    "    plt.legend()\n",
    "    plt.title(f'Learning Rate: {l}')\n",
    "    plt.savefig(f'ANN loss_plot_lr_{l}.png')\n",
    "    plt.close()\n",
    "\n",
    "    plt.figure()\n",
    "    plt.plot(range(1, len(train_accuracies) + 1), train_accuracies, label='Train Accuracy')\n",
    "    plt.plot(range(1, len(val_accuracies) + 1), val_accuracies, label='Validation Accuracy')\n",
    "    plt.xlabel('Epoch')\n",
    "    plt.ylabel('Accuracy')\n",
    "    plt.legend()\n",
    "    plt.title(f'Learning Rate: {l}')\n",
    "    plt.savefig(f'ANN accuracy_plot_lr_{l}.png')\n",
    "    plt.close()\n"
   ]
  },
  {
   "cell_type": "code",
   "execution_count": 14,
   "metadata": {},
   "outputs": [
    {
     "name": "stdout",
     "output_type": "stream",
     "text": [
      "Loading features from cache file: test_features.pkl\n",
      "Cache file not found. Computing data from scratch and saving to cache file: test2.pkl\n"
     ]
    },
    {
     "name": "stderr",
     "output_type": "stream",
     "text": [
      "                                                       "
     ]
    },
    {
     "name": "stdout",
     "output_type": "stream",
     "text": [
      "Test Accuracy: 82.96041%\n",
      "Accuracy by maqam:\n",
      "Ajam accurracy =  0.9259259259259259\n",
      "Bayat accurracy =  0.41509433962264153\n",
      "Hijaz accurracy =  0.925\n",
      "Kurd accurracy =  0.5098039215686274\n",
      "Nahawand accurracy =  0.8653846153846154\n",
      "Rast accurracy =  0.9753086419753086\n",
      "Saba accurracy =  0.8846153846153846\n",
      "Seka accurracy =  0.8461538461538461\n"
     ]
    },
    {
     "name": "stderr",
     "output_type": "stream",
     "text": [
      "\r"
     ]
    }
   ],
   "source": [
    "# path = \"/home/faisal/Desktop/best/ANN.pth\"\n",
    "# device = torch.device(\"cuda:0\" if torch.cuda.is_available() else \"cpu\")\n",
    "# model1 = ANNModel().to(device)\n",
    "# model1.load_state_dict(torch.load(path))\n",
    "# Test the model on the test dataset\n",
    "test_dataset = MaqamDataset(mode='test', cache_file='test2.pkl')\n",
    "test_loader = DataLoader(test_dataset, batch_size=batch_size, shuffle=False)\n",
    "\n",
    "model.eval()\n",
    "total_correct = 0\n",
    "total_samples = 0\n",
    "acc_by_maqam_idx = [0, 1, 2, 3, 4, 5, 6, 7]\n",
    "acc_by_maqam_ss = [0, 0, 0, 0, 0, 0, 0, 0]\n",
    "acc_by_maqam_cc = [0, 0, 0, 0, 0, 0, 0, 0]\n",
    "p = []\n",
    "t = []\n",
    "with torch.no_grad():\n",
    "    for data in tqdm(test_loader, desc='Testing', leave=False):\n",
    "        inputs, targets = data\n",
    "        targets = targets.to(device)\n",
    "        inputs = inputs.to(device)\n",
    "        outputs = model(inputs)\n",
    "\n",
    "        _, predicted_labels = torch.max(outputs, 1)\n",
    "        t += targets\n",
    "        p += predicted_labels\n",
    "        total_correct += (predicted_labels == targets).sum().item()\n",
    "        total_samples += len(targets)\n",
    "        for i in acc_by_maqam_idx:\n",
    "            ss = 0\n",
    "            cc = 0\n",
    "            a = [-1 if x != i else i for x in targets]\n",
    "            for counter in range(len(a)):\n",
    "                if a[counter] != -1:\n",
    "                    ss +=1\n",
    "                    if(a[counter]== predicted_labels[counter]):\n",
    "                        cc +=1\n",
    "            acc_by_maqam_ss[i] += ss\n",
    "            acc_by_maqam_cc[i] += cc\n",
    "\n",
    "\n",
    "test_acc = 100 * total_correct / total_samples\n",
    "print(f'Test Accuracy: {test_acc:.5f}%')\n",
    "\n",
    "classes = ['Ajam', 'Bayat', 'Hijaz', 'Kurd', 'Nahawand', 'Rast', 'Saba', 'Seka']\n",
    "print(f'Accuracy by maqam:')\n",
    "for i in range(8):\n",
    "    print(classes[i] + \" accurracy = \", acc_by_maqam_cc[i]/acc_by_maqam_ss[i])"
   ]
  },
  {
   "cell_type": "code",
   "execution_count": 20,
   "metadata": {},
   "outputs": [
    {
     "data": {
      "image/png": "[encoded data removed]",
      "text/plain": [
       "<Figure size 800x600 with 2 Axes>"
      ]
     },
     "metadata": {},
     "output_type": "display_data"
    },
    {
     "data": {
      "image/png": "[encoded data removed]",
      "text/plain": [
       "<Figure size 1000x800 with 2 Axes>"
      ]
     },
     "metadata": {},
     "output_type": "display_data"
    },
    {
     "name": "stdout",
     "output_type": "stream",
     "text": [
      "Option2\n"
     ]
    },
    {
     "data": {
      "image/png": "[encoded data removed]",
      "text/plain": [
       "<Figure size 1000x800 with 2 Axes>"
      ]
     },
     "metadata": {},
     "output_type": "display_data"
    }
   ],
   "source": [
    "import numpy as np\n",
    "from sklearn.metrics import confusion_matrix\n",
    "import matplotlib.pyplot as plt\n",
    "import seaborn as sns\n",
    "import pandas as pd\n",
    "\n",
    "option = 1\n",
    "combined_tensor = torch.stack(t)\n",
    "combined_tensor1 = torch.stack(p)\n",
    "true = combined_tensor.cpu()\n",
    "predicted = combined_tensor1.cpu()\n",
    "if option == 1:\n",
    "    # Assuming you have predictions and true labels from your model\n",
    "    # Replace predicted_labels and true_labels with your actual data\n",
    "\n",
    "    # Calculate the confusion matrix\n",
    "    cm = confusion_matrix(true, predicted)\n",
    "\n",
    "    # Create a pandas DataFrame to display the confusion matrix with class names\n",
    "    class_names = ['Ajam', 'Bayat', 'Hijaz',\n",
    "                    'Kurd', 'Nahawand', 'Rast', 'Saba', 'Seka']\n",
    "    cm_df = pd.DataFrame(cm, index=class_names, columns=class_names)\n",
    "\n",
    "    # Display the confusion matrix using seaborn heatmap\n",
    "    plt.figure(figsize=(8, 6))\n",
    "    sns.heatmap(cm_df, annot=True, fmt='d', cmap='Blues')\n",
    "    plt.xlabel('Predicted Class')\n",
    "    plt.ylabel('True Class')\n",
    "    plt.title('Confusion Matrix')\n",
    "\n",
    "    # Save the confusion matrix plot as a PNG image\n",
    "    plt.savefig('confusion_matrix.jpeg', format='jpeg')\n",
    "\n",
    "    # Show the plot (optional)\n",
    "    plt.show()\n",
    "\n",
    "    # Save the confusion matrix to a CSV file\n",
    "    cm_df.to_csv('confusion_matrix.csv')\n",
    "option=2\n",
    "if option == 2:\n",
    "\n",
    "    # Calculate the confusion matrix\n",
    "    cm = confusion_matrix(true, predicted)\n",
    "\n",
    "    # Calculate the probability representation of the confusion matrix\n",
    "    cm_probability = cm / cm.sum()\n",
    "\n",
    "    # Create a pandas DataFrame to display the confusion matrix with class names\n",
    "    class_names = ['Ajam', 'Bayat', 'Hijaz',\n",
    "                    'Kurd', 'Nahawand', 'Rast', 'Saba', 'Seka']\n",
    "    cm_df_probability = pd.DataFrame(\n",
    "        cm_probability, index=class_names, columns=class_names)\n",
    "\n",
    "    # Display the confusion matrix with probabilities using seaborn heatmap\n",
    "    plt.figure(figsize=(10, 8))\n",
    "    sns.heatmap(cm_df_probability, annot=True, fmt='.2f', cmap='Blues')\n",
    "    plt.xlabel('Predicted Class')\n",
    "    plt.ylabel('True Class')\n",
    "    plt.title('Confusion Matrix (Probability)')\n",
    "\n",
    "    # Save the confusion matrix plot as a PNG image\n",
    "    plt.savefig('confusion_matrix_probability.png', format='png')\n",
    "\n",
    "    # Show the plot (optional)\n",
    "    plt.show()\n",
    "    print(\"Option2\")\n",
    "option = 3\n",
    "if option==3:\n",
    "\n",
    "    # Assuming you have the true labels 'true' and predicted labels 'predicted'\n",
    "\n",
    "    # Calculate the confusion matrix\n",
    "    cm = confusion_matrix(true, predicted)\n",
    "\n",
    "    # Calculate the probability representation of the confusion matrix\n",
    "    cm_probability = cm.astype('float') / cm.sum(axis=1)[:, np.newaxis]\n",
    "\n",
    "    # Create a pandas DataFrame to display the confusion matrix with class names\n",
    "    class_names = ['Ajam', 'Bayat', 'Hijaz', 'Kurd', 'Nahawand', 'Rast', 'Saba', 'Seka']\n",
    "    cm_df_probability = pd.DataFrame(cm_probability, index=class_names, columns=class_names)\n",
    "\n",
    "    # Display the confusion matrix with probabilities using seaborn heatmap\n",
    "    plt.figure(figsize=(10, 8))\n",
    "    sns.heatmap(cm_df_probability, annot=True, fmt='.2f', cmap='Blues')\n",
    "    plt.xlabel('Predicted Class')\n",
    "    plt.ylabel('True Class')\n",
    "    plt.title('Confusion Matrix (Probability)')\n",
    "    # Save the confusion matrix plot as a PNG image\n",
    "    plt.savefig('confusion_matrix_probability.png', format='png')\n",
    "\n",
    "    # Show the plot (optional)\n",
    "    plt.show()"
   ]
  },
  {
   "cell_type": "code",
   "execution_count": 16,
   "metadata": {},
   "outputs": [],
   "source": [
    "import torch\n",
    "import torch.nn.functional as F\n",
    "from torch.utils.data import DataLoader\n",
    "if option == 4:\n",
    "    # Define your batch size and other parameters\n",
    "    batch_size = 32\n",
    "    # Add any other parameters you need for your models and test settings\n",
    "\n",
    "    # Load the test dataset\n",
    "    test_dataset = MaqamDataset(mode='test', cache_file='test.pkl')  # Replace with the correct parameters for your dataset\n",
    "    test_loader = DataLoader(test_dataset, batch_size=batch_size, shuffle=False, collate_fn=custom_collate)\n",
    "\n",
    "    # Load your models and their weights (assuming you have already defined and loaded them as shown in the previous examples)\n",
    "    model1 = MaqamCNN1().to(device)  # Replace YourModel with the actual model architecture of the first model\n",
    "    model2 = MFCC_LSTM2().to(device)  # Replace YourModel with the actual model architecture of the second model\n",
    "    model3 = ANNModel().to(device)  # Replace YourModel with the actual model architecture of the third model\n",
    "\n",
    "    model1_path = \"cnn78.pth\"\n",
    "    model2_path = \"lstm8359.pth\"\n",
    "    model3_path = \"ann1.pth\"\n",
    "\n",
    "    model1.load_state_dict(torch.load(model1_path))\n",
    "    model2.load_state_dict(torch.load(model2_path))\n",
    "    model3.load_state_dict(torch.load(model3_path))\n",
    "\n",
    "    # Set the models to evaluation mode\n",
    "    model1.eval()\n",
    "    model2.eval()\n",
    "    model3.eval()\n",
    "\n",
    "    # Define the weights for combining the models\n",
    "    weight1 = 0.33\n",
    "    weight2 = 0.33\n",
    "    weight3 = 0.34\n",
    "\n",
    "    # Prepare lists to store the final predictions and corresponding labels\n",
    "    all_predictions = []\n",
    "    all_labels = []\n",
    "\n",
    "    # Prepare lists to store the predictions and labels for each model independently\n",
    "    model1_predictions = []\n",
    "    model2_predictions = []\n",
    "    model3_predictions = []\n",
    "\n",
    "    # Loop through the test data\n",
    "    with torch.no_grad():\n",
    "        for inputs, labels in test_loader:\n",
    "            # Assuming inputs and labels are tensors, otherwise, convert them to tensors\n",
    "            inputs = inputs.to(device)  # Move data to the device (CPU or GPU)\n",
    "            labels = labels.to(device)\n",
    "\n",
    "            # Get the predictions from each model\n",
    "            predictions1 = model1(inputs)\n",
    "            predictions2 = model2(inputs)\n",
    "            predictions3 = model3(inputs)\n",
    "\n",
    "            # Save the predictions of each model for individual accuracy calculation\n",
    "            model1_predictions.extend(predictions1.argmax(dim=1).cpu().numpy())\n",
    "            model2_predictions.extend(predictions2.argmax(dim=1).cpu().numpy())\n",
    "            model3_predictions.extend(predictions3.argmax(dim=1).cpu().numpy())\n",
    "\n",
    "            # Combine the predictions using the specified weights\n",
    "            combined_predictions = weight1 * predictions1 + weight2 * predictions2 + weight3 * predictions3\n",
    "\n",
    "            # Apply softmax to get the probabilities\n",
    "            probabilities = F.softmax(combined_predictions, dim=1)\n",
    "\n",
    "            # Get the class with the highest probability as the predicted class\n",
    "            _, predicted_labels = torch.max(probabilities, 1)\n",
    "\n",
    "            # Append the predictions and labels to the lists\n",
    "            all_predictions.extend(predicted_labels.cpu().numpy())  # Convert back to CPU and extract the numpy array\n",
    "            all_labels.extend(labels.cpu().numpy())  # Convert back to CPU and extract the numpy array\n",
    "\n",
    "    # Calculate the accuracy of each model independently\n",
    "    correct_model1 = sum([1 for pred, true in zip(model1_predictions, all_labels) if pred == true])\n",
    "    correct_model2 = sum([1 for pred, true in zip(model2_predictions, all_labels) if pred == true])\n",
    "    correct_model3 = sum([1 for pred, true in zip(model3_predictions, all_labels) if pred == true])\n",
    "\n",
    "    total_samples = len(all_labels)\n",
    "    acc_model1 = correct_model1 / total_samples * 100\n",
    "    acc_model2 = correct_model2 / total_samples * 100\n",
    "    acc_model3 = correct_model3 / total_samples * 100\n",
    "\n",
    "    print(f'Model 1 Accuracy: {acc_model1:.5f}%')\n",
    "    print(f'Model 2 Accuracy: {acc_model2:.5f}%')\n",
    "    print(f'Model 3 Accuracy: {acc_model3:.5f}%')\n",
    "\n",
    "    # Calculate the combined accuracy\n",
    "    correct_combined = sum([1 for pred, true in zip(all_predictions, all_labels) if pred == true])\n",
    "    acc_combined = correct_combined / total_samples * 100\n",
    "    print(f'Combined Accuracy: {acc_combined:.5f}%')"
   ]
  }
 ],
 "metadata": {
  "kernelspec": {
   "display_name": "base",
   "language": "python",
   "name": "python3"
  },
  "language_info": {
   "codemirror_mode": {
    "name": "ipython",
    "version": 3
   },
   "file_extension": ".py",
   "mimetype": "text/x-python",
   "name": "python",
   "nbconvert_exporter": "python",
   "pygments_lexer": "ipython3",
   "version": "3.10.9"
  },
  "orig_nbformat": 4
 },
 "nbformat": 4,
 "nbformat_minor": 2
}
