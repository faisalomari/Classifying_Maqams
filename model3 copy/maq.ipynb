{
 "cells": [
  {
   "cell_type": "code",
   "execution_count": null,
   "metadata": {},
   "outputs": [],
   "source": [
    "import torch\n",
    "from torch.utils.data import DataLoader\n",
    "from model import MaqamCNN\n",
    "from dataset import MaqamDataset\n",
    "\n",
    "# Define training and validation datasets with specified test size\n",
    "train_dataset = MaqamDataset(mode='train', test_size=0.2)\n",
    "val_dataset = MaqamDataset(mode='val', test_size=0.2)\n",
    "\n",
    "# Define training and validation data loaders\n",
    "batch_size = 16\n",
    "train_loader = DataLoader(train_dataset, batch_size=batch_size, shuffle=True)\n",
    "val_loader = DataLoader(val_dataset, batch_size=batch_size, shuffle=False)"
   ]
  },
  {
   "cell_type": "code",
   "execution_count": null,
   "metadata": {},
   "outputs": [],
   "source": [
    "# Initialize model and define loss function and optimizer\n",
    "model = MaqamCNN()\n",
    "criterion = torch.nn.CrossEntropyLoss()\n",
    "optimizer = torch.optim.Adam(model.parameters(), lr=0.001)\n",
    "\n",
    "# Train the model for a specified number of epochs\n",
    "num_epochs = 50\n",
    "\n",
    "for epoch in range(num_epochs):\n",
    "    # Training loop\n",
    "    model.train()\n",
    "    for i, (inputs, targets, mfcc) in enumerate(train_loader):\n",
    "        optimizer.zero_grad()\n",
    "\n",
    "        outputs = model(inputs, mfcc)\n",
    "        loss = criterion(outputs, targets)\n",
    "\n",
    "        loss.backward()\n",
    "        optimizer.step()\n",
    "\n",
    "    # Validation loop\n",
    "    model.eval()\n",
    "    with torch.no_grad():\n",
    "        val_loss = 0.0\n",
    "        total_correct = 0\n",
    "        total_samples = 0\n",
    "        for inputs, targets, mfcc in val_loader:\n",
    "            outputs = model(inputs, mfcc)\n",
    "            val_loss += criterion(outputs, targets).item() * len(targets)\n",
    "\n",
    "            _, predicted_labels = torch.max(outputs, 1)\n",
    "            total_correct += (predicted_labels == targets).sum().item()\n",
    "            total_samples += len(targets)\n",
    "\n",
    "        val_loss /= len(val_dataset)\n",
    "        val_acc = float(total_correct) / total_samples\n",
    "\n",
    "    print(f'Epoch {epoch + 1:02d}: train_loss={loss.item():.5f}, val_loss={val_loss:.5f}, val_acc={val_acc:.5f}')\n",
    "\n",
    "# Save the trained model\n",
    "torch.save(model.state_dict(), 'maqam_cnn.pth')"
   ]
  },
  {
   "cell_type": "code",
   "execution_count": null,
   "metadata": {},
   "outputs": [],
   "source": [
    "# Test the model on new data\n",
    "test_dataset = MaqamDataset(mode='test')\n",
    "test_loader = DataLoader(test_dataset, batch_size=batch_size, shuffle=False)\n",
    "\n",
    "model.eval()\n",
    "with torch.no_grad():\n",
    "    total_correct = 0\n",
    "    total_samples = 0\n",
    "    for inputs, targets, mfcc in test_loader:\n",
    "        outputs = model(inputs, mfcc)\n",
    "        _, predicted_labels = torch.max(outputs, 1)\n",
    "        total_correct += (predicted_labels == targets).sum().item()\n",
    "        total_samples += len(targets)\n",
    "\n",
    "    test_acc = float(total_correct) / total_samples\n",
    "\n",
    "print(f'Test accuracy: {test_acc:.5f}')\n"
   ]
  }
 ],
 "metadata": {
  "language_info": {
   "name": "python"
  },
  "orig_nbformat": 4
 },
 "nbformat": 4,
 "nbformat_minor": 2
}
